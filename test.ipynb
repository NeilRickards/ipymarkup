{
 "cells": [
  {
   "cell_type": "code",
   "execution_count": 1,
   "metadata": {},
   "outputs": [],
   "source": [
    "from ipymarkup import *"
   ]
  },
  {
   "cell_type": "markdown",
   "metadata": {},
   "source": [
    "# Html"
   ]
  },
  {
   "cell_type": "code",
   "execution_count": 2,
   "metadata": {
    "scrolled": true
   },
   "outputs": [
    {
     "data": {
      "text/html": [
       "<table>\n",
       "<tr style=\"background: none\">\n",
       "<td style=\"width: 20%\">\n",
       "BoxMarkup\n",
       "</td>\n",
       "<td style=\"width: 20%\">\n",
       "BoxLabelMarkup\n",
       "</td>\n",
       "<td style=\"width: 20%\">\n",
       "LineMarkup\n",
       "</td>\n",
       "<td style=\"width: 20%\">\n",
       "LineLabelMarkup\n",
       "</td>\n",
       "<td style=\"width: 20%\">\n",
       "AsciiMarkup\n",
       "</td>\n",
       "</tr>\n",
       "<tr style=\"background: none\">\n",
       "<td style=\"width: 20%\">\n",
       "<div class=\"tex2jax_ignore\" style=\"white-space: pre-wrap\"><span style=\"padding: 0.15em; border-radius: 0.25em; border: 1px solid #c6e1f9; background: #ecf6ff\">a a a</span> <span style=\"padding: 0.15em; border-radius: 0.25em; border: 1px solid #ffd9b4; background: #fff1e4\">b b</span> <span style=\"padding: 0.15em; border-radius: 0.25em; border: 1px solid #afeca3; background: #efffec\">c c c</span></div>\n",
       "</td>\n",
       "<td style=\"width: 20%\">\n",
       "<div class=\"tex2jax_ignore\" style=\"white-space: pre-wrap\"><span style=\"padding: 0.15em; border-radius: 0.25em; border: 1px solid #fdf07c; background: #ffffc2\">a a a<sup style=\"font-size: 0.7em; color: #c3b95f;\">a</sup></span> <span style=\"padding: 0.15em; border-radius: 0.25em; border: 1px solid #fdf07c; background: #ffffc2\">b b<sup style=\"font-size: 0.7em; color: #c3b95f;\">b</sup></span> <span style=\"padding: 0.15em; border-radius: 0.25em; border: 1px solid #fdf07c; background: #ffffc2\">c c c<sup style=\"font-size: 0.7em; color: #c3b95f;\">c</sup></span></div>\n",
       "</td>\n",
       "<td style=\"width: 20%\">\n",
       "<div class=\"tex2jax_ignore\" style=\"line-height: 1.6em; white-space: pre-wrap\"><span style=\"border-bottom: 2px solid #ffbb78; padding-bottom: 1px\">a a a</span> <span style=\"border-bottom: 2px solid #98df8a; padding-bottom: 1px\">b b</span> <span style=\"border-bottom: 2px solid #ff9896; padding-bottom: 1px\">c c c</span></div>\n",
       "</td>\n",
       "<td style=\"width: 20%\">\n",
       "<div style=\"line-height: 1.6em; white-space: pre-wrap\"><span style=\"border-bottom: 2px solid #aec7e8; padding-bottom: 1px\">a a a</span><span style=\"display: inline-block; margin-left: 1px; font-size: 7px;\">a</span> <span style=\"border-bottom: 2px solid #aec7e8; padding-bottom: 1px\">b b</span><span style=\"display: inline-block; margin-left: 1px; font-size: 7px;\">b</span> <span style=\"border-bottom: 2px solid #aec7e8; padding-bottom: 1px\">c c c</span><span style=\"display: inline-block; margin-left: 1px; font-size: 7px;\">c</span></div>\n",
       "</td>\n",
       "<td style=\"width: 20%\">\n",
       "<pre>a a a b b c c c\n",
       "a---- b-- c----</pre>\n",
       "</td>\n",
       "</tr>\n",
       "<tr style=\"background: none\">\n",
       "<td style=\"width: 20%\">\n",
       "<div class=\"tex2jax_ignore\" style=\"white-space: pre-wrap\"><span style=\"padding: 0.15em; border-radius: 0.25em; border: 1px solid #c6e1f9; background: #ecf6ff\">a a a</span> <span style=\"padding: 0.15em; border-radius: 0.25em; border: 1px solid #ffd9b4; background: #fff1e4\">b b</span> <span style=\"padding: 0.15em; border-radius: 0.25em; border: 1px solid #afeca3; background: #efffec\">c</span> <span style=\"padding: 0.15em; border-radius: 0.25em; border: 1px solid #fdf07c; background: #ffffc2\">e</span> <span style=\"padding: 0.15em; border-radius: 0.25em; border: 1px solid #ffd6d5; background: #fff1f1\">d d d</span> <span style=\"padding: 0.15em; border-radius: 0.25em; border: 1px solid #c6e1f9; background: #ecf6ff\">f f</span> <span style=\"padding: 0.15em; border-radius: 0.25em; border: 1px solid #ffd9b4; background: #fff1e4\">g g</span> <span style=\"padding: 0.15em; border-radius: 0.25em; border: 1px solid #afeca3; background: #efffec\">h</span></div>\n",
       "</td>\n",
       "<td style=\"width: 20%\">\n",
       "<div class=\"tex2jax_ignore\" style=\"white-space: pre-wrap\"><span style=\"padding: 0.15em; border-radius: 0.25em; border: 1px solid #fdf07c; background: #ffffc2\">a a a<sup style=\"font-size: 0.7em; color: #c3b95f;\">a</sup></span> <span style=\"padding: 0.15em; border-radius: 0.25em; border: 1px solid #fdf07c; background: #ffffc2\">b b<sup style=\"font-size: 0.7em; color: #c3b95f;\">b</sup></span> <span style=\"padding: 0.15em; border-radius: 0.25em; border: 1px solid #fdf07c; background: #ffffc2\">c<sup style=\"font-size: 0.7em; color: #c3b95f;\">c</sup></span> <span style=\"padding: 0.15em; border-radius: 0.25em; border: 1px solid #fdf07c; background: #ffffc2\">e<sup style=\"font-size: 0.7em; color: #c3b95f;\">e</sup></span> <span style=\"padding: 0.15em; border-radius: 0.25em; border: 1px solid #fdf07c; background: #ffffc2\">d d d<sup style=\"font-size: 0.7em; color: #c3b95f;\">d</sup></span> <span style=\"padding: 0.15em; border-radius: 0.25em; border: 1px solid #fdf07c; background: #ffffc2\">f f<sup style=\"font-size: 0.7em; color: #c3b95f;\">f</sup></span> <span style=\"padding: 0.15em; border-radius: 0.25em; border: 1px solid #fdf07c; background: #ffffc2\">g g<sup style=\"font-size: 0.7em; color: #c3b95f;\">g</sup></span> <span style=\"padding: 0.15em; border-radius: 0.25em; border: 1px solid #fdf07c; background: #ffffc2\">h<sup style=\"font-size: 0.7em; color: #c3b95f;\">h</sup></span></div>\n",
       "</td>\n",
       "<td style=\"width: 20%\">\n",
       "<div class=\"tex2jax_ignore\" style=\"line-height: 1.6em; white-space: pre-wrap\"><span style=\"border-bottom: 2px solid #ffbb78; padding-bottom: 1px\">a a a</span> <span style=\"border-bottom: 2px solid #98df8a; padding-bottom: 1px\">b b</span> <span style=\"border-bottom: 2px solid #ff9896; padding-bottom: 1px\">c</span> <span style=\"border-bottom: 2px solid #aec7e8; padding-bottom: 1px\">e</span> <span style=\"border-bottom: 2px solid #c5b0d5; padding-bottom: 1px\">d d d</span> <span style=\"border-bottom: 2px solid #ffbb78; padding-bottom: 1px\">f f</span> <span style=\"border-bottom: 2px solid #98df8a; padding-bottom: 1px\">g g</span> <span style=\"border-bottom: 2px solid #ff9896; padding-bottom: 1px\">h</span></div>\n",
       "</td>\n",
       "<td style=\"width: 20%\">\n",
       "<div style=\"line-height: 1.6em; white-space: pre-wrap\"><span style=\"border-bottom: 2px solid #aec7e8; padding-bottom: 1px\">a a a</span><span style=\"display: inline-block; margin-left: 1px; font-size: 7px;\">a</span> <span style=\"border-bottom: 2px solid #aec7e8; padding-bottom: 1px\">b b</span><span style=\"display: inline-block; margin-left: 1px; font-size: 7px;\">b</span> <span style=\"border-bottom: 2px solid #aec7e8; padding-bottom: 1px\">c</span><span style=\"display: inline-block; margin-left: 1px; font-size: 7px;\">c</span> <span style=\"border-bottom: 2px solid #aec7e8; padding-bottom: 1px\">e</span><span style=\"display: inline-block; margin-left: 1px; font-size: 7px;\">e</span> <span style=\"border-bottom: 2px solid #aec7e8; padding-bottom: 1px\">d d d</span><span style=\"display: inline-block; margin-left: 1px; font-size: 7px;\">d</span> <span style=\"border-bottom: 2px solid #aec7e8; padding-bottom: 1px\">f f</span><span style=\"display: inline-block; margin-left: 1px; font-size: 7px;\">f</span> <span style=\"border-bottom: 2px solid #aec7e8; padding-bottom: 1px\">g g</span><span style=\"display: inline-block; margin-left: 1px; font-size: 7px;\">g</span> <span style=\"border-bottom: 2px solid #aec7e8; padding-bottom: 1px\">h</span><span style=\"display: inline-block; margin-left: 1px; font-size: 7px;\">h</span></div>\n",
       "</td>\n",
       "<td style=\"width: 20%\">\n",
       "<pre>a a a b b c e d d d f f g g h\n",
       "a---- b-- c e d---- f-- g-- h</pre>\n",
       "</td>\n",
       "</tr>\n",
       "<tr style=\"background: none\">\n",
       "<td style=\"width: 20%\">\n",
       "<div class=\"tex2jax_ignore\" style=\"white-space: pre-wrap\"><span style=\"padding: 0.15em; border-radius: 0.25em; border: 1px solid #c6e1f9; background: #ecf6ff\">a d a b a a a</span><span style=\"padding: 0.15em; border-radius: 0.25em; border: 1px solid #ffd6d5; background: #fff1f1\">d a b a a a b c c c f d</span><span style=\"padding: 0.15em; border-radius: 0.25em; border: 1px solid #ffd9b4; background: #fff1e4\">b a a a b</span> <span style=\"padding: 0.15em; border-radius: 0.25em; border: 1px solid #afeca3; background: #efffec\">c c c</span> <span style=\"padding: 0.15em; border-radius: 0.25em; border: 1px solid #c6e1f9; background: #ecf6ff\">f</span> d</div>\n",
       "</td>\n",
       "<td style=\"width: 20%\">\n",
       "<div class=\"tex2jax_ignore\" style=\"white-space: pre-wrap\"><span style=\"padding: 0.15em; border-radius: 0.25em; border: 1px solid #fdf07c; background: #ffffc2\">a d a b a a a<sup style=\"font-size: 0.7em; color: #c3b95f;\">a</sup></span><span style=\"padding: 0.15em; border-radius: 0.25em; border: 1px solid #fdf07c; background: #ffffc2\">d a b a a a b c c c f d<sup style=\"font-size: 0.7em; color: #c3b95f;\">d</sup></span><span style=\"padding: 0.15em; border-radius: 0.25em; border: 1px solid #fdf07c; background: #ffffc2\">b a a a b<sup style=\"font-size: 0.7em; color: #c3b95f;\">b</sup></span> <span style=\"padding: 0.15em; border-radius: 0.25em; border: 1px solid #fdf07c; background: #ffffc2\">c c c<sup style=\"font-size: 0.7em; color: #c3b95f;\">c</sup></span> <span style=\"padding: 0.15em; border-radius: 0.25em; border: 1px solid #fdf07c; background: #ffffc2\">f<sup style=\"font-size: 0.7em; color: #c3b95f;\">f</sup></span> d</div>\n",
       "</td>\n",
       "<td style=\"width: 20%\">\n",
       "<div class=\"tex2jax_ignore\" style=\"line-height: 1.6em; white-space: pre-wrap\"><span style=\"border-bottom: 2px solid #ffbb78; padding-bottom: 1px\">a </span><span style=\"border-bottom: 2px solid #ffbb78; padding-bottom: 1px\"><span style=\"border-bottom: 2px solid #c5b0d5; padding-bottom: 4px\">d a </span></span><span style=\"border-bottom: 2px solid #ffbb78; padding-bottom: 1px\"><span style=\"border-bottom: 2px solid #c5b0d5; padding-bottom: 4px\"><span style=\"border-bottom: 2px solid #98df8a; padding-bottom: 7px\">b a a a</span></span></span><span style=\"border-bottom: 2px solid #c5b0d5; padding-bottom: 4px\"><span style=\"border-bottom: 2px solid #98df8a; padding-bottom: 7px\"> b</span></span><span style=\"border-bottom: 2px solid #c5b0d5; padding-bottom: 4px\"> </span><span style=\"border-bottom: 2px solid #ff9896; padding-bottom: 1px\"><span style=\"border-bottom: 2px solid #c5b0d5; padding-bottom: 4px\">c c c</span></span><span style=\"border-bottom: 2px solid #c5b0d5; padding-bottom: 4px\"> </span><span style=\"border-bottom: 2px solid #ffbb78; padding-bottom: 1px\"><span style=\"border-bottom: 2px solid #c5b0d5; padding-bottom: 4px\">f</span></span><span style=\"border-bottom: 2px solid #c5b0d5; padding-bottom: 4px\"> d</span></div>\n",
       "</td>\n",
       "<td style=\"width: 20%\">\n",
       "<div style=\"line-height: 1.6em; white-space: pre-wrap\"><span style=\"border-bottom: 2px solid #aec7e8; padding-bottom: 1px\">a </span><span style=\"display: inline-block; margin-left: 1px; font-size: 7px;\">a</span><span style=\"border-bottom: 2px solid #aec7e8; padding-bottom: 1px\">d a </span><span style=\"display: inline-block; margin-left: 1px; font-size: 7px;\"><span style=\"display: block; height: 7px;\">a</span><span style=\"display: block; height: 7px;\">d</span></span><span style=\"border-bottom: 2px solid #aec7e8; padding-bottom: 1px\">b a a a</span><span style=\"display: inline-block; margin-left: 1px; font-size: 7px;\"><span style=\"display: block; height: 7px;\">a</span><span style=\"display: block; height: 7px;\">d</span><span style=\"display: block; height: 7px;\">b</span></span><span style=\"border-bottom: 2px solid #aec7e8; padding-bottom: 1px\"> b</span><span style=\"display: inline-block; margin-left: 1px; font-size: 7px;\"><span style=\"display: block; height: 7px;\">d</span><span style=\"display: block; height: 7px;\">b</span></span> <span style=\"border-bottom: 2px solid #aec7e8; padding-bottom: 1px\">c c c</span><span style=\"display: inline-block; margin-left: 1px; font-size: 7px;\"><span style=\"display: block; height: 7px;\">c</span><span style=\"display: block; height: 7px;\">d</span></span> <span style=\"border-bottom: 2px solid #aec7e8; padding-bottom: 1px\">f</span><span style=\"display: inline-block; margin-left: 1px; font-size: 7px;\"><span style=\"display: block; height: 7px;\">f</span><span style=\"display: block; height: 7px;\">d</span></span><span style=\"border-bottom: 2px solid #aec7e8; padding-bottom: 1px\"> d</span><span style=\"display: inline-block; margin-left: 1px; font-size: 7px;\">d</span></div>\n",
       "</td>\n",
       "<td style=\"width: 20%\">\n",
       "<pre>a d a b a a a b c c c f d\n",
       "a------------   c---- f  \n",
       "  d----------------------\n",
       "      b--------          </pre>\n",
       "</td>\n",
       "</tr>\n",
       "<tr style=\"background: none\">\n",
       "<td style=\"width: 20%\">\n",
       "<div class=\"tex2jax_ignore\" style=\"white-space: pre-wrap\"><span style=\"padding: 0.15em; border-radius: 0.25em; border: 1px solid #c6e1f9; background: #ecf6ff\">a b b c c d e f g h h i i a</span><span style=\"padding: 0.15em; border-radius: 0.25em; border: 1px solid #ffd9b4; background: #fff1e4\">b b</span> <span style=\"padding: 0.15em; border-radius: 0.25em; border: 1px solid #afeca3; background: #efffec\">c c</span> <span style=\"padding: 0.15em; border-radius: 0.25em; border: 1px solid #ffd6d5; background: #fff1f1\">d</span> <span style=\"padding: 0.15em; border-radius: 0.25em; border: 1px solid #fdf07c; background: #ffffc2\">e</span> <span style=\"padding: 0.15em; border-radius: 0.25em; border: 1px solid #c6e1f9; background: #ecf6ff\">f</span> <span style=\"padding: 0.15em; border-radius: 0.25em; border: 1px solid #ffd9b4; background: #fff1e4\">g</span> <span style=\"padding: 0.15em; border-radius: 0.25em; border: 1px solid #afeca3; background: #efffec\">h h</span> <span style=\"padding: 0.15em; border-radius: 0.25em; border: 1px solid #ffd6d5; background: #fff1f1\">i i</span> a</div>\n",
       "</td>\n",
       "<td style=\"width: 20%\">\n",
       "<div class=\"tex2jax_ignore\" style=\"white-space: pre-wrap\"><span style=\"padding: 0.15em; border-radius: 0.25em; border: 1px solid #fdf07c; background: #ffffc2\">a b b c c d e f g h h i i a<sup style=\"font-size: 0.7em; color: #c3b95f;\">a</sup></span><span style=\"padding: 0.15em; border-radius: 0.25em; border: 1px solid #fdf07c; background: #ffffc2\">b b<sup style=\"font-size: 0.7em; color: #c3b95f;\">b</sup></span> <span style=\"padding: 0.15em; border-radius: 0.25em; border: 1px solid #fdf07c; background: #ffffc2\">c c<sup style=\"font-size: 0.7em; color: #c3b95f;\">c</sup></span> <span style=\"padding: 0.15em; border-radius: 0.25em; border: 1px solid #fdf07c; background: #ffffc2\">d<sup style=\"font-size: 0.7em; color: #c3b95f;\">d</sup></span> <span style=\"padding: 0.15em; border-radius: 0.25em; border: 1px solid #fdf07c; background: #ffffc2\">e<sup style=\"font-size: 0.7em; color: #c3b95f;\">e</sup></span> <span style=\"padding: 0.15em; border-radius: 0.25em; border: 1px solid #fdf07c; background: #ffffc2\">f<sup style=\"font-size: 0.7em; color: #c3b95f;\">f</sup></span> <span style=\"padding: 0.15em; border-radius: 0.25em; border: 1px solid #fdf07c; background: #ffffc2\">g<sup style=\"font-size: 0.7em; color: #c3b95f;\">g</sup></span> <span style=\"padding: 0.15em; border-radius: 0.25em; border: 1px solid #fdf07c; background: #ffffc2\">h h<sup style=\"font-size: 0.7em; color: #c3b95f;\">h</sup></span> <span style=\"padding: 0.15em; border-radius: 0.25em; border: 1px solid #fdf07c; background: #ffffc2\">i i<sup style=\"font-size: 0.7em; color: #c3b95f;\">i</sup></span> a</div>\n",
       "</td>\n",
       "<td style=\"width: 20%\">\n",
       "<div class=\"tex2jax_ignore\" style=\"line-height: 1.6em; white-space: pre-wrap\"><span style=\"border-bottom: 2px solid #ffbb78; padding-bottom: 1px\">a </span><span style=\"border-bottom: 2px solid #ffbb78; padding-bottom: 1px\"><span style=\"border-bottom: 2px solid #98df8a; padding-bottom: 4px\">b b</span></span><span style=\"border-bottom: 2px solid #ffbb78; padding-bottom: 1px\"> </span><span style=\"border-bottom: 2px solid #ffbb78; padding-bottom: 1px\"><span style=\"border-bottom: 2px solid #ff9896; padding-bottom: 4px\">c c</span></span><span style=\"border-bottom: 2px solid #ffbb78; padding-bottom: 1px\"> </span><span style=\"border-bottom: 2px solid #ffbb78; padding-bottom: 1px\"><span style=\"border-bottom: 2px solid #c5b0d5; padding-bottom: 4px\">d</span></span><span style=\"border-bottom: 2px solid #ffbb78; padding-bottom: 1px\"> </span><span style=\"border-bottom: 2px solid #ffbb78; padding-bottom: 1px\"><span style=\"border-bottom: 2px solid #aec7e8; padding-bottom: 4px\">e</span></span><span style=\"border-bottom: 2px solid #ffbb78; padding-bottom: 1px\"> </span><span style=\"border-bottom: 2px solid #ffbb78; padding-bottom: 1px\"><span style=\"border-bottom: 2px solid #ffbb78; padding-bottom: 4px\">f</span></span><span style=\"border-bottom: 2px solid #ffbb78; padding-bottom: 1px\"> </span><span style=\"border-bottom: 2px solid #ffbb78; padding-bottom: 1px\"><span style=\"border-bottom: 2px solid #98df8a; padding-bottom: 4px\">g</span></span><span style=\"border-bottom: 2px solid #ffbb78; padding-bottom: 1px\"> </span><span style=\"border-bottom: 2px solid #ffbb78; padding-bottom: 1px\"><span style=\"border-bottom: 2px solid #ff9896; padding-bottom: 4px\">h h</span></span><span style=\"border-bottom: 2px solid #ffbb78; padding-bottom: 1px\"> </span><span style=\"border-bottom: 2px solid #ffbb78; padding-bottom: 1px\"><span style=\"border-bottom: 2px solid #c5b0d5; padding-bottom: 4px\">i i</span></span><span style=\"border-bottom: 2px solid #ffbb78; padding-bottom: 1px\"> a</span></div>\n",
       "</td>\n",
       "<td style=\"width: 20%\">\n",
       "<div style=\"line-height: 1.6em; white-space: pre-wrap\"><span style=\"border-bottom: 2px solid #aec7e8; padding-bottom: 1px\">a </span><span style=\"display: inline-block; margin-left: 1px; font-size: 7px;\">a</span><span style=\"border-bottom: 2px solid #aec7e8; padding-bottom: 1px\">b b</span><span style=\"display: inline-block; margin-left: 1px; font-size: 7px;\"><span style=\"display: block; height: 7px;\">a</span><span style=\"display: block; height: 7px;\">b</span></span> <span style=\"border-bottom: 2px solid #aec7e8; padding-bottom: 1px\">c c</span><span style=\"display: inline-block; margin-left: 1px; font-size: 7px;\"><span style=\"display: block; height: 7px;\">a</span><span style=\"display: block; height: 7px;\">c</span></span> <span style=\"border-bottom: 2px solid #aec7e8; padding-bottom: 1px\">d</span><span style=\"display: inline-block; margin-left: 1px; font-size: 7px;\"><span style=\"display: block; height: 7px;\">a</span><span style=\"display: block; height: 7px;\">d</span></span> <span style=\"border-bottom: 2px solid #aec7e8; padding-bottom: 1px\">e</span><span style=\"display: inline-block; margin-left: 1px; font-size: 7px;\"><span style=\"display: block; height: 7px;\">a</span><span style=\"display: block; height: 7px;\">e</span></span> <span style=\"border-bottom: 2px solid #aec7e8; padding-bottom: 1px\">f</span><span style=\"display: inline-block; margin-left: 1px; font-size: 7px;\"><span style=\"display: block; height: 7px;\">a</span><span style=\"display: block; height: 7px;\">f</span></span> <span style=\"border-bottom: 2px solid #aec7e8; padding-bottom: 1px\">g</span><span style=\"display: inline-block; margin-left: 1px; font-size: 7px;\"><span style=\"display: block; height: 7px;\">a</span><span style=\"display: block; height: 7px;\">g</span></span> <span style=\"border-bottom: 2px solid #aec7e8; padding-bottom: 1px\">h h</span><span style=\"display: inline-block; margin-left: 1px; font-size: 7px;\"><span style=\"display: block; height: 7px;\">a</span><span style=\"display: block; height: 7px;\">h</span></span> <span style=\"border-bottom: 2px solid #aec7e8; padding-bottom: 1px\">i i</span><span style=\"display: inline-block; margin-left: 1px; font-size: 7px;\"><span style=\"display: block; height: 7px;\">a</span><span style=\"display: block; height: 7px;\">i</span></span><span style=\"border-bottom: 2px solid #aec7e8; padding-bottom: 1px\"> a</span><span style=\"display: inline-block; margin-left: 1px; font-size: 7px;\">a</span></div>\n",
       "</td>\n",
       "<td style=\"width: 20%\">\n",
       "<pre>a b b c c d e f g h h i i a\n",
       "a--------------------------\n",
       "  b-- c-- d e f g h-- i--  </pre>\n",
       "</td>\n",
       "</tr>\n",
       "</table>"
      ],
      "text/plain": [
       "<IPython.core.display.HTML object>"
      ]
     },
     "metadata": {},
     "output_type": "display_data"
    }
   ],
   "source": [
    "from ipymarkup.example import show_table\n",
    "show_table()"
   ]
  },
  {
   "cell_type": "code",
   "execution_count": 3,
   "metadata": {},
   "outputs": [],
   "source": [
    "from ipymarkup.example import show_html"
   ]
  },
  {
   "cell_type": "code",
   "execution_count": 4,
   "metadata": {},
   "outputs": [
    {
     "data": {
      "text/html": [
       "<div class=\"tex2jax_ignore\" style=\"white-space: pre-wrap\">\n",
       "\n",
       "<span style=\"padding: 0.15em; border-radius: 0.25em; border: 1px solid #fdf07c; background: #ffffc2\">\n",
       "&lt;i&gt;\n",
       "</span>\n",
       "abc&lt;/i&gt;\n",
       "</div>"
      ],
      "text/plain": [
       "<IPython.core.display.HTML object>"
      ]
     },
     "metadata": {},
     "output_type": "display_data"
    }
   ],
   "source": [
    "# to hide u' in python2\n",
    "text = '<i>abc</i>'\n",
    "spans = [Span(0, 3)]\n",
    "show_html(BoxMarkup(text, spans).as_html)"
   ]
  },
  {
   "cell_type": "code",
   "execution_count": 5,
   "metadata": {},
   "outputs": [
    {
     "data": {
      "text/html": [
       "<div class=\"tex2jax_ignore\" style=\"white-space: pre-wrap\">\n",
       "\\begin{aligned}\n",
       "  \\nabla \\cdot \\vec{\\mathbf{B}} = 0\n",
       "\\end{aligned}\n",
       "</div>"
      ],
      "text/plain": [
       "<IPython.core.display.HTML object>"
      ]
     },
     "metadata": {},
     "output_type": "display_data"
    }
   ],
   "source": [
    "text = r'''\\begin{aligned}\n",
    "  \\nabla \\cdot \\vec{\\mathbf{B}} = 0\n",
    "\\end{aligned}'''\n",
    "spans = []\n",
    "show_html(BoxMarkup(text, spans).as_html)"
   ]
  },
  {
   "cell_type": "markdown",
   "metadata": {},
   "source": [
    "# Ascii"
   ]
  },
  {
   "cell_type": "code",
   "execution_count": 6,
   "metadata": {},
   "outputs": [
    {
     "data": {
      "text/plain": [
       "a d a b a a a b c c c f d\n",
       "a------------   c---- f  \n",
       "  d----------------------\n",
       "      b--------          \n"
      ]
     },
     "execution_count": 6,
     "metadata": {},
     "output_type": "execute_result"
    }
   ],
   "source": [
    "text = 'a d a b a a a b c c c f d'\n",
    "spans = [\n",
    "    Span(0, 13, 'a'),\n",
    "    Span(2, 25, 'd'),\n",
    "    Span(6, 15, 'b'),\n",
    "    Span(16, 21, 'c'),\n",
    "    Span(22, 23, 'f'),\n",
    "]\n",
    "\n",
    "AsciiMarkup(text, spans)"
   ]
  },
  {
   "cell_type": "code",
   "execution_count": 7,
   "metadata": {},
   "outputs": [
    {
     "data": {
      "text/plain": [
       "a d a b \n",
       "a-------\n",
       "  d-----\n",
       "      b-\n",
       "a a a b \n",
       "-----   \n",
       "--------\n",
       "------- \n",
       "c c c f \n",
       "c---- f \n",
       "--------\n",
       "d\n",
       " \n",
       "-\n"
      ]
     },
     "execution_count": 7,
     "metadata": {},
     "output_type": "execute_result"
    }
   ],
   "source": [
    "AsciiMarkup(text, spans, width=8)"
   ]
  },
  {
   "cell_type": "code",
   "execution_count": 8,
   "metadata": {},
   "outputs": [
    {
     "data": {
      "text/plain": [
       "0123456789\n",
       "abc   abcd\n",
       " abcdef-- \n",
       "0123456789\n",
       "-----     \n"
      ]
     },
     "execution_count": 8,
     "metadata": {},
     "output_type": "execute_result"
    }
   ],
   "source": [
    "text = '01234567890123456789'\n",
    "spans = [\n",
    "    Span(6, 15, 'abcdef'),\n",
    "    Span(0, 3, 'abcdef'),\n",
    "    Span(1, 9, 'abcdef')\n",
    "]\n",
    "AsciiMarkup(text, spans, width=10)"
   ]
  },
  {
   "cell_type": "code",
   "execution_count": 9,
   "metadata": {},
   "outputs": [
    {
     "data": {
      "text/plain": [
       "123\n"
      ]
     },
     "execution_count": 9,
     "metadata": {},
     "output_type": "execute_result"
    }
   ],
   "source": [
    "text = '123'\n",
    "spans = []\n",
    "AsciiMarkup(text, spans)"
   ]
  },
  {
   "cell_type": "code",
   "execution_count": 10,
   "metadata": {},
   "outputs": [
    {
     "data": {
      "text/plain": [
       " 1\n",
       " -\n",
       "34\n",
       "--\n"
      ]
     },
     "execution_count": 10,
     "metadata": {},
     "output_type": "execute_result"
    }
   ],
   "source": [
    "text = '''\\t1\n",
    "34'''\n",
    "spans = [Span(1, 5)]\n",
    "AsciiMarkup(text, spans)"
   ]
  },
  {
   "cell_type": "code",
   "execution_count": 11,
   "metadata": {},
   "outputs": [
    {
     "data": {
      "text/plain": [
       "0123456\n",
       "---    \n",
       "a--    \n",
       "c--    \n",
       "-----  \n"
      ]
     },
     "execution_count": 11,
     "metadata": {},
     "output_type": "execute_result"
    }
   ],
   "source": [
    "text = '''0123456'''\n",
    "spans = [\n",
    "    Span(0, 5),\n",
    "    Span(0, 3),\n",
    "    Span(0, 3, 'a'),\n",
    "    Span(0, 3, 'c')\n",
    "]\n",
    "AsciiMarkup(text, spans)"
   ]
  },
  {
   "cell_type": "code",
   "execution_count": 12,
   "metadata": {},
   "outputs": [
    {
     "data": {
      "text/plain": [
       "0123456\n",
       "---    \n",
       "a--    \n",
       "c--    \n",
       "-----  \n"
      ]
     },
     "execution_count": 12,
     "metadata": {},
     "output_type": "execute_result"
    }
   ],
   "source": [
    "class C(object):\n",
    "    def __init__(self, start, stop, type):\n",
    "        self.start = start\n",
    "        self.stop = stop\n",
    "        self.type = type\n",
    "\n",
    "        \n",
    "spans = [\n",
    "    (0, 5),\n",
    "    [0, 3],\n",
    "    (0, 3, 'a'),\n",
    "    C(0, 3, 'c'),\n",
    "]\n",
    "markup(text, spans, AsciiMarkup)"
   ]
  }
 ],
 "metadata": {
  "": {
   "display_name": "Python 3",
   "language": "python",
   "name": "python3"
  },
  "kernelspec": {
   "display_name": "Python 3",
   "language": "python",
   "name": "python3"
  },
  "language_info": {
   "codemirror_mode": {
    "name": "ipython",
    "version": 3
   },
   "file_extension": ".py",
   "mimetype": "text/x-python",
   "name": "python",
   "nbconvert_exporter": "python",
   "pygments_lexer": "ipython3",
   "version": "3.5.1"
  }
 },
 "nbformat": 4,
 "nbformat_minor": 2
}
