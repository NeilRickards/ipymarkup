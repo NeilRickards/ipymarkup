{
 "cells": [
  {
   "cell_type": "markdown",
   "metadata": {},
   "source": [
    "# ipymarkup"
   ]
  },
  {
   "cell_type": "markdown",
   "metadata": {},
   "source": [
    "<a href=\"https://en.wikipedia.org/wiki/Named-entity_recognition\">NER</a> markup visualization for Jupyter Notebook, similar to <a href=\"https://explosion.ai/demos/displacy-ent\">DisplaCy NER</a>."
   ]
  },
  {
   "cell_type": "code",
   "execution_count": 1,
   "metadata": {
    "scrolled": false
   },
   "outputs": [
    {
     "data": {
      "text/html": [
       "<table>\n",
       "<tr style=\"background: none\">\n",
       "<td style=\"width: 20%\">\n",
       "BoxMarkup\n",
       "</td>\n",
       "<td style=\"width: 20%\">\n",
       "LineMarkup\n",
       "</td>\n",
       "<td style=\"width: 20%\">\n",
       "AsciiMarkup\n",
       "</td>\n",
       "</tr>\n",
       "<tr style=\"background: none\">\n",
       "<td style=\"width: 20%\">\n",
       "<div class=\"tex2jax_ignore\" style=\"white-space: pre-wrap\"><span style=\"padding: 2px; border-radius: 4px; border: 1px solid #fdf07c; background: #ffffc2\">a a a<span style=\"vertical-align: middle; margin-left: 2px; font-size: 0.7em; color: #c3b95f;\">a</span></span> <span style=\"padding: 2px; border-radius: 4px; border: 1px solid #c6e1f9; background: #ecf6ff\">b b<span style=\"vertical-align: middle; margin-left: 2px; font-size: 0.7em; color: #98bbda;\">b</span></span> <span style=\"padding: 2px; border-radius: 4px; border: 1px solid #ffd9b4; background: #fff1e4\">c c c<span style=\"vertical-align: middle; margin-left: 2px; font-size: 0.7em; color: #ffbb78;\">c</span></span></div>\n",
       "</td>\n",
       "<td style=\"width: 20%\">\n",
       "<div class=\"tex2jax_ignore\" style=\"white-space: pre-wrap\"><div><span style=\"display: inline-block; vertical-align: top\"></span><span style=\"display: inline-block; vertical-align: top; position: relative; margin-bottom: 11px\"><span style=\"border-bottom: 3px solid #aec7e8; padding-bottom: 8px\">a a a</span><span style=\"font-size: 11px; line-height: 1; text-shadow: 1px 1px 0px white; position: absolute; left: 0; bottom: -8px\">a</span></span><span style=\"display: inline-block; vertical-align: top\"> </span><span style=\"display: inline-block; vertical-align: top; position: relative; margin-bottom: 11px\"><span style=\"border-bottom: 3px solid #ffbb78; padding-bottom: 8px\">b b</span><span style=\"font-size: 11px; line-height: 1; text-shadow: 1px 1px 0px white; position: absolute; left: 0; bottom: -8px\">b</span></span><span style=\"display: inline-block; vertical-align: top\"> </span><span style=\"display: inline-block; vertical-align: top; position: relative; margin-bottom: 11px\"><span style=\"border-bottom: 3px solid #98df8a; padding-bottom: 8px\">c c c</span><span style=\"font-size: 11px; line-height: 1; text-shadow: 1px 1px 0px white; position: absolute; left: 0; bottom: -8px\">c</span></span><span style=\"display: inline-block; vertical-align: top\"></span></div></div>\n",
       "</td>\n",
       "<td style=\"width: 20%\">\n",
       "<pre>a a a b b c c c\n",
       "a---- b-- c----</pre>\n",
       "</td>\n",
       "</tr>\n",
       "<tr style=\"background: none\">\n",
       "<td style=\"width: 20%\">\n",
       "<div class=\"tex2jax_ignore\" style=\"white-space: pre-wrap\"><span style=\"padding: 2px; border-radius: 4px; border: 1px solid #fdf07c; background: #ffffc2\">a a a<span style=\"vertical-align: middle; margin-left: 2px; font-size: 0.7em; color: #c3b95f;\">a</span></span> <span style=\"padding: 2px; border-radius: 4px; border: 1px solid #c6e1f9; background: #ecf6ff\">b b<span style=\"vertical-align: middle; margin-left: 2px; font-size: 0.7em; color: #98bbda;\">b</span></span> <span style=\"padding: 2px; border-radius: 4px; border: 1px solid #ffd9b4; background: #fff1e4\">c<span style=\"vertical-align: middle; margin-left: 2px; font-size: 0.7em; color: #ffbb78;\">c</span></span> <span style=\"padding: 2px; border-radius: 4px; border: 1px solid #ffd6d5; background: #fff1f1\">e<span style=\"vertical-align: middle; margin-left: 2px; font-size: 0.7em; color: #ff9896;\">e</span></span> <span style=\"padding: 2px; border-radius: 4px; border: 1px solid #afeca3; background: #efffec\">d d d<span style=\"vertical-align: middle; margin-left: 2px; font-size: 0.7em; color: #98df8a;\">d</span></span> <span style=\"padding: 2px; border-radius: 4px; border: 1px solid #fdf07c; background: #ffffc2\">f f<span style=\"vertical-align: middle; margin-left: 2px; font-size: 0.7em; color: #c3b95f;\">f</span></span> <span style=\"padding: 2px; border-radius: 4px; border: 1px solid #c6e1f9; background: #ecf6ff\">g g<span style=\"vertical-align: middle; margin-left: 2px; font-size: 0.7em; color: #98bbda;\">g</span></span> <span style=\"padding: 2px; border-radius: 4px; border: 1px solid #ffd9b4; background: #fff1e4\">h<span style=\"vertical-align: middle; margin-left: 2px; font-size: 0.7em; color: #ffbb78;\">h</span></span></div>\n",
       "</td>\n",
       "<td style=\"width: 20%\">\n",
       "<div class=\"tex2jax_ignore\" style=\"white-space: pre-wrap\"><div><span style=\"display: inline-block; vertical-align: top\"></span><span style=\"display: inline-block; vertical-align: top; position: relative; margin-bottom: 11px\"><span style=\"border-bottom: 3px solid #aec7e8; padding-bottom: 8px\">a a a</span><span style=\"font-size: 11px; line-height: 1; text-shadow: 1px 1px 0px white; position: absolute; left: 0; bottom: -8px\">a</span></span><span style=\"display: inline-block; vertical-align: top\"> </span><span style=\"display: inline-block; vertical-align: top; position: relative; margin-bottom: 11px\"><span style=\"border-bottom: 3px solid #ffbb78; padding-bottom: 8px\">b b</span><span style=\"font-size: 11px; line-height: 1; text-shadow: 1px 1px 0px white; position: absolute; left: 0; bottom: -8px\">b</span></span><span style=\"display: inline-block; vertical-align: top\"> </span><span style=\"display: inline-block; vertical-align: top; position: relative; margin-bottom: 11px\"><span style=\"border-bottom: 3px solid #98df8a; padding-bottom: 8px\">c</span><span style=\"font-size: 11px; line-height: 1; text-shadow: 1px 1px 0px white; position: absolute; left: 0; bottom: -8px\">c</span></span><span style=\"display: inline-block; vertical-align: top\"> </span><span style=\"display: inline-block; vertical-align: top; position: relative; margin-bottom: 11px\"><span style=\"border-bottom: 3px solid #c5b0d5; padding-bottom: 8px\">e</span><span style=\"font-size: 11px; line-height: 1; text-shadow: 1px 1px 0px white; position: absolute; left: 0; bottom: -8px\">e</span></span><span style=\"display: inline-block; vertical-align: top\"> </span><span style=\"display: inline-block; vertical-align: top; position: relative; margin-bottom: 11px\"><span style=\"border-bottom: 3px solid #ff9896; padding-bottom: 8px\">d d d</span><span style=\"font-size: 11px; line-height: 1; text-shadow: 1px 1px 0px white; position: absolute; left: 0; bottom: -8px\">d</span></span><span style=\"display: inline-block; vertical-align: top\"> </span><span style=\"display: inline-block; vertical-align: top; position: relative; margin-bottom: 11px\"><span style=\"border-bottom: 3px solid #aec7e8; padding-bottom: 8px\">f f</span><span style=\"font-size: 11px; line-height: 1; text-shadow: 1px 1px 0px white; position: absolute; left: 0; bottom: -8px\">f</span></span><span style=\"display: inline-block; vertical-align: top\"> </span><span style=\"display: inline-block; vertical-align: top; position: relative; margin-bottom: 11px\"><span style=\"border-bottom: 3px solid #ffbb78; padding-bottom: 8px\">g g</span><span style=\"font-size: 11px; line-height: 1; text-shadow: 1px 1px 0px white; position: absolute; left: 0; bottom: -8px\">g</span></span><span style=\"display: inline-block; vertical-align: top\"> </span><span style=\"display: inline-block; vertical-align: top; position: relative; margin-bottom: 11px\"><span style=\"border-bottom: 3px solid #98df8a; padding-bottom: 8px\">h</span><span style=\"font-size: 11px; line-height: 1; text-shadow: 1px 1px 0px white; position: absolute; left: 0; bottom: -8px\">h</span></span><span style=\"display: inline-block; vertical-align: top\"></span></div></div>\n",
       "</td>\n",
       "<td style=\"width: 20%\">\n",
       "<pre>a a a b b c e d d d f f g g h\n",
       "a---- b-- c e d---- f-- g-- h</pre>\n",
       "</td>\n",
       "</tr>\n",
       "<tr style=\"background: none\">\n",
       "<td style=\"width: 20%\">\n",
       "<div class=\"tex2jax_ignore\" style=\"white-space: pre-wrap\"><span style=\"padding: 2px; border-radius: 4px; border: 1px solid #fdf07c; background: #ffffc2\">a d a b a a a<span style=\"vertical-align: middle; margin-left: 2px; font-size: 0.7em; color: #c3b95f;\">a</span></span><span style=\"padding: 2px; border-radius: 4px; border: 1px solid #afeca3; background: #efffec\">d a b a a a b c c c f d<span style=\"vertical-align: middle; margin-left: 2px; font-size: 0.7em; color: #98df8a;\">d</span></span><span style=\"padding: 2px; border-radius: 4px; border: 1px solid #c6e1f9; background: #ecf6ff\">b a a a b<span style=\"vertical-align: middle; margin-left: 2px; font-size: 0.7em; color: #98bbda;\">b</span></span> <span style=\"padding: 2px; border-radius: 4px; border: 1px solid #ffd9b4; background: #fff1e4\">c c c<span style=\"vertical-align: middle; margin-left: 2px; font-size: 0.7em; color: #ffbb78;\">c</span></span> <span style=\"padding: 2px; border-radius: 4px; border: 1px solid #fdf07c; background: #ffffc2\">f<span style=\"vertical-align: middle; margin-left: 2px; font-size: 0.7em; color: #c3b95f;\">f</span></span> d</div>\n",
       "</td>\n",
       "<td style=\"width: 20%\">\n",
       "<div class=\"tex2jax_ignore\" style=\"white-space: pre-wrap\"><div><span style=\"display: inline-block; vertical-align: top\"></span><span style=\"display: inline-block; vertical-align: top; position: relative; margin-bottom: 11px\"><span style=\"border-bottom: 3px solid #aec7e8; padding-bottom: 8px\">a </span><span style=\"font-size: 11px; line-height: 1; text-shadow: 1px 1px 0px white; position: absolute; left: 0; bottom: -8px\">a</span></span><span style=\"display: inline-block; vertical-align: top\"></span><span style=\"display: inline-block; vertical-align: top; position: relative; margin-bottom: 22px\"><span style=\"border-bottom: 3px solid #aec7e8; padding-bottom: 8px\"><span style=\"border-bottom: 3px solid #ff9896; padding-bottom: 19px\">d a </span></span><span style=\"font-size: 11px; line-height: 1; text-shadow: 1px 1px 0px white; position: absolute; left: 0; bottom: -19px\">d</span></span><span style=\"display: inline-block; vertical-align: top\"></span><span style=\"display: inline-block; vertical-align: top; position: relative; margin-bottom: 33px\"><span style=\"border-bottom: 3px solid #aec7e8; padding-bottom: 8px\"><span style=\"border-bottom: 3px solid #ff9896; padding-bottom: 19px\"><span style=\"border-bottom: 3px solid #ffbb78; padding-bottom: 30px\">b a a a</span></span></span><span style=\"font-size: 11px; line-height: 1; text-shadow: 1px 1px 0px white; position: absolute; left: 0; bottom: -30px\">b</span></span><span style=\"display: inline-block; vertical-align: top\"></span><span style=\"display: inline-block; vertical-align: top; position: relative; margin-bottom: 33px\"><span style=\"border-bottom: 3px solid #ff9896; padding-bottom: 19px\"><span style=\"border-bottom: 3px solid #ffbb78; padding-bottom: 30px\"> b</span></span></span><span style=\"display: inline-block; vertical-align: top\"></span><span style=\"display: inline-block; vertical-align: top; position: relative; margin-bottom: 22px\"><span style=\"border-bottom: 3px solid #ff9896; padding-bottom: 19px\"> </span></span><span style=\"display: inline-block; vertical-align: top\"></span><span style=\"display: inline-block; vertical-align: top; position: relative; margin-bottom: 22px\"><span style=\"border-bottom: 3px solid #98df8a; padding-bottom: 8px\"><span style=\"border-bottom: 3px solid #ff9896; padding-bottom: 19px\">c c c</span></span><span style=\"font-size: 11px; line-height: 1; text-shadow: 1px 1px 0px white; position: absolute; left: 0; bottom: -8px\">c</span></span><span style=\"display: inline-block; vertical-align: top\"></span><span style=\"display: inline-block; vertical-align: top; position: relative; margin-bottom: 22px\"><span style=\"border-bottom: 3px solid #ff9896; padding-bottom: 19px\"> </span></span><span style=\"display: inline-block; vertical-align: top\"></span><span style=\"display: inline-block; vertical-align: top; position: relative; margin-bottom: 22px\"><span style=\"border-bottom: 3px solid #aec7e8; padding-bottom: 8px\"><span style=\"border-bottom: 3px solid #ff9896; padding-bottom: 19px\">f</span></span><span style=\"font-size: 11px; line-height: 1; text-shadow: 1px 1px 0px white; position: absolute; left: 0; bottom: -8px\">f</span></span><span style=\"display: inline-block; vertical-align: top\"></span><span style=\"display: inline-block; vertical-align: top; position: relative; margin-bottom: 22px\"><span style=\"border-bottom: 3px solid #ff9896; padding-bottom: 19px\"> d</span></span><span style=\"display: inline-block; vertical-align: top\"></span></div></div>\n",
       "</td>\n",
       "<td style=\"width: 20%\">\n",
       "<pre>a d a b a a a b c c c f d\n",
       "a------------   c---- f  \n",
       "  d----------------------\n",
       "      b--------          </pre>\n",
       "</td>\n",
       "</tr>\n",
       "<tr style=\"background: none\">\n",
       "<td style=\"width: 20%\">\n",
       "<div class=\"tex2jax_ignore\" style=\"white-space: pre-wrap\"><span style=\"padding: 2px; border-radius: 4px; border: 1px solid #fdf07c; background: #ffffc2\">a b b c c d e f g h h i i a<span style=\"vertical-align: middle; margin-left: 2px; font-size: 0.7em; color: #c3b95f;\">a</span></span><span style=\"padding: 2px; border-radius: 4px; border: 1px solid #c6e1f9; background: #ecf6ff\">b b<span style=\"vertical-align: middle; margin-left: 2px; font-size: 0.7em; color: #98bbda;\">b</span></span> <span style=\"padding: 2px; border-radius: 4px; border: 1px solid #ffd9b4; background: #fff1e4\">c c<span style=\"vertical-align: middle; margin-left: 2px; font-size: 0.7em; color: #ffbb78;\">c</span></span> <span style=\"padding: 2px; border-radius: 4px; border: 1px solid #afeca3; background: #efffec\">d<span style=\"vertical-align: middle; margin-left: 2px; font-size: 0.7em; color: #98df8a;\">d</span></span> <span style=\"padding: 2px; border-radius: 4px; border: 1px solid #ffd6d5; background: #fff1f1\">e<span style=\"vertical-align: middle; margin-left: 2px; font-size: 0.7em; color: #ff9896;\">e</span></span> <span style=\"padding: 2px; border-radius: 4px; border: 1px solid #fdf07c; background: #ffffc2\">f<span style=\"vertical-align: middle; margin-left: 2px; font-size: 0.7em; color: #c3b95f;\">f</span></span> <span style=\"padding: 2px; border-radius: 4px; border: 1px solid #c6e1f9; background: #ecf6ff\">g<span style=\"vertical-align: middle; margin-left: 2px; font-size: 0.7em; color: #98bbda;\">g</span></span> <span style=\"padding: 2px; border-radius: 4px; border: 1px solid #ffd9b4; background: #fff1e4\">h h<span style=\"vertical-align: middle; margin-left: 2px; font-size: 0.7em; color: #ffbb78;\">h</span></span> <span style=\"padding: 2px; border-radius: 4px; border: 1px solid #afeca3; background: #efffec\">i i<span style=\"vertical-align: middle; margin-left: 2px; font-size: 0.7em; color: #98df8a;\">i</span></span> a</div>\n",
       "</td>\n",
       "<td style=\"width: 20%\">\n",
       "<div class=\"tex2jax_ignore\" style=\"white-space: pre-wrap\"><div><span style=\"display: inline-block; vertical-align: top\"></span><span style=\"display: inline-block; vertical-align: top; position: relative; margin-bottom: 11px\"><span style=\"border-bottom: 3px solid #aec7e8; padding-bottom: 8px\">a </span><span style=\"font-size: 11px; line-height: 1; text-shadow: 1px 1px 0px white; position: absolute; left: 0; bottom: -8px\">a</span></span><span style=\"display: inline-block; vertical-align: top\"></span><span style=\"display: inline-block; vertical-align: top; position: relative; margin-bottom: 22px\"><span style=\"border-bottom: 3px solid #aec7e8; padding-bottom: 8px\"><span style=\"border-bottom: 3px solid #ffbb78; padding-bottom: 19px\">b b</span></span><span style=\"font-size: 11px; line-height: 1; text-shadow: 1px 1px 0px white; position: absolute; left: 0; bottom: -19px\">b</span></span><span style=\"display: inline-block; vertical-align: top\"></span><span style=\"display: inline-block; vertical-align: top; position: relative; margin-bottom: 11px\"><span style=\"border-bottom: 3px solid #aec7e8; padding-bottom: 8px\"> </span></span><span style=\"display: inline-block; vertical-align: top\"></span><span style=\"display: inline-block; vertical-align: top; position: relative; margin-bottom: 22px\"><span style=\"border-bottom: 3px solid #aec7e8; padding-bottom: 8px\"><span style=\"border-bottom: 3px solid #98df8a; padding-bottom: 19px\">c c</span></span><span style=\"font-size: 11px; line-height: 1; text-shadow: 1px 1px 0px white; position: absolute; left: 0; bottom: -19px\">c</span></span><span style=\"display: inline-block; vertical-align: top\"></span><span style=\"display: inline-block; vertical-align: top; position: relative; margin-bottom: 11px\"><span style=\"border-bottom: 3px solid #aec7e8; padding-bottom: 8px\"> </span></span><span style=\"display: inline-block; vertical-align: top\"></span><span style=\"display: inline-block; vertical-align: top; position: relative; margin-bottom: 22px\"><span style=\"border-bottom: 3px solid #aec7e8; padding-bottom: 8px\"><span style=\"border-bottom: 3px solid #ff9896; padding-bottom: 19px\">d</span></span><span style=\"font-size: 11px; line-height: 1; text-shadow: 1px 1px 0px white; position: absolute; left: 0; bottom: -19px\">d</span></span><span style=\"display: inline-block; vertical-align: top\"></span><span style=\"display: inline-block; vertical-align: top; position: relative; margin-bottom: 11px\"><span style=\"border-bottom: 3px solid #aec7e8; padding-bottom: 8px\"> </span></span><span style=\"display: inline-block; vertical-align: top\"></span><span style=\"display: inline-block; vertical-align: top; position: relative; margin-bottom: 22px\"><span style=\"border-bottom: 3px solid #aec7e8; padding-bottom: 8px\"><span style=\"border-bottom: 3px solid #c5b0d5; padding-bottom: 19px\">e</span></span><span style=\"font-size: 11px; line-height: 1; text-shadow: 1px 1px 0px white; position: absolute; left: 0; bottom: -19px\">e</span></span><span style=\"display: inline-block; vertical-align: top\"></span><span style=\"display: inline-block; vertical-align: top; position: relative; margin-bottom: 11px\"><span style=\"border-bottom: 3px solid #aec7e8; padding-bottom: 8px\"> </span></span><span style=\"display: inline-block; vertical-align: top\"></span><span style=\"display: inline-block; vertical-align: top; position: relative; margin-bottom: 22px\"><span style=\"border-bottom: 3px solid #aec7e8; padding-bottom: 8px\"><span style=\"border-bottom: 3px solid #aec7e8; padding-bottom: 19px\">f</span></span><span style=\"font-size: 11px; line-height: 1; text-shadow: 1px 1px 0px white; position: absolute; left: 0; bottom: -19px\">f</span></span><span style=\"display: inline-block; vertical-align: top\"></span><span style=\"display: inline-block; vertical-align: top; position: relative; margin-bottom: 11px\"><span style=\"border-bottom: 3px solid #aec7e8; padding-bottom: 8px\"> </span></span><span style=\"display: inline-block; vertical-align: top\"></span><span style=\"display: inline-block; vertical-align: top; position: relative; margin-bottom: 22px\"><span style=\"border-bottom: 3px solid #aec7e8; padding-bottom: 8px\"><span style=\"border-bottom: 3px solid #ffbb78; padding-bottom: 19px\">g</span></span><span style=\"font-size: 11px; line-height: 1; text-shadow: 1px 1px 0px white; position: absolute; left: 0; bottom: -19px\">g</span></span><span style=\"display: inline-block; vertical-align: top\"></span><span style=\"display: inline-block; vertical-align: top; position: relative; margin-bottom: 11px\"><span style=\"border-bottom: 3px solid #aec7e8; padding-bottom: 8px\"> </span></span><span style=\"display: inline-block; vertical-align: top\"></span><span style=\"display: inline-block; vertical-align: top; position: relative; margin-bottom: 22px\"><span style=\"border-bottom: 3px solid #aec7e8; padding-bottom: 8px\"><span style=\"border-bottom: 3px solid #98df8a; padding-bottom: 19px\">h h</span></span><span style=\"font-size: 11px; line-height: 1; text-shadow: 1px 1px 0px white; position: absolute; left: 0; bottom: -19px\">h</span></span><span style=\"display: inline-block; vertical-align: top\"></span><span style=\"display: inline-block; vertical-align: top; position: relative; margin-bottom: 11px\"><span style=\"border-bottom: 3px solid #aec7e8; padding-bottom: 8px\"> </span></span><span style=\"display: inline-block; vertical-align: top\"></span><span style=\"display: inline-block; vertical-align: top; position: relative; margin-bottom: 22px\"><span style=\"border-bottom: 3px solid #aec7e8; padding-bottom: 8px\"><span style=\"border-bottom: 3px solid #ff9896; padding-bottom: 19px\">i i</span></span><span style=\"font-size: 11px; line-height: 1; text-shadow: 1px 1px 0px white; position: absolute; left: 0; bottom: -19px\">i</span></span><span style=\"display: inline-block; vertical-align: top\"></span><span style=\"display: inline-block; vertical-align: top; position: relative; margin-bottom: 11px\"><span style=\"border-bottom: 3px solid #aec7e8; padding-bottom: 8px\"> a</span></span><span style=\"display: inline-block; vertical-align: top\"></span></div></div>\n",
       "</td>\n",
       "<td style=\"width: 20%\">\n",
       "<pre>a b b c c d e f g h h i i a\n",
       "a--------------------------\n",
       "  b-- c-- d e f g h-- i--  </pre>\n",
       "</td>\n",
       "</tr>\n",
       "</table>"
      ],
      "text/plain": [
       "<IPython.core.display.HTML object>"
      ]
     },
     "metadata": {},
     "output_type": "display_data"
    }
   ],
   "source": [
    "from ipymarkup.example import show_table\n",
    "show_table()"
   ]
  },
  {
   "cell_type": "markdown",
   "metadata": {},
   "source": [
    "## Install"
   ]
  },
  {
   "cell_type": "markdown",
   "metadata": {},
   "source": [
    "`ipymarkup` supports both Python 2.7+ / 3.4+, non Jupyter functionality should work on 2.7+ / 3.3+, PyPy."
   ]
  },
  {
   "cell_type": "markdown",
   "metadata": {},
   "source": [
    "## API"
   ]
  },
  {
   "cell_type": "markdown",
   "metadata": {},
   "source": [
    "The most minimal interface is `show_markup`:"
   ]
  },
  {
   "cell_type": "code",
   "execution_count": 2,
   "metadata": {},
   "outputs": [
    {
     "data": {
      "text/html": [
       "<div class=\"tex2jax_ignore\" style=\"white-space: pre-wrap\"><span style=\"padding: 2px; border-radius: 4px; border: 1px solid #fdf07c; background: #ffffc2\">South Korean</span> <span style=\"padding: 2px; border-radius: 4px; border: 1px solid #fdf07c; background: #ffffc2\">President</span> <span style=\"padding: 2px; border-radius: 4px; border: 1px solid #fdf07c; background: #ffffc2\">Moon Jae-in</span> announced in a joint press conference on <span style=\"padding: 2px; border-radius: 4px; border: 1px solid #fdf07c; background: #ffffc2\">23 July</span> ...</div>"
      ],
      "text/plain": [
       "BoxMarkup('South Korean President Moon Jae-in announced in a joint press conference on 23 July ...',\n",
       "          [Span(0, 12, None),\n",
       "           Span(13, 22, None),\n",
       "           Span(23, 34, None),\n",
       "           Span(76, 83, None)],\n",
       "          Palette([Color('#ffffc2', Color('#fdf07c', Color('#c3b95f', None))),\n",
       "                   Color('#ecf6ff', Color('#c6e1f9', Color('#98bbda', None))),\n",
       "                   Color('#fff1e4', Color('#ffd9b4', Color('#ffbb78', None))),\n",
       "                   Color('#efffec', Color('#afeca3', Color('#98df8a', None))),\n",
       "                   Color('#fff1f1',\n",
       "                         Color('#ffd6d5', Color('#ff9896', None)))]))"
      ]
     },
     "metadata": {},
     "output_type": "display_data"
    }
   ],
   "source": [
    "from ipymarkup import show_markup\n",
    "\n",
    "\n",
    "text = 'South Korean President Moon Jae-in announced in a joint press conference on 23 July ...'\n",
    "spans = [\n",
    "    (0, 12),\n",
    "    (13, 22),\n",
    "    (23, 34),\n",
    "    (76, 83)\n",
    "]\n",
    "show_markup(text, spans)"
   ]
  },
  {
   "cell_type": "markdown",
   "metadata": {},
   "source": [
    "An element of `spans` can be `tuple` or object with `start`, `stop` and `type` attributes:"
   ]
  },
  {
   "cell_type": "code",
   "execution_count": 3,
   "metadata": {},
   "outputs": [
    {
     "data": {
      "text/html": [
       "<div class=\"tex2jax_ignore\" style=\"white-space: pre-wrap\">0<span style=\"padding: 2px; border-radius: 4px; border: 1px solid #fdf07c; background: #ffffc2\">1</span>2<span style=\"padding: 2px; border-radius: 4px; border: 1px solid #c6e1f9; background: #ecf6ff\">3<span style=\"vertical-align: middle; margin-left: 2px; font-size: 0.7em; color: #98bbda;\">b</span></span>4<span style=\"padding: 2px; border-radius: 4px; border: 1px solid #fdf07c; background: #ffffc2\">5</span>6<span style=\"padding: 2px; border-radius: 4px; border: 1px solid #fdf07c; background: #ffffc2\">7</span>8<span style=\"padding: 2px; border-radius: 4px; border: 1px solid #ffd9b4; background: #fff1e4\">9<span style=\"vertical-align: middle; margin-left: 2px; font-size: 0.7em; color: #ffbb78;\">c</span></span></div>"
      ],
      "text/plain": [
       "BoxMarkup('0123456789',\n",
       "          [Span(1, 2, None),\n",
       "           Span(3, 4, 'b'),\n",
       "           Span(5, 6, None),\n",
       "           Span(7, 8, None),\n",
       "           Span(9, 10, 'c')],\n",
       "          Palette([Color('#ffffc2', Color('#fdf07c', Color('#c3b95f', None))),\n",
       "                   Color('#ecf6ff', Color('#c6e1f9', Color('#98bbda', None))),\n",
       "                   Color('#fff1e4', Color('#ffd9b4', Color('#ffbb78', None))),\n",
       "                   Color('#efffec', Color('#afeca3', Color('#98df8a', None))),\n",
       "                   Color('#fff1f1',\n",
       "                         Color('#ffd6d5', Color('#ff9896', None)))]))"
      ]
     },
     "metadata": {},
     "output_type": "display_data"
    }
   ],
   "source": [
    "class C(object):\n",
    "    def __init__(self, start, stop, type=None):\n",
    "        self.start = start\n",
    "        self.stop = stop\n",
    "        self.type = type\n",
    "        \n",
    "        \n",
    "text = '0123456789'\n",
    "spans = [\n",
    "    (1, 2),\n",
    "    (3, 4, 'b'),\n",
    "    [5, 6],\n",
    "    C(7, 8),\n",
    "    C(9, 10, 'c')\n",
    "]\n",
    "show_markup(text, spans)"
   ]
  },
  {
   "cell_type": "markdown",
   "metadata": {},
   "source": [
    "`show_markup(...)` is an alias to `display(markup(...))`. `markup` has 3 arguments `text`, `spans` and optional `Markup` that defines the visualization type (`BoxMarkup` by default):"
   ]
  },
  {
   "cell_type": "code",
   "execution_count": 4,
   "metadata": {},
   "outputs": [
    {
     "data": {
      "text/html": [
       "<div class=\"tex2jax_ignore\" style=\"white-space: pre-wrap\"><div><span style=\"display: inline-block; vertical-align: top\"></span><span style=\"display: inline-block; vertical-align: top; position: relative; margin-bottom: 11px\"><span style=\"border-bottom: 3px solid #aec7e8; padding-bottom: 8px\">a </span><span style=\"font-size: 11px; line-height: 1; text-shadow: 1px 1px 0px white; position: absolute; left: 0; bottom: -8px\">a</span></span><span style=\"display: inline-block; vertical-align: top\"></span><span style=\"display: inline-block; vertical-align: top; position: relative; margin-bottom: 22px\"><span style=\"border-bottom: 3px solid #aec7e8; padding-bottom: 8px\"><span style=\"border-bottom: 3px solid #ff9896; padding-bottom: 19px\">d a </span></span><span style=\"font-size: 11px; line-height: 1; text-shadow: 1px 1px 0px white; position: absolute; left: 0; bottom: -19px\">d</span></span><span style=\"display: inline-block; vertical-align: top\"></span><span style=\"display: inline-block; vertical-align: top; position: relative; margin-bottom: 33px\"><span style=\"border-bottom: 3px solid #aec7e8; padding-bottom: 8px\"><span style=\"border-bottom: 3px solid #ff9896; padding-bottom: 19px\"><span style=\"border-bottom: 3px solid #ffbb78; padding-bottom: 30px\">b a a a</span></span></span><span style=\"font-size: 11px; line-height: 1; text-shadow: 1px 1px 0px white; position: absolute; left: 0; bottom: -30px\">b</span></span><span style=\"display: inline-block; vertical-align: top\"></span><span style=\"display: inline-block; vertical-align: top; position: relative; margin-bottom: 33px\"><span style=\"border-bottom: 3px solid #ff9896; padding-bottom: 19px\"><span style=\"border-bottom: 3px solid #ffbb78; padding-bottom: 30px\"> b</span></span></span><span style=\"display: inline-block; vertical-align: top\"></span><span style=\"display: inline-block; vertical-align: top; position: relative; margin-bottom: 22px\"><span style=\"border-bottom: 3px solid #ff9896; padding-bottom: 19px\"> </span></span><span style=\"display: inline-block; vertical-align: top\"></span><span style=\"display: inline-block; vertical-align: top; position: relative; margin-bottom: 22px\"><span style=\"border-bottom: 3px solid #98df8a; padding-bottom: 8px\"><span style=\"border-bottom: 3px solid #ff9896; padding-bottom: 19px\">c c c</span></span><span style=\"font-size: 11px; line-height: 1; text-shadow: 1px 1px 0px white; position: absolute; left: 0; bottom: -8px\">c</span></span><span style=\"display: inline-block; vertical-align: top\"></span><span style=\"display: inline-block; vertical-align: top; position: relative; margin-bottom: 22px\"><span style=\"border-bottom: 3px solid #ff9896; padding-bottom: 19px\"> </span></span><span style=\"display: inline-block; vertical-align: top\"></span><span style=\"display: inline-block; vertical-align: top; position: relative; margin-bottom: 22px\"><span style=\"border-bottom: 3px solid #aec7e8; padding-bottom: 8px\"><span style=\"border-bottom: 3px solid #ff9896; padding-bottom: 19px\">f</span></span><span style=\"font-size: 11px; line-height: 1; text-shadow: 1px 1px 0px white; position: absolute; left: 0; bottom: -8px\">f</span></span><span style=\"display: inline-block; vertical-align: top\"></span><span style=\"display: inline-block; vertical-align: top; position: relative; margin-bottom: 22px\"><span style=\"border-bottom: 3px solid #ff9896; padding-bottom: 19px\"> d</span></span><span style=\"display: inline-block; vertical-align: top\"></span></div></div>"
      ],
      "text/plain": [
       "LineMarkup('a d a b a a a b c c c f d',\n",
       "           [Span(0, 13, 'a'),\n",
       "            Span(2, 25, 'd'),\n",
       "            Span(6, 15, 'b'),\n",
       "            Span(16, 21, 'c'),\n",
       "            Span(22, 23, 'f')],\n",
       "           Palette([Color('#aec7e8', None),\n",
       "                    Color('#ffbb78', None),\n",
       "                    Color('#98df8a', None),\n",
       "                    Color('#ff9896', None),\n",
       "                    Color('#c5b0d5', None)]))"
      ]
     },
     "execution_count": 4,
     "metadata": {},
     "output_type": "execute_result"
    }
   ],
   "source": [
    "from ipymarkup import markup, LineMarkup\n",
    "\n",
    "text = 'a d a b a a a b c c c f d'\n",
    "spans = [\n",
    "    (0, 13, 'a'),\n",
    "    (2, 25, 'd'),\n",
    "    (6, 15, 'b'),\n",
    "    (16, 21, 'c'),\n",
    "    (22, 23, 'f'),\n",
    "]\n",
    "markup(text, spans, LineMarkup)"
   ]
  },
  {
   "cell_type": "markdown",
   "metadata": {},
   "source": [
    "`markup` automatically converts `spans` to a sequence of `Span` objects. The previous example is equivalent to:"
   ]
  },
  {
   "cell_type": "code",
   "execution_count": 5,
   "metadata": {},
   "outputs": [
    {
     "data": {
      "text/html": [
       "<div class=\"tex2jax_ignore\" style=\"white-space: pre-wrap\"><div><span style=\"display: inline-block; vertical-align: top\"></span><span style=\"display: inline-block; vertical-align: top; position: relative; margin-bottom: 11px\"><span style=\"border-bottom: 3px solid #aec7e8; padding-bottom: 8px\">a </span><span style=\"font-size: 11px; line-height: 1; text-shadow: 1px 1px 0px white; position: absolute; left: 0; bottom: -8px\">a</span></span><span style=\"display: inline-block; vertical-align: top\"></span><span style=\"display: inline-block; vertical-align: top; position: relative; margin-bottom: 22px\"><span style=\"border-bottom: 3px solid #aec7e8; padding-bottom: 8px\"><span style=\"border-bottom: 3px solid #ff9896; padding-bottom: 19px\">d a </span></span><span style=\"font-size: 11px; line-height: 1; text-shadow: 1px 1px 0px white; position: absolute; left: 0; bottom: -19px\">d</span></span><span style=\"display: inline-block; vertical-align: top\"></span><span style=\"display: inline-block; vertical-align: top; position: relative; margin-bottom: 33px\"><span style=\"border-bottom: 3px solid #aec7e8; padding-bottom: 8px\"><span style=\"border-bottom: 3px solid #ff9896; padding-bottom: 19px\"><span style=\"border-bottom: 3px solid #ffbb78; padding-bottom: 30px\">b a a a</span></span></span><span style=\"font-size: 11px; line-height: 1; text-shadow: 1px 1px 0px white; position: absolute; left: 0; bottom: -30px\">b</span></span><span style=\"display: inline-block; vertical-align: top\"></span><span style=\"display: inline-block; vertical-align: top; position: relative; margin-bottom: 33px\"><span style=\"border-bottom: 3px solid #ff9896; padding-bottom: 19px\"><span style=\"border-bottom: 3px solid #ffbb78; padding-bottom: 30px\"> b</span></span></span><span style=\"display: inline-block; vertical-align: top\"></span><span style=\"display: inline-block; vertical-align: top; position: relative; margin-bottom: 22px\"><span style=\"border-bottom: 3px solid #ff9896; padding-bottom: 19px\"> </span></span><span style=\"display: inline-block; vertical-align: top\"></span><span style=\"display: inline-block; vertical-align: top; position: relative; margin-bottom: 22px\"><span style=\"border-bottom: 3px solid #98df8a; padding-bottom: 8px\"><span style=\"border-bottom: 3px solid #ff9896; padding-bottom: 19px\">c c c</span></span><span style=\"font-size: 11px; line-height: 1; text-shadow: 1px 1px 0px white; position: absolute; left: 0; bottom: -8px\">c</span></span><span style=\"display: inline-block; vertical-align: top\"></span><span style=\"display: inline-block; vertical-align: top; position: relative; margin-bottom: 22px\"><span style=\"border-bottom: 3px solid #ff9896; padding-bottom: 19px\"> </span></span><span style=\"display: inline-block; vertical-align: top\"></span><span style=\"display: inline-block; vertical-align: top; position: relative; margin-bottom: 22px\"><span style=\"border-bottom: 3px solid #aec7e8; padding-bottom: 8px\"><span style=\"border-bottom: 3px solid #ff9896; padding-bottom: 19px\">f</span></span><span style=\"font-size: 11px; line-height: 1; text-shadow: 1px 1px 0px white; position: absolute; left: 0; bottom: -8px\">f</span></span><span style=\"display: inline-block; vertical-align: top\"></span><span style=\"display: inline-block; vertical-align: top; position: relative; margin-bottom: 22px\"><span style=\"border-bottom: 3px solid #ff9896; padding-bottom: 19px\"> d</span></span><span style=\"display: inline-block; vertical-align: top\"></span></div></div>"
      ],
      "text/plain": [
       "LineMarkup('a d a b a a a b c c c f d',\n",
       "           [Span(0, 13, 'a'),\n",
       "            Span(2, 25, 'd'),\n",
       "            Span(6, 15, 'b'),\n",
       "            Span(16, 21, 'c'),\n",
       "            Span(22, 23, 'f')],\n",
       "           Palette([Color('#aec7e8', None),\n",
       "                    Color('#ffbb78', None),\n",
       "                    Color('#98df8a', None),\n",
       "                    Color('#ff9896', None),\n",
       "                    Color('#c5b0d5', None)]))"
      ]
     },
     "execution_count": 5,
     "metadata": {},
     "output_type": "execute_result"
    }
   ],
   "source": [
    "from ipymarkup import Span\n",
    "\n",
    "text = 'a d a b a a a b c c c f d'\n",
    "spans = [\n",
    "    Span(0, 13, 'a'),\n",
    "    Span(2, 25, 'd'),\n",
    "    Span(6, 15, 'b'),\n",
    "    Span(16, 21, 'c'),\n",
    "    Span(22, 23, 'f'),\n",
    "]\n",
    "LineMarkup(text, spans)"
   ]
  },
  {
   "cell_type": "markdown",
   "metadata": {},
   "source": [
    "There is a number of visualizations available with the sample interface, for example, `AsciiMarkup`:"
   ]
  },
  {
   "cell_type": "code",
   "execution_count": 6,
   "metadata": {
    "scrolled": true
   },
   "outputs": [
    {
     "data": {
      "text/plain": [
       "a d a b a a a b c c c f d\n",
       "a------------   c---- f  \n",
       "  d----------------------\n",
       "      b--------          \n"
      ]
     },
     "execution_count": 6,
     "metadata": {},
     "output_type": "execute_result"
    }
   ],
   "source": [
    "from ipymarkup import AsciiMarkup\n",
    "\n",
    "AsciiMarkup(text, spans)"
   ]
  },
  {
   "cell_type": "markdown",
   "metadata": {},
   "source": [
    "## Visualizations"
   ]
  },
  {
   "cell_type": "code",
   "execution_count": 7,
   "metadata": {},
   "outputs": [],
   "source": [
    "from ipymarkup import *\n",
    "from ipymarkup.example import *"
   ]
  },
  {
   "cell_type": "markdown",
   "metadata": {},
   "source": [
    "All visualizations have the same interface, they have text and markup as input and format them. Markup is a sequence of spans. Each span defines the start, stop and type of substring: name, geo or date, for example.\n",
    "\n",
    "The most common case is nonoverlapping spans. If there are just 1-3 different types of spans, simple `BoxMarkup` does the job:"
   ]
  },
  {
   "cell_type": "code",
   "execution_count": 8,
   "metadata": {},
   "outputs": [
    {
     "data": {
      "text/html": [
       "<div class=\"tex2jax_ignore\" style=\"white-space: pre-wrap\">Так говорила в <span style=\"padding: 2px; border-radius: 4px; border: 1px solid #c6e1f9; background: #ecf6ff\">июле 1805 года<span style=\"vertical-align: middle; margin-left: 2px; font-size: 0.7em; color: #98bbda;\">Date</span></span> известная <span style=\"padding: 2px; border-radius: 4px; border: 1px solid #ffd9b4; background: #fff1e4\">Анна Павловна Шерер<span style=\"vertical-align: middle; margin-left: 2px; font-size: 0.7em; color: #ffbb78;\">Name</span></span>, фрейлина и приближенная императрицы <span style=\"padding: 2px; border-radius: 4px; border: 1px solid #ffd9b4; background: #fff1e4\">Марии Феодоровны<span style=\"vertical-align: middle; margin-left: 2px; font-size: 0.7em; color: #ffbb78;\">Name</span></span>, встречая важного и чиновного князя <span style=\"padding: 2px; border-radius: 4px; border: 1px solid #ffd9b4; background: #fff1e4\">Василия<span style=\"vertical-align: middle; margin-left: 2px; font-size: 0.7em; color: #ffbb78;\">Name</span></span>, первого приехавшего на ее вечер. <span style=\"padding: 2px; border-radius: 4px; border: 1px solid #ffd9b4; background: #fff1e4\">Анна Павловна<span style=\"vertical-align: middle; margin-left: 2px; font-size: 0.7em; color: #ffbb78;\">Name</span></span> кашляла несколько дней, у нее был грипп, как она говорила (грипп был тогда новое слово, употреблявшееся только редкими).</div>"
      ],
      "text/plain": [
       "BoxMarkup('Так говорила в июле 1805 года известная Анна Павловна Шерер, фрейлина и приближенная императрицы Марии Феодоровны, встречая важного и чиновного князя Василия, первого приехавшего на ее вечер. Анна Павловна кашляла несколько дней, у нее был грипп, как она говорила (грипп был тогда новое слово, употреблявшееся только редкими).',\n",
       "          [Span(15, 29, 'Date'),\n",
       "           Span(40, 59, 'Name'),\n",
       "           Span(97, 113, 'Name'),\n",
       "           Span(150, 157, 'Name'),\n",
       "           Span(192, 205, 'Name')],\n",
       "          Palette([Color('#ffffc2', Color('#fdf07c', Color('#c3b95f', None))),\n",
       "                   Color('#ecf6ff', Color('#c6e1f9', Color('#98bbda', None))),\n",
       "                   Color('#fff1e4', Color('#ffd9b4', Color('#ffbb78', None))),\n",
       "                   Color('#efffec', Color('#afeca3', Color('#98df8a', None))),\n",
       "                   Color('#fff1f1',\n",
       "                         Color('#ffd6d5', Color('#ff9896', None)))]))"
      ]
     },
     "execution_count": 8,
     "metadata": {},
     "output_type": "execute_result"
    }
   ],
   "source": [
    "BoxMarkup(TEXT1, SPANS1)"
   ]
  },
  {
   "cell_type": "code",
   "execution_count": 9,
   "metadata": {},
   "outputs": [
    {
     "data": {
      "text/html": [
       "<div class=\"tex2jax_ignore\" style=\"white-space: pre-wrap\">\t  \n",
       "\n",
       "\n",
       "\t <span style=\"padding: 2px; border-radius: 4px; border: 1px solid #afeca3; background: #efffec\">Кустов Дмитрий Владимирович<span style=\"vertical-align: middle; margin-left: 2px; font-size: 0.7em; color: #98df8a;\">NAME</span></span>\n",
       "<span style=\"padding: 2px; border-radius: 4px; border: 1px solid #ffd6d5; background: #fff1f1\">Мужчина<span style=\"vertical-align: middle; margin-left: 2px; font-size: 0.7em; color: #ff9896;\">GENDER</span></span>, 35 лет, <span style=\"padding: 2px; border-radius: 4px; border: 1px solid #fdf07c; background: #ffffc2\">родился 7 августа 1979<span style=\"vertical-align: middle; margin-left: 2px; font-size: 0.7em; color: #c3b95f;\">BIRTH</span></span>\n",
       "\n",
       "<span style=\"padding: 2px; border-radius: 4px; border: 1px solid #c6e1f9; background: #ecf6ff\">+7 (926) 217-87-15<span style=\"vertical-align: middle; margin-left: 2px; font-size: 0.7em; color: #98bbda;\">PHONE</span></span> - желаемый способ связи\n",
       "<span style=\"padding: 2px; border-radius: 4px; border: 1px solid #c6e1f9; background: #ecf6ff\">+7 (926) 565-91-98<span style=\"vertical-align: middle; margin-left: 2px; font-size: 0.7em; color: #98bbda;\">PHONE</span></span>\n",
       "<span style=\"padding: 2px; border-radius: 4px; border: 1px solid #ffd9b4; background: #fff1e4\">dvkustov@gmail.com<span style=\"vertical-align: middle; margin-left: 2px; font-size: 0.7em; color: #ffbb78;\">EMAIL</span></span>\n",
       "Skype: dkustov\n",
       "\n",
       "<span style=\"padding: 2px; border-radius: 4px; border: 1px solid #afeca3; background: #efffec\">Проживает: Москва, м. Савеловская<span style=\"vertical-align: middle; margin-left: 2px; font-size: 0.7em; color: #98df8a;\">LIVES_AT</span></span>\n",
       "<span style=\"padding: 2px; border-radius: 4px; border: 1px solid #ffd6d5; background: #fff1f1\">Гражданство: Россия<span style=\"vertical-align: middle; margin-left: 2px; font-size: 0.7em; color: #ff9896;\">CITIZENSHIP</span></span>, <span style=\"padding: 2px; border-radius: 4px; border: 1px solid #fdf07c; background: #ffffc2\">есть разрешение на работу: Россия<span style=\"vertical-align: middle; margin-left: 2px; font-size: 0.7em; color: #c3b95f;\">PERMISSION</span></span>\n",
       "<span style=\"padding: 2px; border-radius: 4px; border: 1px solid #c6e1f9; background: #ecf6ff\">Не готов к переезду<span style=\"vertical-align: middle; margin-left: 2px; font-size: 0.7em; color: #98bbda;\">RELOCATION</span></span>, <span style=\"padding: 2px; border-radius: 4px; border: 1px solid #ffd9b4; background: #fff1e4\">готов к командировкам<span style=\"vertical-align: middle; margin-left: 2px; font-size: 0.7em; color: #ffbb78;\">TRAVEL</span></span>\n",
       "\n",
       "\tЖелаемая должность и зарплата\n",
       "\n",
       "\t<span style=\"padding: 2px; border-radius: 4px; border: 1px solid #afeca3; background: #efffec\">CIO, CTO, Руководитель отдела разработки программного обеспечения<span style=\"vertical-align: middle; margin-left: 2px; font-size: 0.7em; color: #98df8a;\">POSITION</span></span>\n",
       "<span style=\"padding: 2px; border-radius: 4px; border: 1px solid #ffd6d5; background: #fff1f1\">Информационные технологии, интернет, телеком<span style=\"vertical-align: middle; margin-left: 2px; font-size: 0.7em; color: #ff9896;\">SECTION</span></span>\n",
       "<span style=\"padding: 2px; border-radius: 4px; border: 1px solid #fdf07c; background: #ffffc2\">• Управление проектами<span style=\"vertical-align: middle; margin-left: 2px; font-size: 0.7em; color: #c3b95f;\">SUBSECTION</span></span>\n",
       "<span style=\"padding: 2px; border-radius: 4px; border: 1px solid #fdf07c; background: #ffffc2\">• Программирование, Разработка<span style=\"vertical-align: middle; margin-left: 2px; font-size: 0.7em; color: #c3b95f;\">SUBSECTION</span></span>\n",
       "<span style=\"padding: 2px; border-radius: 4px; border: 1px solid #fdf07c; background: #ffffc2\">• CTO, CIO, Директор по IT<span style=\"vertical-align: middle; margin-left: 2px; font-size: 0.7em; color: #c3b95f;\">SUBSECTION</span></span>\n",
       "\n",
       "<span style=\"padding: 2px; border-radius: 4px; border: 1px solid #c6e1f9; background: #ecf6ff\">Занятость: полная занятость<span style=\"vertical-align: middle; margin-left: 2px; font-size: 0.7em; color: #98bbda;\">EMPLOYMENT</span></span>\n",
       "<span style=\"padding: 2px; border-radius: 4px; border: 1px solid #ffd9b4; background: #fff1e4\">График работы: полный день<span style=\"vertical-align: middle; margin-left: 2px; font-size: 0.7em; color: #ffbb78;\">SCHEDULE</span></span>\n",
       "\n",
       "<span style=\"padding: 2px; border-radius: 4px; border: 1px solid #afeca3; background: #efffec\">Желательное время в пути до работы: не имеет значения<span style=\"vertical-align: middle; margin-left: 2px; font-size: 0.7em; color: #98df8a;\">COMMUTE</span></span>\n",
       "...\n",
       "</div>"
      ],
      "text/plain": [
       "BoxMarkup('\\t  \\n\\n\\n\\t Кустов Дмитрий Владимирович\\nМужчина, 35 лет, родился 7 августа 1979\\n\\n+7 (926) 217-87-15 - желаемый способ связи\\n+7 (926) 565-91-98\\ndvkustov@gmail.com\\nSkype: dkustov\\n\\nПроживает: Москва, м. Савеловская\\nГражданство: Россия, есть разрешение на работу: Россия\\nНе готов к переезду, готов к командировкам\\n\\n\\tЖелаемая должность и зарплата\\n\\n\\tCIO, CTO, Руководитель отдела разработки программного обеспечения\\nИнформационные технологии, интернет, телеком\\n• Управление проектами\\n• Программирование, Разработка\\n• CTO, CIO, Директор по IT\\n\\nЗанятость: полная занятость\\nГрафик работы: полный день\\n\\nЖелательное время в пути до работы: не имеет значения\\n...\\n',\n",
       "          [Span(8, 35, 'NAME'),\n",
       "           Span(36, 43, 'GENDER'),\n",
       "           Span(53, 75, 'BIRTH'),\n",
       "           Span(77, 95, 'PHONE'),\n",
       "           Span(120, 138, 'PHONE'),\n",
       "           Span(139, 157, 'EMAIL'),\n",
       "           Span(174, 207, 'LIVES_AT'),\n",
       "           Span(208, 227, 'CITIZENSHIP'),\n",
       "           Span(229, 262, 'PERMISSION'),\n",
       "           Span(263, 282, 'RELOCATION'),\n",
       "           Span(284, 305, 'TRAVEL'),\n",
       "           Span(340, 405, 'POSITION'),\n",
       "           Span(406, 450, 'SECTION'),\n",
       "           Span(451, 473, 'SUBSECTION'),\n",
       "           Span(474, 504, 'SUBSECTION'),\n",
       "           Span(505, 531, 'SUBSECTION'),\n",
       "           Span(533, 560, 'EMPLOYMENT'),\n",
       "           Span(561, 587, 'SCHEDULE'),\n",
       "           Span(589, 642, 'COMMUTE')],\n",
       "          Palette([Color('#ffffc2', Color('#fdf07c', Color('#c3b95f', None))),\n",
       "                   Color('#ecf6ff', Color('#c6e1f9', Color('#98bbda', None))),\n",
       "                   Color('#fff1e4', Color('#ffd9b4', Color('#ffbb78', None))),\n",
       "                   Color('#efffec', Color('#afeca3', Color('#98df8a', None))),\n",
       "                   Color('#fff1f1',\n",
       "                         Color('#ffd6d5', Color('#ff9896', None)))]))"
      ]
     },
     "execution_count": 9,
     "metadata": {},
     "output_type": "execute_result"
    }
   ],
   "source": [
    "BoxMarkup(TEXT2, SPANS2)"
   ]
  },
  {
   "cell_type": "markdown",
   "metadata": {},
   "source": [
    "Spans may overlap, is such case it is better to use `LineMarkup`:"
   ]
  },
  {
   "cell_type": "code",
   "execution_count": 10,
   "metadata": {},
   "outputs": [
    {
     "data": {
      "text/html": [
       "<div class=\"tex2jax_ignore\" style=\"white-space: pre-wrap\"><div><span style=\"display: inline-block; vertical-align: top\">Р Е Ш Е Н И Е </span></div><div><span style=\"display: inline-block; vertical-align: top\">г. Москва      </span><span style=\"display: inline-block; vertical-align: top; position: relative; margin-bottom: 11px\"><span style=\"border-bottom: 3px solid #ffbb78; padding-bottom: 8px\">дело</span><span style=\"font-size: 11px; line-height: 1; text-shadow: 1px 1px 0px white; position: absolute; left: 0; bottom: -8px\">topic</span></span><span style=\"display: inline-block; vertical-align: top\"> № А40-253826/16-58-1617 </span></div><div><span style=\"display: inline-block; vertical-align: top\">«02» мая 2017г.     </span></div><div><span style=\"display: inline-block; vertical-align: top\">Резолютивная часть </span><span style=\"display: inline-block; vertical-align: top; position: relative; margin-bottom: 11px\"><span style=\"border-bottom: 3px solid #98df8a; padding-bottom: 8px\">решения</span><span style=\"font-size: 11px; line-height: 1; text-shadow: 1px 1px 0px white; position: absolute; left: 0; bottom: -8px\">claim</span></span><span style=\"display: inline-block; vertical-align: top\"> объявлена 13.03.2017</span><span style=\"display: inline-block; vertical-align: top; position: relative; margin-bottom: 11px\"><span style=\"border-bottom: 3px solid #98df8a; padding-bottom: 8px\">г. </span><span style=\"font-size: 11px; line-height: 1; text-shadow: 1px 1px 0px white; position: absolute; left: 0; bottom: -8px\">claim</span></span><span style=\"display: inline-block; vertical-align: top\"></span></div><div><span style=\"display: inline-block; vertical-align: top\"></span><span style=\"display: inline-block; vertical-align: top; position: relative; margin-bottom: 11px\"><span style=\"border-bottom: 3px solid #98df8a; padding-bottom: 8px\">Решение</span></span><span style=\"display: inline-block; vertical-align: top\"> в полном объеме изготовлено 02.05.2017</span><span style=\"display: inline-block; vertical-align: top; position: relative; margin-bottom: 11px\"><span style=\"border-bottom: 3px solid #98df8a; padding-bottom: 8px\">г. </span><span style=\"font-size: 11px; line-height: 1; text-shadow: 1px 1px 0px white; position: absolute; left: 0; bottom: -8px\">claim</span></span><span style=\"display: inline-block; vertical-align: top\"></span></div><div><span style=\"display: inline-block; vertical-align: top\"></span><span style=\"display: inline-block; vertical-align: top; position: relative; margin-bottom: 11px\"><span style=\"border-bottom: 3px solid #98df8a; padding-bottom: 8px\"></span></span><span style=\"display: inline-block; vertical-align: top\"></span><span style=\"display: inline-block; vertical-align: top; position: relative; margin-bottom: 22px\"><span style=\"border-bottom: 3px solid #98df8a; padding-bottom: 8px\"><span style=\"border-bottom: 3px solid #ff9896; padding-bottom: 19px\">Арбитражный</span></span><span style=\"font-size: 11px; line-height: 1; text-shadow: 1px 1px 0px white; position: absolute; left: 0; bottom: -19px\">staff</span></span><span style=\"display: inline-block; vertical-align: top\"></span><span style=\"display: inline-block; vertical-align: top; position: relative; margin-bottom: 22px\"><span style=\"border-bottom: 3px solid #ff9896; padding-bottom: 19px\"> суд </span></span><span style=\"display: inline-block; vertical-align: top\"></span><span style=\"display: inline-block; vertical-align: top; position: relative; margin-bottom: 22px\"><span style=\"border-bottom: 3px solid #98df8a; padding-bottom: 8px\"><span style=\"border-bottom: 3px solid #ff9896; padding-bottom: 19px\">г. Москвы</span></span><span style=\"font-size: 11px; line-height: 1; text-shadow: 1px 1px 0px white; position: absolute; left: 0; bottom: -8px\">claim</span></span><span style=\"display: inline-block; vertical-align: top\"></span><span style=\"display: inline-block; vertical-align: top; position: relative; margin-bottom: 22px\"><span style=\"border-bottom: 3px solid #ff9896; padding-bottom: 19px\"> в составе: </span></span><span style=\"display: inline-block; vertical-align: top\"></span></div><div><span style=\"display: inline-block; vertical-align: top\"></span><span style=\"display: inline-block; vertical-align: top; position: relative; margin-bottom: 22px\"><span style=\"border-bottom: 3px solid #ff9896; padding-bottom: 19px\">судьи </span></span><span style=\"display: inline-block; vertical-align: top\"></span><span style=\"display: inline-block; vertical-align: top; position: relative; margin-bottom: 33px\"><span style=\"border-bottom: 3px solid #98df8a; padding-bottom: 8px\"><span style=\"border-bottom: 3px solid #ff9896; padding-bottom: 19px\"><span style=\"border-bottom: 3px solid #c5b0d5; padding-bottom: 30px\">О.Н. Жура</span></span></span><span style=\"font-size: 11px; line-height: 1; text-shadow: 1px 1px 0px white; position: absolute; left: 0; bottom: -8px\">claim</span><span style=\"font-size: 11px; line-height: 1; text-shadow: 1px 1px 0px white; position: absolute; left: 0; bottom: -30px\">outcome</span></span><span style=\"display: inline-block; vertical-align: top\">, </span></div><div><span style=\"display: inline-block; vertical-align: top\">при секретаре </span><span style=\"display: inline-block; vertical-align: top; position: relative; margin-bottom: 22px\"><span style=\"border-bottom: 3px solid #98df8a; padding-bottom: 8px\"><span style=\"border-bottom: 3px solid #c5b0d5; padding-bottom: 19px\">Поддубном Е.О.</span></span><span style=\"font-size: 11px; line-height: 1; text-shadow: 1px 1px 0px white; position: absolute; left: 0; bottom: -8px\">claim</span><span style=\"font-size: 11px; line-height: 1; text-shadow: 1px 1px 0px white; position: absolute; left: 0; bottom: -19px\">outcome</span></span><span style=\"display: inline-block; vertical-align: top\">,  </span></div><div><span style=\"display: inline-block; vertical-align: top\">рассмотрев в судебном заседании </span><span style=\"display: inline-block; vertical-align: top; position: relative; margin-bottom: 22px\"><span style=\"border-bottom: 3px solid #ffbb78; padding-bottom: 8px\"><span style=\"border-bottom: 3px solid #98df8a; padding-bottom: 19px\">дело</span></span><span style=\"font-size: 11px; line-height: 1; text-shadow: 1px 1px 0px white; position: absolute; left: 0; bottom: -8px\">topic</span><span style=\"font-size: 11px; line-height: 1; text-shadow: 1px 1px 0px white; position: absolute; left: 0; bottom: -19px\">claim</span></span><span style=\"display: inline-block; vertical-align: top\"> по </span><span style=\"display: inline-block; vertical-align: top; position: relative; margin-bottom: 22px\"><span style=\"border-bottom: 3px solid #ffbb78; padding-bottom: 8px\"><span style=\"border-bottom: 3px solid #98df8a; padding-bottom: 19px\">исковому заявлению</span></span><span style=\"font-size: 11px; line-height: 1; text-shadow: 1px 1px 0px white; position: absolute; left: 0; bottom: -8px\">topic</span><span style=\"font-size: 11px; line-height: 1; text-shadow: 1px 1px 0px white; position: absolute; left: 0; bottom: -19px\">claim</span></span><span style=\"display: inline-block; vertical-align: top\"> </span><span style=\"display: inline-block; vertical-align: top; position: relative; margin-bottom: 11px\"><span style=\"border-bottom: 3px solid #98df8a; padding-bottom: 8px\">ООО «Экопром»</span><span style=\"font-size: 11px; line-height: 1; text-shadow: 1px 1px 0px white; position: absolute; left: 0; bottom: -8px\">claim</span></span><span style=\"display: inline-block; vertical-align: top\"> (</span><span style=\"display: inline-block; vertical-align: top; position: relative; margin-bottom: 11px\"><span style=\"border-bottom: 3px solid #98df8a; padding-bottom: 8px\">ОГРН </span><span style=\"font-size: 11px; line-height: 1; text-shadow: 1px 1px 0px white; position: absolute; left: 0; bottom: -8px\">claim</span></span><span style=\"display: inline-block; vertical-align: top\"></span></div><div><span style=\"display: inline-block; vertical-align: top\"></span><span style=\"display: inline-block; vertical-align: top; position: relative; margin-bottom: 11px\"><span style=\"border-bottom: 3px solid #98df8a; padding-bottom: 8px\">1055255024912</span></span><span style=\"display: inline-block; vertical-align: top\">, 117042, </span><span style=\"display: inline-block; vertical-align: top; position: relative; margin-bottom: 11px\"><span style=\"border-bottom: 3px solid #98df8a; padding-bottom: 8px\">г. Москва</span><span style=\"font-size: 11px; line-height: 1; text-shadow: 1px 1px 0px white; position: absolute; left: 0; bottom: -8px\">claim</span></span><span style=\"display: inline-block; vertical-align: top\">, б-р Адмирала Ушакова, д. 18, кв. 287) </span><span style=\"display: inline-block; vertical-align: top; position: relative; margin-bottom: 11px\"><span style=\"border-bottom: 3px solid #98df8a; padding-bottom: 8px\">к</span><span style=\"font-size: 11px; line-height: 1; text-shadow: 1px 1px 0px white; position: absolute; left: 0; bottom: -8px\">claim</span></span><span style=\"display: inline-block; vertical-align: top\"> </span></div><div><span style=\"display: inline-block; vertical-align: top\"></span><span style=\"display: inline-block; vertical-align: top; position: relative; margin-bottom: 22px\"><span style=\"border-bottom: 3px solid #98df8a; padding-bottom: 8px\"><span style=\"border-bottom: 3px solid #c5b0d5; padding-bottom: 19px\">ответчику</span></span><span style=\"font-size: 11px; line-height: 1; text-shadow: 1px 1px 0px white; position: absolute; left: 0; bottom: -8px\">claim</span><span style=\"font-size: 11px; line-height: 1; text-shadow: 1px 1px 0px white; position: absolute; left: 0; bottom: -19px\">outcome</span></span><span style=\"display: inline-block; vertical-align: top\"> </span><span style=\"display: inline-block; vertical-align: top; position: relative; margin-bottom: 11px\"><span style=\"border-bottom: 3px solid #98df8a; padding-bottom: 8px\">ГБУ </span><span style=\"font-size: 11px; line-height: 1; text-shadow: 1px 1px 0px white; position: absolute; left: 0; bottom: -8px\">claim</span></span><span style=\"display: inline-block; vertical-align: top\"></span></div><div><span style=\"display: inline-block; vertical-align: top\"></span><span style=\"display: inline-block; vertical-align: top; position: relative; margin-bottom: 11px\"><span style=\"border-bottom: 3px solid #98df8a; padding-bottom: 8px\">г. Москвы «Ритуал»</span></span><span style=\"display: inline-block; vertical-align: top\"> (</span><span style=\"display: inline-block; vertical-align: top; position: relative; margin-bottom: 11px\"><span style=\"border-bottom: 3px solid #98df8a; padding-bottom: 8px\">ОГРН 1157746320555</span><span style=\"font-size: 11px; line-height: 1; text-shadow: 1px 1px 0px white; position: absolute; left: 0; bottom: -8px\">claim</span></span><span style=\"display: inline-block; vertical-align: top\">, 125057, </span><span style=\"display: inline-block; vertical-align: top; position: relative; margin-bottom: 11px\"><span style=\"border-bottom: 3px solid #98df8a; padding-bottom: 8px\">г. Москва</span><span style=\"font-size: 11px; line-height: 1; text-shadow: 1px 1px 0px white; position: absolute; left: 0; bottom: -8px\">claim</span></span><span style=\"display: inline-block; vertical-align: top\">, ул. Песчаная, д.3) </span><span style=\"display: inline-block; vertical-align: top; position: relative; margin-bottom: 22px\"><span style=\"border-bottom: 3px solid #ffbb78; padding-bottom: 8px\"><span style=\"border-bottom: 3px solid #98df8a; padding-bottom: 19px\">о</span></span><span style=\"font-size: 11px; line-height: 1; text-shadow: 1px 1px 0px white; position: absolute; left: 0; bottom: -8px\">topic</span><span style=\"font-size: 11px; line-height: 1; text-shadow: 1px 1px 0px white; position: absolute; left: 0; bottom: -19px\">claim</span></span><span style=\"display: inline-block; vertical-align: top\"></span><span style=\"display: inline-block; vertical-align: top; position: relative; margin-bottom: 11px\"><span style=\"border-bottom: 3px solid #ffbb78; padding-bottom: 8px\"> </span></span><span style=\"display: inline-block; vertical-align: top\"></span></div><div><span style=\"display: inline-block; vertical-align: top\"></span><span style=\"display: inline-block; vertical-align: top; position: relative; margin-bottom: 11px\"><span style=\"border-bottom: 3px solid #ffbb78; padding-bottom: 8px\"></span></span><span style=\"display: inline-block; vertical-align: top\"></span><span style=\"display: inline-block; vertical-align: top; position: relative; margin-bottom: 22px\"><span style=\"border-bottom: 3px solid #ffbb78; padding-bottom: 8px\"><span style=\"border-bottom: 3px solid #98df8a; padding-bottom: 19px\">взыскании</span></span><span style=\"font-size: 11px; line-height: 1; text-shadow: 1px 1px 0px white; position: absolute; left: 0; bottom: -19px\">claim</span></span><span style=\"display: inline-block; vertical-align: top\"></span><span style=\"display: inline-block; vertical-align: top; position: relative; margin-bottom: 11px\"><span style=\"border-bottom: 3px solid #ffbb78; padding-bottom: 8px\"> </span></span><span style=\"display: inline-block; vertical-align: top\"></span><span style=\"display: inline-block; vertical-align: top; position: relative; margin-bottom: 22px\"><span style=\"border-bottom: 3px solid #ffbb78; padding-bottom: 8px\"><span style=\"border-bottom: 3px solid #98df8a; padding-bottom: 19px\">задолженности</span></span><span style=\"font-size: 11px; line-height: 1; text-shadow: 1px 1px 0px white; position: absolute; left: 0; bottom: -19px\">claim</span></span><span style=\"display: inline-block; vertical-align: top\">, </span></div><div><span style=\"display: inline-block; vertical-align: top\">по </span><span style=\"display: inline-block; vertical-align: top; position: relative; margin-bottom: 22px\"><span style=\"border-bottom: 3px solid #ffbb78; padding-bottom: 8px\"><span style=\"border-bottom: 3px solid #98df8a; padding-bottom: 19px\">встречному исковому заявлению</span></span><span style=\"font-size: 11px; line-height: 1; text-shadow: 1px 1px 0px white; position: absolute; left: 0; bottom: -8px\">topic</span><span style=\"font-size: 11px; line-height: 1; text-shadow: 1px 1px 0px white; position: absolute; left: 0; bottom: -19px\">claim</span></span><span style=\"display: inline-block; vertical-align: top\"> </span><span style=\"display: inline-block; vertical-align: top; position: relative; margin-bottom: 11px\"><span style=\"border-bottom: 3px solid #98df8a; padding-bottom: 8px\">ГБУ г. Москвы «Ритуал»</span><span style=\"font-size: 11px; line-height: 1; text-shadow: 1px 1px 0px white; position: absolute; left: 0; bottom: -8px\">claim</span></span><span style=\"display: inline-block; vertical-align: top\"> </span><span style=\"display: inline-block; vertical-align: top; position: relative; margin-bottom: 11px\"><span style=\"border-bottom: 3px solid #98df8a; padding-bottom: 8px\">к</span><span style=\"font-size: 11px; line-height: 1; text-shadow: 1px 1px 0px white; position: absolute; left: 0; bottom: -8px\">claim</span></span><span style=\"display: inline-block; vertical-align: top\"> </span><span style=\"display: inline-block; vertical-align: top; position: relative; margin-bottom: 22px\"><span style=\"border-bottom: 3px solid #98df8a; padding-bottom: 8px\"><span style=\"border-bottom: 3px solid #c5b0d5; padding-bottom: 19px\">ответчику</span></span><span style=\"font-size: 11px; line-height: 1; text-shadow: 1px 1px 0px white; position: absolute; left: 0; bottom: -8px\">claim</span><span style=\"font-size: 11px; line-height: 1; text-shadow: 1px 1px 0px white; position: absolute; left: 0; bottom: -19px\">outcome</span></span><span style=\"display: inline-block; vertical-align: top\"> - </span><span style=\"display: inline-block; vertical-align: top; position: relative; margin-bottom: 11px\"><span style=\"border-bottom: 3px solid #98df8a; padding-bottom: 8px\">ООО </span><span style=\"font-size: 11px; line-height: 1; text-shadow: 1px 1px 0px white; position: absolute; left: 0; bottom: -8px\">claim</span></span><span style=\"display: inline-block; vertical-align: top\"></span></div><div><span style=\"display: inline-block; vertical-align: top\"></span><span style=\"display: inline-block; vertical-align: top; position: relative; margin-bottom: 11px\"><span style=\"border-bottom: 3px solid #98df8a; padding-bottom: 8px\">«Экопром»</span></span><span style=\"display: inline-block; vertical-align: top\"> </span><span style=\"display: inline-block; vertical-align: top; position: relative; margin-bottom: 22px\"><span style=\"border-bottom: 3px solid #ffbb78; padding-bottom: 8px\"><span style=\"border-bottom: 3px solid #98df8a; padding-bottom: 19px\">о</span></span><span style=\"font-size: 11px; line-height: 1; text-shadow: 1px 1px 0px white; position: absolute; left: 0; bottom: -8px\">topic</span><span style=\"font-size: 11px; line-height: 1; text-shadow: 1px 1px 0px white; position: absolute; left: 0; bottom: -19px\">claim</span></span><span style=\"display: inline-block; vertical-align: top\"></span><span style=\"display: inline-block; vertical-align: top; position: relative; margin-bottom: 11px\"><span style=\"border-bottom: 3px solid #ffbb78; padding-bottom: 8px\"> </span></span><span style=\"display: inline-block; vertical-align: top\"></span><span style=\"display: inline-block; vertical-align: top; position: relative; margin-bottom: 22px\"><span style=\"border-bottom: 3px solid #ffbb78; padding-bottom: 8px\"><span style=\"border-bottom: 3px solid #98df8a; padding-bottom: 19px\">взыскании</span></span><span style=\"font-size: 11px; line-height: 1; text-shadow: 1px 1px 0px white; position: absolute; left: 0; bottom: -19px\">claim</span></span><span style=\"display: inline-block; vertical-align: top\"></span><span style=\"display: inline-block; vertical-align: top; position: relative; margin-bottom: 11px\"><span style=\"border-bottom: 3px solid #ffbb78; padding-bottom: 8px\"> </span></span><span style=\"display: inline-block; vertical-align: top\"></span><span style=\"display: inline-block; vertical-align: top; position: relative; margin-bottom: 22px\"><span style=\"border-bottom: 3px solid #ffbb78; padding-bottom: 8px\"><span style=\"border-bottom: 3px solid #98df8a; padding-bottom: 19px\">пени</span></span><span style=\"font-size: 11px; line-height: 1; text-shadow: 1px 1px 0px white; position: absolute; left: 0; bottom: -19px\">claim</span></span><span style=\"display: inline-block; vertical-align: top\"></span><span style=\"display: inline-block; vertical-align: top; position: relative; margin-bottom: 11px\"><span style=\"border-bottom: 3px solid #ffbb78; padding-bottom: 8px\"> в размере </span></span><span style=\"display: inline-block; vertical-align: top\"></span><span style=\"display: inline-block; vertical-align: top; position: relative; margin-bottom: 22px\"><span style=\"border-bottom: 3px solid #ffbb78; padding-bottom: 8px\"><span style=\"border-bottom: 3px solid #98df8a; padding-bottom: 19px\">932.393, 94 руб.</span></span><span style=\"font-size: 11px; line-height: 1; text-shadow: 1px 1px 0px white; position: absolute; left: 0; bottom: -19px\">claim</span></span><span style=\"display: inline-block; vertical-align: top\">, </span><span style=\"display: inline-block; vertical-align: top; position: relative; margin-bottom: 11px\"><span style=\"border-bottom: 3px solid #98df8a; padding-bottom: 8px\">штрафа</span><span style=\"font-size: 11px; line-height: 1; text-shadow: 1px 1px 0px white; position: absolute; left: 0; bottom: -8px\">claim</span></span><span style=\"display: inline-block; vertical-align: top\"> по </span></div><div><span style=\"display: inline-block; vertical-align: top\"></span><span style=\"display: inline-block; vertical-align: top; position: relative; margin-bottom: 11px\"><span style=\"border-bottom: 3px solid #98df8a; padding-bottom: 8px\">государственному </span><span style=\"font-size: 11px; line-height: 1; text-shadow: 1px 1px 0px white; position: absolute; left: 0; bottom: -8px\">claim</span></span><span style=\"display: inline-block; vertical-align: top\"></span></div><div><span style=\"display: inline-block; vertical-align: top\"></span><span style=\"display: inline-block; vertical-align: top; position: relative; margin-bottom: 11px\"><span style=\"border-bottom: 3px solid #98df8a; padding-bottom: 8px\">контракту</span></span><span style=\"display: inline-block; vertical-align: top\"> №0373200657316000007-44/2016 </span><span style=\"display: inline-block; vertical-align: top; position: relative; margin-bottom: 11px\"><span style=\"border-bottom: 3px solid #c5b0d5; padding-bottom: 8px\">от 21.06.2016 г.</span><span style=\"font-size: 11px; line-height: 1; text-shadow: 1px 1px 0px white; position: absolute; left: 0; bottom: -8px\">outcome</span></span><span style=\"display: inline-block; vertical-align: top\"> в размере </span><span style=\"display: inline-block; vertical-align: top; position: relative; margin-bottom: 11px\"><span style=\"border-bottom: 3px solid #98df8a; padding-bottom: 8px\">625.157, 31 </span><span style=\"font-size: 11px; line-height: 1; text-shadow: 1px 1px 0px white; position: absolute; left: 0; bottom: -8px\">claim</span></span><span style=\"display: inline-block; vertical-align: top\"></span></div><div><span style=\"display: inline-block; vertical-align: top\"></span><span style=\"display: inline-block; vertical-align: top; position: relative; margin-bottom: 11px\"><span style=\"border-bottom: 3px solid #98df8a; padding-bottom: 8px\">руб.</span></span><span style=\"display: inline-block; vertical-align: top\"> </span></div><div><span style=\"display: inline-block; vertical-align: top\"></span><span style=\"display: inline-block; vertical-align: top; position: relative; margin-bottom: 22px\"><span style=\"border-bottom: 3px solid #98df8a; padding-bottom: 8px\"><span style=\"border-bottom: 3px solid #c5b0d5; padding-bottom: 19px\">с участием</span></span><span style=\"font-size: 11px; line-height: 1; text-shadow: 1px 1px 0px white; position: absolute; left: 0; bottom: -8px\">claim</span><span style=\"font-size: 11px; line-height: 1; text-shadow: 1px 1px 0px white; position: absolute; left: 0; bottom: -19px\">outcome</span></span><span style=\"display: inline-block; vertical-align: top\">: </span><span style=\"display: inline-block; vertical-align: top; position: relative; margin-bottom: 11px\"><span style=\"border-bottom: 3px solid #c5b0d5; padding-bottom: 8px\">представитель</span><span style=\"font-size: 11px; line-height: 1; text-shadow: 1px 1px 0px white; position: absolute; left: 0; bottom: -8px\">outcome</span></span><span style=\"display: inline-block; vertical-align: top\"> </span><span style=\"display: inline-block; vertical-align: top; position: relative; margin-bottom: 22px\"><span style=\"border-bottom: 3px solid #98df8a; padding-bottom: 8px\"><span style=\"border-bottom: 3px solid #c5b0d5; padding-bottom: 19px\">истца</span></span><span style=\"font-size: 11px; line-height: 1; text-shadow: 1px 1px 0px white; position: absolute; left: 0; bottom: -8px\">claim</span><span style=\"font-size: 11px; line-height: 1; text-shadow: 1px 1px 0px white; position: absolute; left: 0; bottom: -19px\">outcome</span></span><span style=\"display: inline-block; vertical-align: top\"> - </span><span style=\"display: inline-block; vertical-align: top; position: relative; margin-bottom: 22px\"><span style=\"border-bottom: 3px solid #98df8a; padding-bottom: 8px\"><span style=\"border-bottom: 3px solid #c5b0d5; padding-bottom: 19px\">Чекин Р.О.</span></span><span style=\"font-size: 11px; line-height: 1; text-shadow: 1px 1px 0px white; position: absolute; left: 0; bottom: -8px\">claim</span><span style=\"font-size: 11px; line-height: 1; text-shadow: 1px 1px 0px white; position: absolute; left: 0; bottom: -19px\">outcome</span></span><span style=\"display: inline-block; vertical-align: top\"> (паспорт, </span><span style=\"display: inline-block; vertical-align: top; position: relative; margin-bottom: 11px\"><span style=\"border-bottom: 3px solid #c5b0d5; padding-bottom: 8px\">доверенность</span><span style=\"font-size: 11px; line-height: 1; text-shadow: 1px 1px 0px white; position: absolute; left: 0; bottom: -8px\">outcome</span></span><span style=\"display: inline-block; vertical-align: top\"> </span><span style=\"display: inline-block; vertical-align: top; position: relative; margin-bottom: 11px\"><span style=\"border-bottom: 3px solid #c5b0d5; padding-bottom: 8px\">от </span><span style=\"font-size: 11px; line-height: 1; text-shadow: 1px 1px 0px white; position: absolute; left: 0; bottom: -8px\">outcome</span></span><span style=\"display: inline-block; vertical-align: top\"></span></div><div><span style=\"display: inline-block; vertical-align: top\"></span><span style=\"display: inline-block; vertical-align: top; position: relative; margin-bottom: 11px\"><span style=\"border-bottom: 3px solid #c5b0d5; padding-bottom: 8px\">01.09.2016 г.</span></span><span style=\"display: inline-block; vertical-align: top\">), </span></div><div><span style=\"display: inline-block; vertical-align: top\"></span><span style=\"display: inline-block; vertical-align: top; position: relative; margin-bottom: 11px\"><span style=\"border-bottom: 3px solid #c5b0d5; padding-bottom: 8px\">представитель</span><span style=\"font-size: 11px; line-height: 1; text-shadow: 1px 1px 0px white; position: absolute; left: 0; bottom: -8px\">outcome</span></span><span style=\"display: inline-block; vertical-align: top\"> </span><span style=\"display: inline-block; vertical-align: top; position: relative; margin-bottom: 22px\"><span style=\"border-bottom: 3px solid #98df8a; padding-bottom: 8px\"><span style=\"border-bottom: 3px solid #c5b0d5; padding-bottom: 19px\">ответчика</span></span><span style=\"font-size: 11px; line-height: 1; text-shadow: 1px 1px 0px white; position: absolute; left: 0; bottom: -8px\">claim</span><span style=\"font-size: 11px; line-height: 1; text-shadow: 1px 1px 0px white; position: absolute; left: 0; bottom: -19px\">outcome</span></span><span style=\"display: inline-block; vertical-align: top\"> - </span><span style=\"display: inline-block; vertical-align: top; position: relative; margin-bottom: 22px\"><span style=\"border-bottom: 3px solid #98df8a; padding-bottom: 8px\"><span style=\"border-bottom: 3px solid #c5b0d5; padding-bottom: 19px\">Рябова И.А.</span></span><span style=\"font-size: 11px; line-height: 1; text-shadow: 1px 1px 0px white; position: absolute; left: 0; bottom: -8px\">claim</span><span style=\"font-size: 11px; line-height: 1; text-shadow: 1px 1px 0px white; position: absolute; left: 0; bottom: -19px\">outcome</span></span><span style=\"display: inline-block; vertical-align: top\"> (паспорт, </span><span style=\"display: inline-block; vertical-align: top; position: relative; margin-bottom: 11px\"><span style=\"border-bottom: 3px solid #c5b0d5; padding-bottom: 8px\">доверенность</span><span style=\"font-size: 11px; line-height: 1; text-shadow: 1px 1px 0px white; position: absolute; left: 0; bottom: -8px\">outcome</span></span><span style=\"display: inline-block; vertical-align: top\"> </span><span style=\"display: inline-block; vertical-align: top; position: relative; margin-bottom: 11px\"><span style=\"border-bottom: 3px solid #c5b0d5; padding-bottom: 8px\">от 20.02.2017 г.</span><span style=\"font-size: 11px; line-height: 1; text-shadow: 1px 1px 0px white; position: absolute; left: 0; bottom: -8px\">outcome</span></span><span style=\"display: inline-block; vertical-align: top\">), </span></div></div>"
      ],
      "text/plain": [
       "LineMarkup('Р Е Ш Е Н И Е \\nг. Москва      дело № А40-253826/16-58-1617 \\n«02» мая 2017г.     \\nРезолютивная часть решения объявлена 13.03.2017г. \\nРешение в полном объеме изготовлено 02.05.2017г. \\nАрбитражный суд г. Москвы в составе: \\nсудьи О.Н. Жура, \\nпри секретаре Поддубном Е.О.,  \\nрассмотрев в судебном заседании дело по исковому заявлению ООО «Экопром» (ОГРН \\n1055255024912, 117042, г. Москва, б-р Адмирала Ушакова, д. 18, кв. 287) к ответчику ГБУ \\nг. Москвы «Ритуал» (ОГРН 1157746320555, 125057, г. Москва, ул. Песчаная, д.3) о \\nвзыскании задолженности, \\nпо встречному исковому заявлению ГБУ г. Москвы «Ритуал» к ответчику - ООО \\n«Экопром» о взыскании пени в размере 932.393, 94 руб., штрафа по государственному \\nконтракту №0373200657316000007-44/2016 от 21.06.2016 г. в размере 625.157, 31 руб. \\nс участием: представитель истца - Чекин Р.О. (паспорт, доверенность от 01.09.2016 г.), \\nпредставитель ответчика - Рябова И.А. (паспорт, доверенность от 20.02.2017 г.), ',\n",
       "           [Span(30, 34, 'topic'),\n",
       "            Span(100, 107, 'claim'),\n",
       "            Span(128, 139, 'claim'),\n",
       "            Span(178, 193, 'claim'),\n",
       "            Span(182, 235, 'staff'),\n",
       "            Span(198, 207, 'claim'),\n",
       "            Span(226, 235, 'claim'),\n",
       "            Span(226, 235, 'outcome'),\n",
       "            Span(252, 266, 'claim'),\n",
       "            Span(252, 266, 'outcome'),\n",
       "            Span(302, 306, 'topic'),\n",
       "            Span(302, 306, 'claim'),\n",
       "            Span(310, 328, 'topic'),\n",
       "            Span(310, 328, 'claim'),\n",
       "            Span(329, 342, 'claim'),\n",
       "            Span(344, 363, 'claim'),\n",
       "            Span(373, 382, 'claim'),\n",
       "            Span(422, 423, 'claim'),\n",
       "            Span(424, 433, 'claim'),\n",
       "            Span(424, 433, 'outcome'),\n",
       "            Span(434, 457, 'claim'),\n",
       "            Span(459, 477, 'claim'),\n",
       "            Span(487, 496, 'claim'),\n",
       "            Span(517, 543, 'topic'),\n",
       "            Span(517, 518, 'claim'),\n",
       "            Span(520, 529, 'claim'),\n",
       "            Span(530, 543, 'claim'),\n",
       "            Span(549, 578, 'topic'),\n",
       "            Span(549, 578, 'claim'),\n",
       "            Span(579, 601, 'claim'),\n",
       "            Span(602, 603, 'claim'),\n",
       "            Span(604, 613, 'claim'),\n",
       "            Span(604, 613, 'outcome'),\n",
       "            Span(616, 630, 'claim'),\n",
       "            Span(631, 674, 'topic'),\n",
       "            Span(631, 632, 'claim'),\n",
       "            Span(633, 642, 'claim'),\n",
       "            Span(643, 647, 'claim'),\n",
       "            Span(658, 674, 'claim'),\n",
       "            Span(676, 682, 'claim'),\n",
       "            Span(686, 713, 'claim'),\n",
       "            Span(743, 759, 'outcome'),\n",
       "            Span(770, 786, 'claim'),\n",
       "            Span(788, 798, 'claim'),\n",
       "            Span(788, 798, 'outcome'),\n",
       "            Span(800, 813, 'outcome'),\n",
       "            Span(814, 819, 'claim'),\n",
       "            Span(814, 819, 'outcome'),\n",
       "            Span(822, 832, 'claim'),\n",
       "            Span(822, 832, 'outcome'),\n",
       "            Span(843, 855, 'outcome'),\n",
       "            Span(856, 872, 'outcome'),\n",
       "            Span(876, 889, 'outcome'),\n",
       "            Span(890, 899, 'claim'),\n",
       "            Span(890, 899, 'outcome'),\n",
       "            Span(902, 913, 'claim'),\n",
       "            Span(902, 913, 'outcome'),\n",
       "            Span(924, 936, 'outcome'),\n",
       "            Span(937, 953, 'outcome')],\n",
       "           Palette([Color('#aec7e8', None),\n",
       "                    Color('#ffbb78', None),\n",
       "                    Color('#98df8a', None),\n",
       "                    Color('#ff9896', None),\n",
       "                    Color('#c5b0d5', None)]))"
      ]
     },
     "execution_count": 10,
     "metadata": {},
     "output_type": "execute_result"
    }
   ],
   "source": [
    "LineMarkup(TEXT3, SPANS3)"
   ]
  },
  {
   "cell_type": "markdown",
   "metadata": {},
   "source": [
    "Finally, in case HTML formating is not available, use `AsciiMarkup`:"
   ]
  },
  {
   "cell_type": "code",
   "execution_count": 11,
   "metadata": {},
   "outputs": [
    {
     "data": {
      "text/plain": [
       "Секретарь Совета национальной безопасности и обороны (СНБО) Андрей \n",
       "                                                            NAME-- \n",
       "Парубий не исключил скорого введения военного положения в Донбассе. \n",
       "NAME---                                                             \n",
       "Как сообщает «Интерфакс», он уточнил, что речь идет непосредственно о \n",
       "Донецкой и Луганской областях. По словам Парубия, документ о введении \n",
       "военного положения уже подготовлен ведомством. Он предусматривает не \n",
       "только указ президента Украины Петра Порошенко, но и «координацию и \n",
       "                               NAME-----------                      \n",
       "систему управления всех наших подразделений в новой системе \n",
       "координат». Комментируя информацию о возможном введении российских \n",
       "миротворцев на восток страны, Парубий заявил, что эти действия \n",
       "представляют собой прямую агрессию в отношении Украины, сообщает \n",
       "«Сегодня.ua». Он подчеркнул, что решение о введении миротворцев должно\n",
       " приниматься под эгидой ООН. Секретарь СНБО также заявил, что, по его \n",
       "информации, у границы с Украиной дислоцировано около 40 тысяч \n",
       "российских военных. «Опасность штурма есть с первого дня Майдана и не \n",
       "снижалась никогда»,  — резюмировал он. 1 июля парламентская коалиция \n",
       "Верховной Рады потребовала от Порошенко ввести военное положение на \n",
       "NAME----------                NAME-----                             \n",
       "востоке Украины, однако спикер парламента Александр Турчинов заявил, \n",
       "                                          NAME--------------         \n",
       "что немедленное рассмотрение вопроса невозможно. «Военное положение \n",
       "вводится исключительно указом Президента, и в течение двух дней Рада \n",
       "должна одобрить этот указ», — заявил он. В начале июня Турчинов, \n",
       "исполнявший тогда обязанности главы государства, допускал возможность \n",
       "введения военного положения. Принятие решения, однако, было отложено \n",
       "до инаугурации Порошенко. Он со своей стороны поддержал продолжение \n",
       "               NAME-----                                            \n",
       "силовой операции на востоке, одновременно заявив о необходимости \n",
       "прекращения огня в течение недели.\n"
      ]
     },
     "execution_count": 11,
     "metadata": {},
     "output_type": "execute_result"
    }
   ],
   "source": [
    "AsciiMarkup(TEXT5, SPANS5)"
   ]
  },
  {
   "cell_type": "markdown",
   "metadata": {},
   "source": [
    "## Cookbook"
   ]
  },
  {
   "cell_type": "markdown",
   "metadata": {},
   "source": [
    "### Non random colors"
   ]
  },
  {
   "cell_type": "code",
   "execution_count": 12,
   "metadata": {},
   "outputs": [
    {
     "data": {
      "text/html": [
       "<div class=\"tex2jax_ignore\" style=\"white-space: pre-wrap\"><span style=\"padding: 2px; border-radius: 4px; border: 1px solid #c6e1f9; background: #ecf6ff\">Alan<span style=\"vertical-align: middle; margin-left: 2px; font-size: 0.7em; color: #98bbda;\">Name</span></span> born in <span style=\"padding: 2px; border-radius: 4px; border: 1px solid #afeca3; background: #efffec\">1912<span style=\"vertical-align: middle; margin-left: 2px; font-size: 0.7em; color: #98df8a;\">Date</span></span></div>"
      ],
      "text/plain": [
       "BoxMarkup('Alan born in 1912',\n",
       "          [Span(0, 4, 'Name'), Span(13, 17, 'Date')],\n",
       "          Palette([Color('#ffffc2', Color('#fdf07c', Color('#c3b95f', None))),\n",
       "                   Color('#ecf6ff', Color('#c6e1f9', Color('#98bbda', None))),\n",
       "                   Color('#fff1e4', Color('#ffd9b4', Color('#ffbb78', None))),\n",
       "                   Color('#efffec', Color('#afeca3', Color('#98df8a', None))),\n",
       "                   Color('#fff1f1',\n",
       "                         Color('#ffd6d5', Color('#ff9896', None)))]))"
      ]
     },
     "metadata": {},
     "output_type": "display_data"
    }
   ],
   "source": [
    "from ipymarkup import show_box_markup\n",
    "from ipymarkup.color import PALETTE, BLUE, GREEN\n",
    "\n",
    "\n",
    "PALETTE.register('Name', BLUE)\n",
    "PALETTE.register('Date', GREEN)\n",
    "show_box_markup('Alan born in 1912', [(0, 4, 'Name'), [13, 17, 'Date']], palette=PALETTE)"
   ]
  },
  {
   "cell_type": "markdown",
   "metadata": {},
   "source": [
    "### Using ipymarkup outside of Jupyter Notebook"
   ]
  },
  {
   "cell_type": "code",
   "execution_count": 13,
   "metadata": {},
   "outputs": [
    {
     "data": {
      "text/plain": [
       "['<div class=\"tex2jax_ignore\" style=\"white-space: pre-wrap\">',\n",
       " '',\n",
       " '<span style=\"padding: 2px; border-radius: 4px; border: 1px solid #fdf07c; background: #ffffc2\">',\n",
       " 'a d a b a a a',\n",
       " '<span style=\"vertical-align: middle; margin-left: 2px; font-size: 0.7em; color: #c3b95f;\">',\n",
       " 'a',\n",
       " '</span>',\n",
       " '</span>',\n",
       " '',\n",
       " '<span style=\"padding: 2px; border-radius: 4px; border: 1px solid #afeca3; background: #efffec\">',\n",
       " 'd a b a a a b c c c f d',\n",
       " '<span style=\"vertical-align: middle; margin-left: 2px; font-size: 0.7em; color: #98df8a;\">',\n",
       " 'd',\n",
       " '</span>',\n",
       " '</span>',\n",
       " '',\n",
       " '<span style=\"padding: 2px; border-radius: 4px; border: 1px solid #c6e1f9; background: #ecf6ff\">',\n",
       " 'b a a a b',\n",
       " '<span style=\"vertical-align: middle; margin-left: 2px; font-size: 0.7em; color: #98bbda;\">',\n",
       " 'b',\n",
       " '</span>',\n",
       " '</span>',\n",
       " ' ',\n",
       " '<span style=\"padding: 2px; border-radius: 4px; border: 1px solid #ffd9b4; background: #fff1e4\">',\n",
       " 'c c c',\n",
       " '<span style=\"vertical-align: middle; margin-left: 2px; font-size: 0.7em; color: #ffbb78;\">',\n",
       " 'c',\n",
       " '</span>',\n",
       " '</span>',\n",
       " ' ',\n",
       " '<span style=\"padding: 2px; border-radius: 4px; border: 1px solid #fdf07c; background: #ffffc2\">',\n",
       " 'f',\n",
       " '<span style=\"vertical-align: middle; margin-left: 2px; font-size: 0.7em; color: #c3b95f;\">',\n",
       " 'f',\n",
       " '</span>',\n",
       " '</span>',\n",
       " ' d',\n",
       " '</div>']"
      ]
     },
     "execution_count": 13,
     "metadata": {},
     "output_type": "execute_result"
    }
   ],
   "source": [
    "markup = BoxMarkup(TEXT6, SPANS6)\n",
    "list(markup.as_html)"
   ]
  },
  {
   "cell_type": "code",
   "execution_count": 14,
   "metadata": {},
   "outputs": [
    {
     "data": {
      "text/plain": [
       "['a d a b a a a b c c c f d',\n",
       " 'a------------   c---- f  ',\n",
       " '  d----------------------',\n",
       " '      b--------          ']"
      ]
     },
     "execution_count": 14,
     "metadata": {},
     "output_type": "execute_result"
    }
   ],
   "source": [
    "markup = AsciiMarkup(TEXT6, SPANS6)\n",
    "list(markup.as_ascii)"
   ]
  },
  {
   "cell_type": "markdown",
   "metadata": {},
   "source": [
    "### display vs print"
   ]
  },
  {
   "cell_type": "code",
   "execution_count": 15,
   "metadata": {},
   "outputs": [
    {
     "name": "stdout",
     "output_type": "stream",
     "text": [
      "AsciiMarkup('a d a b a a a b c c c f d', [Span(0, 13, 'a'), Span(2, 25, 'd'), Span(6, 15, 'b'), Span(16, 21, 'c'), Span(22, 23, 'f')])\n"
     ]
    }
   ],
   "source": [
    "print(markup)"
   ]
  },
  {
   "cell_type": "code",
   "execution_count": 16,
   "metadata": {},
   "outputs": [
    {
     "data": {
      "text/plain": [
       "a d a b a a a b c c c f d\n",
       "a------------   c---- f  \n",
       "  d----------------------\n",
       "      b--------          \n"
      ]
     },
     "metadata": {},
     "output_type": "display_data"
    },
    {
     "data": {
      "text/plain": [
       "a d a b a a a b c c c f d\n",
       "a------------   c---- f  \n",
       "  d----------------------\n",
       "      b--------          \n"
      ]
     },
     "metadata": {},
     "output_type": "display_data"
    },
    {
     "data": {
      "text/plain": [
       "a d a b a a a b c c c f d\n",
       "a------------   c---- f  \n",
       "  d----------------------\n",
       "      b--------          \n"
      ]
     },
     "metadata": {},
     "output_type": "display_data"
    }
   ],
   "source": [
    "from IPython.display import display\n",
    "\n",
    "for _ in range(3):\n",
    "    display(markup)"
   ]
  },
  {
   "cell_type": "code",
   "execution_count": null,
   "metadata": {},
   "outputs": [],
   "source": []
  }
 ],
 "metadata": {
  "": {
   "display_name": "Python 3",
   "language": "python",
   "name": "python3"
  },
  "kernelspec": {
   "display_name": "Python 3",
   "language": "python",
   "name": "python3"
  },
  "language_info": {
   "codemirror_mode": {
    "name": "ipython",
    "version": 3
   },
   "file_extension": ".py",
   "mimetype": "text/x-python",
   "name": "python",
   "nbconvert_exporter": "python",
   "pygments_lexer": "ipython3",
   "version": "3.5.1"
  }
 },
 "nbformat": 4,
 "nbformat_minor": 2
}
