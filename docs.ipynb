{
 "cells": [
  {
   "cell_type": "markdown",
   "metadata": {},
   "source": [
    "# ipymarkup"
   ]
  },
  {
   "cell_type": "markdown",
   "metadata": {},
   "source": [
    "Библиотека для визуализации разметки <a href=\"https://en.wikipedia.org/wiki/Named-entity_recognition\">NER</a> для Jupyter Notebook. Аналог <a href=\"https://explosion.ai/demos/displacy-ent\">DisplaCy NER</a> для Jupyter Notebook."
   ]
  },
  {
   "cell_type": "code",
   "execution_count": 1,
   "metadata": {
    "scrolled": false
   },
   "outputs": [
    {
     "data": {
      "text/html": [
       "<table>\n",
       "<tr style=\"background: none\">\n",
       "<td style=\"width: 20%\">\n",
       "BoxMarkup\n",
       "</td>\n",
       "<td style=\"width: 20%\">\n",
       "BoxLabelMarkup\n",
       "</td>\n",
       "<td style=\"width: 20%\">\n",
       "LineMarkup\n",
       "</td>\n",
       "<td style=\"width: 20%\">\n",
       "LineLabelMarkup\n",
       "</td>\n",
       "<td style=\"width: 20%\">\n",
       "AsciiMarkup\n",
       "</td>\n",
       "</tr>\n",
       "<tr style=\"background: none\">\n",
       "<td style=\"width: 20%\">\n",
       "<div class=\"tex2jax_ignore\" style=\"white-space: pre-wrap\"><span style=\"padding: 0.15em; border-radius: 0.25em; border: 1px solid #c6e1f9; background: #ecf6ff\">a a a</span> <span style=\"padding: 0.15em; border-radius: 0.25em; border: 1px solid #ffd9b4; background: #fff1e4\">b b</span> <span style=\"padding: 0.15em; border-radius: 0.25em; border: 1px solid #afeca3; background: #efffec\">c c c</span></div>\n",
       "</td>\n",
       "<td style=\"width: 20%\">\n",
       "<div class=\"tex2jax_ignore\" style=\"white-space: pre-wrap\"><span style=\"padding: 0.15em; border-radius: 0.25em; border: 1px solid #fdf07c; background: #ffffc2\">a a a<sup style=\"font-size: 0.7em; color: #c3b95f;\">a</sup></span> <span style=\"padding: 0.15em; border-radius: 0.25em; border: 1px solid #fdf07c; background: #ffffc2\">b b<sup style=\"font-size: 0.7em; color: #c3b95f;\">b</sup></span> <span style=\"padding: 0.15em; border-radius: 0.25em; border: 1px solid #fdf07c; background: #ffffc2\">c c c<sup style=\"font-size: 0.7em; color: #c3b95f;\">c</sup></span></div>\n",
       "</td>\n",
       "<td style=\"width: 20%\">\n",
       "<div class=\"tex2jax_ignore\" style=\"line-height: 1.6em; white-space: pre-wrap\"><span style=\"border-bottom: 2px solid #ffbb78; padding-bottom: 1px\">a a a</span> <span style=\"border-bottom: 2px solid #98df8a; padding-bottom: 1px\">b b</span> <span style=\"border-bottom: 2px solid #ff9896; padding-bottom: 1px\">c c c</span></div>\n",
       "</td>\n",
       "<td style=\"width: 20%\">\n",
       "<div style=\"line-height: 1.6em; white-space: pre-wrap\"><span style=\"border-bottom: 2px solid #aec7e8; padding-bottom: 1px\">a a a</span><span style=\"display: inline-block; margin-left: 1px; font-size: 7px;\">a</span> <span style=\"border-bottom: 2px solid #aec7e8; padding-bottom: 1px\">b b</span><span style=\"display: inline-block; margin-left: 1px; font-size: 7px;\">b</span> <span style=\"border-bottom: 2px solid #aec7e8; padding-bottom: 1px\">c c c</span><span style=\"display: inline-block; margin-left: 1px; font-size: 7px;\">c</span></div>\n",
       "</td>\n",
       "<td style=\"width: 20%\">\n",
       "<pre>a a a b b c c c\n",
       "a---- b-- c----</pre>\n",
       "</td>\n",
       "</tr>\n",
       "<tr style=\"background: none\">\n",
       "<td style=\"width: 20%\">\n",
       "<div class=\"tex2jax_ignore\" style=\"white-space: pre-wrap\"><span style=\"padding: 0.15em; border-radius: 0.25em; border: 1px solid #c6e1f9; background: #ecf6ff\">a a a</span> <span style=\"padding: 0.15em; border-radius: 0.25em; border: 1px solid #ffd9b4; background: #fff1e4\">b b</span> <span style=\"padding: 0.15em; border-radius: 0.25em; border: 1px solid #afeca3; background: #efffec\">c</span> <span style=\"padding: 0.15em; border-radius: 0.25em; border: 1px solid #fdf07c; background: #ffffc2\">e</span> <span style=\"padding: 0.15em; border-radius: 0.25em; border: 1px solid #ffd6d5; background: #fff1f1\">d d d</span> <span style=\"padding: 0.15em; border-radius: 0.25em; border: 1px solid #c6e1f9; background: #ecf6ff\">f f</span> <span style=\"padding: 0.15em; border-radius: 0.25em; border: 1px solid #ffd9b4; background: #fff1e4\">g g</span> <span style=\"padding: 0.15em; border-radius: 0.25em; border: 1px solid #afeca3; background: #efffec\">h</span></div>\n",
       "</td>\n",
       "<td style=\"width: 20%\">\n",
       "<div class=\"tex2jax_ignore\" style=\"white-space: pre-wrap\"><span style=\"padding: 0.15em; border-radius: 0.25em; border: 1px solid #fdf07c; background: #ffffc2\">a a a<sup style=\"font-size: 0.7em; color: #c3b95f;\">a</sup></span> <span style=\"padding: 0.15em; border-radius: 0.25em; border: 1px solid #fdf07c; background: #ffffc2\">b b<sup style=\"font-size: 0.7em; color: #c3b95f;\">b</sup></span> <span style=\"padding: 0.15em; border-radius: 0.25em; border: 1px solid #fdf07c; background: #ffffc2\">c<sup style=\"font-size: 0.7em; color: #c3b95f;\">c</sup></span> <span style=\"padding: 0.15em; border-radius: 0.25em; border: 1px solid #fdf07c; background: #ffffc2\">e<sup style=\"font-size: 0.7em; color: #c3b95f;\">e</sup></span> <span style=\"padding: 0.15em; border-radius: 0.25em; border: 1px solid #fdf07c; background: #ffffc2\">d d d<sup style=\"font-size: 0.7em; color: #c3b95f;\">d</sup></span> <span style=\"padding: 0.15em; border-radius: 0.25em; border: 1px solid #fdf07c; background: #ffffc2\">f f<sup style=\"font-size: 0.7em; color: #c3b95f;\">f</sup></span> <span style=\"padding: 0.15em; border-radius: 0.25em; border: 1px solid #fdf07c; background: #ffffc2\">g g<sup style=\"font-size: 0.7em; color: #c3b95f;\">g</sup></span> <span style=\"padding: 0.15em; border-radius: 0.25em; border: 1px solid #fdf07c; background: #ffffc2\">h<sup style=\"font-size: 0.7em; color: #c3b95f;\">h</sup></span></div>\n",
       "</td>\n",
       "<td style=\"width: 20%\">\n",
       "<div class=\"tex2jax_ignore\" style=\"line-height: 1.6em; white-space: pre-wrap\"><span style=\"border-bottom: 2px solid #ffbb78; padding-bottom: 1px\">a a a</span> <span style=\"border-bottom: 2px solid #98df8a; padding-bottom: 1px\">b b</span> <span style=\"border-bottom: 2px solid #ff9896; padding-bottom: 1px\">c</span> <span style=\"border-bottom: 2px solid #aec7e8; padding-bottom: 1px\">e</span> <span style=\"border-bottom: 2px solid #c5b0d5; padding-bottom: 1px\">d d d</span> <span style=\"border-bottom: 2px solid #ffbb78; padding-bottom: 1px\">f f</span> <span style=\"border-bottom: 2px solid #98df8a; padding-bottom: 1px\">g g</span> <span style=\"border-bottom: 2px solid #ff9896; padding-bottom: 1px\">h</span></div>\n",
       "</td>\n",
       "<td style=\"width: 20%\">\n",
       "<div style=\"line-height: 1.6em; white-space: pre-wrap\"><span style=\"border-bottom: 2px solid #aec7e8; padding-bottom: 1px\">a a a</span><span style=\"display: inline-block; margin-left: 1px; font-size: 7px;\">a</span> <span style=\"border-bottom: 2px solid #aec7e8; padding-bottom: 1px\">b b</span><span style=\"display: inline-block; margin-left: 1px; font-size: 7px;\">b</span> <span style=\"border-bottom: 2px solid #aec7e8; padding-bottom: 1px\">c</span><span style=\"display: inline-block; margin-left: 1px; font-size: 7px;\">c</span> <span style=\"border-bottom: 2px solid #aec7e8; padding-bottom: 1px\">e</span><span style=\"display: inline-block; margin-left: 1px; font-size: 7px;\">e</span> <span style=\"border-bottom: 2px solid #aec7e8; padding-bottom: 1px\">d d d</span><span style=\"display: inline-block; margin-left: 1px; font-size: 7px;\">d</span> <span style=\"border-bottom: 2px solid #aec7e8; padding-bottom: 1px\">f f</span><span style=\"display: inline-block; margin-left: 1px; font-size: 7px;\">f</span> <span style=\"border-bottom: 2px solid #aec7e8; padding-bottom: 1px\">g g</span><span style=\"display: inline-block; margin-left: 1px; font-size: 7px;\">g</span> <span style=\"border-bottom: 2px solid #aec7e8; padding-bottom: 1px\">h</span><span style=\"display: inline-block; margin-left: 1px; font-size: 7px;\">h</span></div>\n",
       "</td>\n",
       "<td style=\"width: 20%\">\n",
       "<pre>a a a b b c e d d d f f g g h\n",
       "a---- b-- c e d---- f-- g-- h</pre>\n",
       "</td>\n",
       "</tr>\n",
       "<tr style=\"background: none\">\n",
       "<td style=\"width: 20%\">\n",
       "<div class=\"tex2jax_ignore\" style=\"white-space: pre-wrap\"><span style=\"padding: 0.15em; border-radius: 0.25em; border: 1px solid #c6e1f9; background: #ecf6ff\">a d a b a a a</span><span style=\"padding: 0.15em; border-radius: 0.25em; border: 1px solid #ffd6d5; background: #fff1f1\">d a b a a a b c c c f d</span><span style=\"padding: 0.15em; border-radius: 0.25em; border: 1px solid #ffd9b4; background: #fff1e4\">b a a a b</span> <span style=\"padding: 0.15em; border-radius: 0.25em; border: 1px solid #afeca3; background: #efffec\">c c c</span> <span style=\"padding: 0.15em; border-radius: 0.25em; border: 1px solid #c6e1f9; background: #ecf6ff\">f</span> d</div>\n",
       "</td>\n",
       "<td style=\"width: 20%\">\n",
       "<div class=\"tex2jax_ignore\" style=\"white-space: pre-wrap\"><span style=\"padding: 0.15em; border-radius: 0.25em; border: 1px solid #fdf07c; background: #ffffc2\">a d a b a a a<sup style=\"font-size: 0.7em; color: #c3b95f;\">a</sup></span><span style=\"padding: 0.15em; border-radius: 0.25em; border: 1px solid #fdf07c; background: #ffffc2\">d a b a a a b c c c f d<sup style=\"font-size: 0.7em; color: #c3b95f;\">d</sup></span><span style=\"padding: 0.15em; border-radius: 0.25em; border: 1px solid #fdf07c; background: #ffffc2\">b a a a b<sup style=\"font-size: 0.7em; color: #c3b95f;\">b</sup></span> <span style=\"padding: 0.15em; border-radius: 0.25em; border: 1px solid #fdf07c; background: #ffffc2\">c c c<sup style=\"font-size: 0.7em; color: #c3b95f;\">c</sup></span> <span style=\"padding: 0.15em; border-radius: 0.25em; border: 1px solid #fdf07c; background: #ffffc2\">f<sup style=\"font-size: 0.7em; color: #c3b95f;\">f</sup></span> d</div>\n",
       "</td>\n",
       "<td style=\"width: 20%\">\n",
       "<div class=\"tex2jax_ignore\" style=\"line-height: 1.6em; white-space: pre-wrap\"><span style=\"border-bottom: 2px solid #ffbb78; padding-bottom: 1px\">a </span><span style=\"border-bottom: 2px solid #ffbb78; padding-bottom: 1px\"><span style=\"border-bottom: 2px solid #c5b0d5; padding-bottom: 4px\">d a </span></span><span style=\"border-bottom: 2px solid #ffbb78; padding-bottom: 1px\"><span style=\"border-bottom: 2px solid #c5b0d5; padding-bottom: 4px\"><span style=\"border-bottom: 2px solid #98df8a; padding-bottom: 7px\">b a a a</span></span></span><span style=\"border-bottom: 2px solid #c5b0d5; padding-bottom: 4px\"><span style=\"border-bottom: 2px solid #98df8a; padding-bottom: 7px\"> b</span></span><span style=\"border-bottom: 2px solid #c5b0d5; padding-bottom: 4px\"> </span><span style=\"border-bottom: 2px solid #ff9896; padding-bottom: 1px\"><span style=\"border-bottom: 2px solid #c5b0d5; padding-bottom: 4px\">c c c</span></span><span style=\"border-bottom: 2px solid #c5b0d5; padding-bottom: 4px\"> </span><span style=\"border-bottom: 2px solid #ffbb78; padding-bottom: 1px\"><span style=\"border-bottom: 2px solid #c5b0d5; padding-bottom: 4px\">f</span></span><span style=\"border-bottom: 2px solid #c5b0d5; padding-bottom: 4px\"> d</span></div>\n",
       "</td>\n",
       "<td style=\"width: 20%\">\n",
       "<div style=\"line-height: 1.6em; white-space: pre-wrap\"><span style=\"border-bottom: 2px solid #aec7e8; padding-bottom: 1px\">a </span><span style=\"display: inline-block; margin-left: 1px; font-size: 7px;\">a</span><span style=\"border-bottom: 2px solid #aec7e8; padding-bottom: 1px\">d a </span><span style=\"display: inline-block; margin-left: 1px; font-size: 7px;\"><span style=\"display: block; height: 7px;\">a</span><span style=\"display: block; height: 7px;\">d</span></span><span style=\"border-bottom: 2px solid #aec7e8; padding-bottom: 1px\">b a a a</span><span style=\"display: inline-block; margin-left: 1px; font-size: 7px;\"><span style=\"display: block; height: 7px;\">a</span><span style=\"display: block; height: 7px;\">d</span><span style=\"display: block; height: 7px;\">b</span></span><span style=\"border-bottom: 2px solid #aec7e8; padding-bottom: 1px\"> b</span><span style=\"display: inline-block; margin-left: 1px; font-size: 7px;\"><span style=\"display: block; height: 7px;\">d</span><span style=\"display: block; height: 7px;\">b</span></span> <span style=\"border-bottom: 2px solid #aec7e8; padding-bottom: 1px\">c c c</span><span style=\"display: inline-block; margin-left: 1px; font-size: 7px;\"><span style=\"display: block; height: 7px;\">c</span><span style=\"display: block; height: 7px;\">d</span></span> <span style=\"border-bottom: 2px solid #aec7e8; padding-bottom: 1px\">f</span><span style=\"display: inline-block; margin-left: 1px; font-size: 7px;\"><span style=\"display: block; height: 7px;\">f</span><span style=\"display: block; height: 7px;\">d</span></span><span style=\"border-bottom: 2px solid #aec7e8; padding-bottom: 1px\"> d</span><span style=\"display: inline-block; margin-left: 1px; font-size: 7px;\">d</span></div>\n",
       "</td>\n",
       "<td style=\"width: 20%\">\n",
       "<pre>a d a b a a a b c c c f d\n",
       "a------------   c---- f  \n",
       "  d----------------------\n",
       "      b--------          </pre>\n",
       "</td>\n",
       "</tr>\n",
       "<tr style=\"background: none\">\n",
       "<td style=\"width: 20%\">\n",
       "<div class=\"tex2jax_ignore\" style=\"white-space: pre-wrap\"><span style=\"padding: 0.15em; border-radius: 0.25em; border: 1px solid #c6e1f9; background: #ecf6ff\">a b b c c d e f g h h i i a</span><span style=\"padding: 0.15em; border-radius: 0.25em; border: 1px solid #ffd9b4; background: #fff1e4\">b b</span> <span style=\"padding: 0.15em; border-radius: 0.25em; border: 1px solid #afeca3; background: #efffec\">c c</span> <span style=\"padding: 0.15em; border-radius: 0.25em; border: 1px solid #ffd6d5; background: #fff1f1\">d</span> <span style=\"padding: 0.15em; border-radius: 0.25em; border: 1px solid #fdf07c; background: #ffffc2\">e</span> <span style=\"padding: 0.15em; border-radius: 0.25em; border: 1px solid #c6e1f9; background: #ecf6ff\">f</span> <span style=\"padding: 0.15em; border-radius: 0.25em; border: 1px solid #ffd9b4; background: #fff1e4\">g</span> <span style=\"padding: 0.15em; border-radius: 0.25em; border: 1px solid #afeca3; background: #efffec\">h h</span> <span style=\"padding: 0.15em; border-radius: 0.25em; border: 1px solid #ffd6d5; background: #fff1f1\">i i</span> a</div>\n",
       "</td>\n",
       "<td style=\"width: 20%\">\n",
       "<div class=\"tex2jax_ignore\" style=\"white-space: pre-wrap\"><span style=\"padding: 0.15em; border-radius: 0.25em; border: 1px solid #fdf07c; background: #ffffc2\">a b b c c d e f g h h i i a<sup style=\"font-size: 0.7em; color: #c3b95f;\">a</sup></span><span style=\"padding: 0.15em; border-radius: 0.25em; border: 1px solid #fdf07c; background: #ffffc2\">b b<sup style=\"font-size: 0.7em; color: #c3b95f;\">b</sup></span> <span style=\"padding: 0.15em; border-radius: 0.25em; border: 1px solid #fdf07c; background: #ffffc2\">c c<sup style=\"font-size: 0.7em; color: #c3b95f;\">c</sup></span> <span style=\"padding: 0.15em; border-radius: 0.25em; border: 1px solid #fdf07c; background: #ffffc2\">d<sup style=\"font-size: 0.7em; color: #c3b95f;\">d</sup></span> <span style=\"padding: 0.15em; border-radius: 0.25em; border: 1px solid #fdf07c; background: #ffffc2\">e<sup style=\"font-size: 0.7em; color: #c3b95f;\">e</sup></span> <span style=\"padding: 0.15em; border-radius: 0.25em; border: 1px solid #fdf07c; background: #ffffc2\">f<sup style=\"font-size: 0.7em; color: #c3b95f;\">f</sup></span> <span style=\"padding: 0.15em; border-radius: 0.25em; border: 1px solid #fdf07c; background: #ffffc2\">g<sup style=\"font-size: 0.7em; color: #c3b95f;\">g</sup></span> <span style=\"padding: 0.15em; border-radius: 0.25em; border: 1px solid #fdf07c; background: #ffffc2\">h h<sup style=\"font-size: 0.7em; color: #c3b95f;\">h</sup></span> <span style=\"padding: 0.15em; border-radius: 0.25em; border: 1px solid #fdf07c; background: #ffffc2\">i i<sup style=\"font-size: 0.7em; color: #c3b95f;\">i</sup></span> a</div>\n",
       "</td>\n",
       "<td style=\"width: 20%\">\n",
       "<div class=\"tex2jax_ignore\" style=\"line-height: 1.6em; white-space: pre-wrap\"><span style=\"border-bottom: 2px solid #ffbb78; padding-bottom: 1px\">a </span><span style=\"border-bottom: 2px solid #ffbb78; padding-bottom: 1px\"><span style=\"border-bottom: 2px solid #98df8a; padding-bottom: 4px\">b b</span></span><span style=\"border-bottom: 2px solid #ffbb78; padding-bottom: 1px\"> </span><span style=\"border-bottom: 2px solid #ffbb78; padding-bottom: 1px\"><span style=\"border-bottom: 2px solid #ff9896; padding-bottom: 4px\">c c</span></span><span style=\"border-bottom: 2px solid #ffbb78; padding-bottom: 1px\"> </span><span style=\"border-bottom: 2px solid #ffbb78; padding-bottom: 1px\"><span style=\"border-bottom: 2px solid #c5b0d5; padding-bottom: 4px\">d</span></span><span style=\"border-bottom: 2px solid #ffbb78; padding-bottom: 1px\"> </span><span style=\"border-bottom: 2px solid #ffbb78; padding-bottom: 1px\"><span style=\"border-bottom: 2px solid #aec7e8; padding-bottom: 4px\">e</span></span><span style=\"border-bottom: 2px solid #ffbb78; padding-bottom: 1px\"> </span><span style=\"border-bottom: 2px solid #ffbb78; padding-bottom: 1px\"><span style=\"border-bottom: 2px solid #ffbb78; padding-bottom: 4px\">f</span></span><span style=\"border-bottom: 2px solid #ffbb78; padding-bottom: 1px\"> </span><span style=\"border-bottom: 2px solid #ffbb78; padding-bottom: 1px\"><span style=\"border-bottom: 2px solid #98df8a; padding-bottom: 4px\">g</span></span><span style=\"border-bottom: 2px solid #ffbb78; padding-bottom: 1px\"> </span><span style=\"border-bottom: 2px solid #ffbb78; padding-bottom: 1px\"><span style=\"border-bottom: 2px solid #ff9896; padding-bottom: 4px\">h h</span></span><span style=\"border-bottom: 2px solid #ffbb78; padding-bottom: 1px\"> </span><span style=\"border-bottom: 2px solid #ffbb78; padding-bottom: 1px\"><span style=\"border-bottom: 2px solid #c5b0d5; padding-bottom: 4px\">i i</span></span><span style=\"border-bottom: 2px solid #ffbb78; padding-bottom: 1px\"> a</span></div>\n",
       "</td>\n",
       "<td style=\"width: 20%\">\n",
       "<div style=\"line-height: 1.6em; white-space: pre-wrap\"><span style=\"border-bottom: 2px solid #aec7e8; padding-bottom: 1px\">a </span><span style=\"display: inline-block; margin-left: 1px; font-size: 7px;\">a</span><span style=\"border-bottom: 2px solid #aec7e8; padding-bottom: 1px\">b b</span><span style=\"display: inline-block; margin-left: 1px; font-size: 7px;\"><span style=\"display: block; height: 7px;\">a</span><span style=\"display: block; height: 7px;\">b</span></span> <span style=\"border-bottom: 2px solid #aec7e8; padding-bottom: 1px\">c c</span><span style=\"display: inline-block; margin-left: 1px; font-size: 7px;\"><span style=\"display: block; height: 7px;\">a</span><span style=\"display: block; height: 7px;\">c</span></span> <span style=\"border-bottom: 2px solid #aec7e8; padding-bottom: 1px\">d</span><span style=\"display: inline-block; margin-left: 1px; font-size: 7px;\"><span style=\"display: block; height: 7px;\">a</span><span style=\"display: block; height: 7px;\">d</span></span> <span style=\"border-bottom: 2px solid #aec7e8; padding-bottom: 1px\">e</span><span style=\"display: inline-block; margin-left: 1px; font-size: 7px;\"><span style=\"display: block; height: 7px;\">a</span><span style=\"display: block; height: 7px;\">e</span></span> <span style=\"border-bottom: 2px solid #aec7e8; padding-bottom: 1px\">f</span><span style=\"display: inline-block; margin-left: 1px; font-size: 7px;\"><span style=\"display: block; height: 7px;\">a</span><span style=\"display: block; height: 7px;\">f</span></span> <span style=\"border-bottom: 2px solid #aec7e8; padding-bottom: 1px\">g</span><span style=\"display: inline-block; margin-left: 1px; font-size: 7px;\"><span style=\"display: block; height: 7px;\">a</span><span style=\"display: block; height: 7px;\">g</span></span> <span style=\"border-bottom: 2px solid #aec7e8; padding-bottom: 1px\">h h</span><span style=\"display: inline-block; margin-left: 1px; font-size: 7px;\"><span style=\"display: block; height: 7px;\">a</span><span style=\"display: block; height: 7px;\">h</span></span> <span style=\"border-bottom: 2px solid #aec7e8; padding-bottom: 1px\">i i</span><span style=\"display: inline-block; margin-left: 1px; font-size: 7px;\"><span style=\"display: block; height: 7px;\">a</span><span style=\"display: block; height: 7px;\">i</span></span><span style=\"border-bottom: 2px solid #aec7e8; padding-bottom: 1px\"> a</span><span style=\"display: inline-block; margin-left: 1px; font-size: 7px;\">a</span></div>\n",
       "</td>\n",
       "<td style=\"width: 20%\">\n",
       "<pre>a b b c c d e f g h h i i a\n",
       "a--------------------------\n",
       "  b-- c-- d e f g h-- i--  </pre>\n",
       "</td>\n",
       "</tr>\n",
       "</table>"
      ],
      "text/plain": [
       "<IPython.core.display.HTML object>"
      ]
     },
     "metadata": {},
     "output_type": "display_data"
    }
   ],
   "source": [
    "from ipymarkup.example import show_table\n",
    "show_table()"
   ]
  },
  {
   "cell_type": "markdown",
   "metadata": {},
   "source": [
    "## Установка"
   ]
  },
  {
   "cell_type": "markdown",
   "metadata": {},
   "source": [
    "Поддерживается Python 2.7+, 3.4+\n",
    "<pre>pip install ipymarkup</pre>"
   ]
  },
  {
   "cell_type": "markdown",
   "metadata": {},
   "source": [
    "## Примеры"
   ]
  },
  {
   "cell_type": "code",
   "execution_count": 2,
   "metadata": {},
   "outputs": [
    {
     "data": {
      "text/html": [
       "<div class=\"tex2jax_ignore\" style=\"line-height: 1.6em; white-space: pre-wrap\"><span style=\"border-bottom: 2px solid #ffbb78; padding-bottom: 1px\">a </span><span style=\"border-bottom: 2px solid #ffbb78; padding-bottom: 1px\"><span style=\"border-bottom: 2px solid #c5b0d5; padding-bottom: 4px\">d a </span></span><span style=\"border-bottom: 2px solid #ffbb78; padding-bottom: 1px\"><span style=\"border-bottom: 2px solid #c5b0d5; padding-bottom: 4px\"><span style=\"border-bottom: 2px solid #98df8a; padding-bottom: 7px\">b a a a</span></span></span><span style=\"border-bottom: 2px solid #c5b0d5; padding-bottom: 4px\"><span style=\"border-bottom: 2px solid #98df8a; padding-bottom: 7px\"> b</span></span><span style=\"border-bottom: 2px solid #c5b0d5; padding-bottom: 4px\"> </span><span style=\"border-bottom: 2px solid #ff9896; padding-bottom: 1px\"><span style=\"border-bottom: 2px solid #c5b0d5; padding-bottom: 4px\">c c c</span></span><span style=\"border-bottom: 2px solid #c5b0d5; padding-bottom: 4px\"> </span><span style=\"border-bottom: 2px solid #ffbb78; padding-bottom: 1px\"><span style=\"border-bottom: 2px solid #c5b0d5; padding-bottom: 4px\">f</span></span><span style=\"border-bottom: 2px solid #c5b0d5; padding-bottom: 4px\"> d</span></div>"
      ],
      "text/plain": [
       "LineMarkup('a d a b a a a b c c c f d',\n",
       "           [Span(0, 13, 'a'),\n",
       "            Span(2, 25, 'd'),\n",
       "            Span(6, 15, 'b'),\n",
       "            Span(16, 21, 'c'),\n",
       "            Span(22, 23, 'f')])"
      ]
     },
     "execution_count": 2,
     "metadata": {},
     "output_type": "execute_result"
    }
   ],
   "source": [
    "from ipymarkup import Span, LineMarkup\n",
    "\n",
    "text = 'a d a b a a a b c c c f d'\n",
    "spans = [\n",
    "    Span(0, 13, 'a'),\n",
    "    Span(2, 25, 'd'),\n",
    "    Span(6, 15, 'b'),\n",
    "    Span(16, 21, 'c'),\n",
    "    Span(22, 23, 'f'),\n",
    "]\n",
    "LineMarkup(text, spans)"
   ]
  },
  {
   "cell_type": "code",
   "execution_count": 3,
   "metadata": {},
   "outputs": [
    {
     "data": {
      "text/plain": [
       "a d a b a a a b c c c f d\n",
       "a------------   c---- f  \n",
       "  d----------------------\n",
       "      b--------          \n"
      ]
     },
     "execution_count": 3,
     "metadata": {},
     "output_type": "execute_result"
    }
   ],
   "source": [
    "from ipymarkup import AsciiMarkup\n",
    "\n",
    "AsciiMarkup(text, spans)"
   ]
  },
  {
   "cell_type": "markdown",
   "metadata": {},
   "source": [
    "## Типы визуализаций"
   ]
  },
  {
   "cell_type": "code",
   "execution_count": 4,
   "metadata": {},
   "outputs": [],
   "source": [
    "from ipymarkup import *\n",
    "from ipymarkup.example import *"
   ]
  },
  {
   "cell_type": "markdown",
   "metadata": {},
   "source": [
    "Все доступные в библиотеки типы визуализаций имеют одинаковый интерфейс, они принимают на вход текст и разметку, выводят их в удобном формате. Разметка — это набор спанов. Спан указывает начало, конец и тип подстроки, например, имя, название организации, дата. В разных ситуациях удобно использовать разные визуализации.\n",
    "\n",
    "Самый распространённый случай: спаны не пересекаются, разных типов спанов немного, обычно, вообще один, тогда удобно использовать `BoxMarkup`. Подписи с названиями типов выводить не нужно, и так понятно, что, например, \"Анна Павловна\" это `Name`, а `июле 1805 года` — `Date`:"
   ]
  },
  {
   "cell_type": "code",
   "execution_count": 5,
   "metadata": {},
   "outputs": [
    {
     "data": {
      "text/html": [
       "<div class=\"tex2jax_ignore\" style=\"white-space: pre-wrap\">Так говорила в <span style=\"padding: 0.15em; border-radius: 0.25em; border: 1px solid #c6e1f9; background: #ecf6ff\">июле 1805 года</span> известная <span style=\"padding: 0.15em; border-radius: 0.25em; border: 1px solid #ffd9b4; background: #fff1e4\">Анна Павловна Шерер</span>, фрейлина и приближенная императрицы <span style=\"padding: 0.15em; border-radius: 0.25em; border: 1px solid #ffd9b4; background: #fff1e4\">Марии Феодоровны</span>, встречая важного и чиновного князя <span style=\"padding: 0.15em; border-radius: 0.25em; border: 1px solid #ffd9b4; background: #fff1e4\">Василия</span>, первого приехавшего на ее вечер. <span style=\"padding: 0.15em; border-radius: 0.25em; border: 1px solid #ffd9b4; background: #fff1e4\">Анна Павловна</span> кашляла несколько дней, у нее был грипп, как она говорила (грипп был тогда новое слово, употреблявшееся только редкими).</div>"
      ],
      "text/plain": [
       "BoxMarkup('Так говорила в июле 1805 года известная Анна Павловна Шерер, фрейлина и приближенная императрицы Марии Феодоровны, встречая важного и чиновного князя Василия, первого приехавшего на ее вечер. Анна Павловна кашляла несколько дней, у нее был грипп, как она говорила (грипп был тогда новое слово, употреблявшееся только редкими).',\n",
       "          [Span(15, 29, 'Date'),\n",
       "           Span(40, 59, 'Name'),\n",
       "           Span(97, 113, 'Name'),\n",
       "           Span(150, 157, 'Name'),\n",
       "           Span(192, 205, 'Name')])"
      ]
     },
     "execution_count": 5,
     "metadata": {},
     "output_type": "execute_result"
    }
   ],
   "source": [
    "BoxMarkup(TEXT1, SPANS1)"
   ]
  },
  {
   "cell_type": "markdown",
   "metadata": {},
   "source": [
    "Когда типов становится много, цвета начинают повторяться. Можно добавить больше цветов, но тогда их становится тяжело различать:"
   ]
  },
  {
   "cell_type": "code",
   "execution_count": 6,
   "metadata": {},
   "outputs": [
    {
     "data": {
      "text/html": [
       "<div class=\"tex2jax_ignore\" style=\"white-space: pre-wrap\">\t  \n",
       "\n",
       "\n",
       "\t <span style=\"padding: 0.15em; border-radius: 0.25em; border: 1px solid #afeca3; background: #efffec\">Кустов Дмитрий Владимирович</span>\n",
       "<span style=\"padding: 0.15em; border-radius: 0.25em; border: 1px solid #ffd6d5; background: #fff1f1\">Мужчина</span>, 35 лет, <span style=\"padding: 0.15em; border-radius: 0.25em; border: 1px solid #fdf07c; background: #ffffc2\">родился 7 августа 1979</span>\n",
       "\n",
       "<span style=\"padding: 0.15em; border-radius: 0.25em; border: 1px solid #c6e1f9; background: #ecf6ff\">+7 (926) 217-87-15</span> - желаемый способ связи\n",
       "<span style=\"padding: 0.15em; border-radius: 0.25em; border: 1px solid #c6e1f9; background: #ecf6ff\">+7 (926) 565-91-98</span>\n",
       "<span style=\"padding: 0.15em; border-radius: 0.25em; border: 1px solid #ffd9b4; background: #fff1e4\">dvkustov@gmail.com</span>\n",
       "Skype: dkustov\n",
       "\n",
       "<span style=\"padding: 0.15em; border-radius: 0.25em; border: 1px solid #afeca3; background: #efffec\">Проживает: Москва, м. Савеловская</span>\n",
       "<span style=\"padding: 0.15em; border-radius: 0.25em; border: 1px solid #ffd6d5; background: #fff1f1\">Гражданство: Россия</span>, <span style=\"padding: 0.15em; border-radius: 0.25em; border: 1px solid #fdf07c; background: #ffffc2\">есть разрешение на работу: Россия</span>\n",
       "<span style=\"padding: 0.15em; border-radius: 0.25em; border: 1px solid #c6e1f9; background: #ecf6ff\">Не готов к переезду</span>, <span style=\"padding: 0.15em; border-radius: 0.25em; border: 1px solid #ffd9b4; background: #fff1e4\">готов к командировкам</span>\n",
       "\n",
       "\tЖелаемая должность и зарплата\n",
       "\n",
       "\t<span style=\"padding: 0.15em; border-radius: 0.25em; border: 1px solid #afeca3; background: #efffec\">CIO, CTO, Руководитель отдела разработки программного обеспечения</span>\n",
       "<span style=\"padding: 0.15em; border-radius: 0.25em; border: 1px solid #ffd6d5; background: #fff1f1\">Информационные технологии, интернет, телеком</span>\n",
       "<span style=\"padding: 0.15em; border-radius: 0.25em; border: 1px solid #fdf07c; background: #ffffc2\">• Управление проектами</span>\n",
       "<span style=\"padding: 0.15em; border-radius: 0.25em; border: 1px solid #fdf07c; background: #ffffc2\">• Программирование, Разработка</span>\n",
       "<span style=\"padding: 0.15em; border-radius: 0.25em; border: 1px solid #fdf07c; background: #ffffc2\">• CTO, CIO, Директор по IT</span>\n",
       "\n",
       "<span style=\"padding: 0.15em; border-radius: 0.25em; border: 1px solid #c6e1f9; background: #ecf6ff\">Занятость: полная занятость</span>\n",
       "<span style=\"padding: 0.15em; border-radius: 0.25em; border: 1px solid #ffd9b4; background: #fff1e4\">График работы: полный день</span>\n",
       "\n",
       "<span style=\"padding: 0.15em; border-radius: 0.25em; border: 1px solid #afeca3; background: #efffec\">Желательное время в пути до работы: не имеет значения</span>\n",
       "...\n",
       "</div>"
      ],
      "text/plain": [
       "BoxMarkup('\\t  \\n\\n\\n\\t Кустов Дмитрий Владимирович\\nМужчина, 35 лет, родился 7 августа 1979\\n\\n+7 (926) 217-87-15 - желаемый способ связи\\n+7 (926) 565-91-98\\ndvkustov@gmail.com\\nSkype: dkustov\\n\\nПроживает: Москва, м. Савеловская\\nГражданство: Россия, есть разрешение на работу: Россия\\nНе готов к переезду, готов к командировкам\\n\\n\\tЖелаемая должность и зарплата\\n\\n\\tCIO, CTO, Руководитель отдела разработки программного обеспечения\\nИнформационные технологии, интернет, телеком\\n• Управление проектами\\n• Программирование, Разработка\\n• CTO, CIO, Директор по IT\\n\\nЗанятость: полная занятость\\nГрафик работы: полный день\\n\\nЖелательное время в пути до работы: не имеет значения\\n...\\n',\n",
       "          [Span(8, 35, 'NAME'),\n",
       "           Span(36, 43, 'GENDER'),\n",
       "           Span(53, 75, 'BIRTH'),\n",
       "           Span(77, 95, 'PHONE'),\n",
       "           Span(120, 138, 'PHONE'),\n",
       "           Span(139, 157, 'EMAIL'),\n",
       "           Span(174, 207, 'LIVES_AT'),\n",
       "           Span(208, 227, 'CITIZENSHIP'),\n",
       "           Span(229, 262, 'PERMISSION'),\n",
       "           Span(263, 282, 'RELOCATION'),\n",
       "           Span(284, 305, 'TRAVEL'),\n",
       "           Span(340, 405, 'POSITION'),\n",
       "           Span(406, 450, 'SECTION'),\n",
       "           Span(451, 473, 'SUBSECTION'),\n",
       "           Span(474, 504, 'SUBSECTION'),\n",
       "           Span(505, 531, 'SUBSECTION'),\n",
       "           Span(533, 560, 'EMPLOYMENT'),\n",
       "           Span(561, 587, 'SCHEDULE'),\n",
       "           Span(589, 642, 'COMMUTE')])"
      ]
     },
     "execution_count": 6,
     "metadata": {},
     "output_type": "execute_result"
    }
   ],
   "source": [
    "BoxMarkup(TEXT2, SPANS2)"
   ]
  },
  {
   "cell_type": "markdown",
   "metadata": {},
   "source": [
    "В таких случаях лучше использовать `BoxLabelMarkup`. Помечать разные типы цветом уже не нужно, есть подписи:"
   ]
  },
  {
   "cell_type": "code",
   "execution_count": 7,
   "metadata": {},
   "outputs": [
    {
     "data": {
      "text/html": [
       "<div class=\"tex2jax_ignore\" style=\"white-space: pre-wrap\">\t  \n",
       "\n",
       "\n",
       "\t <span style=\"padding: 0.15em; border-radius: 0.25em; border: 1px solid #fdf07c; background: #ffffc2\">Кустов Дмитрий Владимирович<sup style=\"font-size: 0.7em; color: #c3b95f;\">NAME</sup></span>\n",
       "<span style=\"padding: 0.15em; border-radius: 0.25em; border: 1px solid #fdf07c; background: #ffffc2\">Мужчина<sup style=\"font-size: 0.7em; color: #c3b95f;\">GENDER</sup></span>, 35 лет, <span style=\"padding: 0.15em; border-radius: 0.25em; border: 1px solid #fdf07c; background: #ffffc2\">родился 7 августа 1979<sup style=\"font-size: 0.7em; color: #c3b95f;\">BIRTH</sup></span>\n",
       "\n",
       "<span style=\"padding: 0.15em; border-radius: 0.25em; border: 1px solid #fdf07c; background: #ffffc2\">+7 (926) 217-87-15<sup style=\"font-size: 0.7em; color: #c3b95f;\">PHONE</sup></span> - желаемый способ связи\n",
       "<span style=\"padding: 0.15em; border-radius: 0.25em; border: 1px solid #fdf07c; background: #ffffc2\">+7 (926) 565-91-98<sup style=\"font-size: 0.7em; color: #c3b95f;\">PHONE</sup></span>\n",
       "<span style=\"padding: 0.15em; border-radius: 0.25em; border: 1px solid #fdf07c; background: #ffffc2\">dvkustov@gmail.com<sup style=\"font-size: 0.7em; color: #c3b95f;\">EMAIL</sup></span>\n",
       "Skype: dkustov\n",
       "\n",
       "<span style=\"padding: 0.15em; border-radius: 0.25em; border: 1px solid #fdf07c; background: #ffffc2\">Проживает: Москва, м. Савеловская<sup style=\"font-size: 0.7em; color: #c3b95f;\">LIVES_AT</sup></span>\n",
       "<span style=\"padding: 0.15em; border-radius: 0.25em; border: 1px solid #fdf07c; background: #ffffc2\">Гражданство: Россия<sup style=\"font-size: 0.7em; color: #c3b95f;\">CITIZENSHIP</sup></span>, <span style=\"padding: 0.15em; border-radius: 0.25em; border: 1px solid #fdf07c; background: #ffffc2\">есть разрешение на работу: Россия<sup style=\"font-size: 0.7em; color: #c3b95f;\">PERMISSION</sup></span>\n",
       "<span style=\"padding: 0.15em; border-radius: 0.25em; border: 1px solid #fdf07c; background: #ffffc2\">Не готов к переезду<sup style=\"font-size: 0.7em; color: #c3b95f;\">RELOCATION</sup></span>, <span style=\"padding: 0.15em; border-radius: 0.25em; border: 1px solid #fdf07c; background: #ffffc2\">готов к командировкам<sup style=\"font-size: 0.7em; color: #c3b95f;\">TRAVEL</sup></span>\n",
       "\n",
       "\tЖелаемая должность и зарплата\n",
       "\n",
       "\t<span style=\"padding: 0.15em; border-radius: 0.25em; border: 1px solid #fdf07c; background: #ffffc2\">CIO, CTO, Руководитель отдела разработки программного обеспечения<sup style=\"font-size: 0.7em; color: #c3b95f;\">POSITION</sup></span>\n",
       "<span style=\"padding: 0.15em; border-radius: 0.25em; border: 1px solid #fdf07c; background: #ffffc2\">Информационные технологии, интернет, телеком<sup style=\"font-size: 0.7em; color: #c3b95f;\">SECTION</sup></span>\n",
       "<span style=\"padding: 0.15em; border-radius: 0.25em; border: 1px solid #fdf07c; background: #ffffc2\">• Управление проектами<sup style=\"font-size: 0.7em; color: #c3b95f;\">SUBSECTION</sup></span>\n",
       "<span style=\"padding: 0.15em; border-radius: 0.25em; border: 1px solid #fdf07c; background: #ffffc2\">• Программирование, Разработка<sup style=\"font-size: 0.7em; color: #c3b95f;\">SUBSECTION</sup></span>\n",
       "<span style=\"padding: 0.15em; border-radius: 0.25em; border: 1px solid #fdf07c; background: #ffffc2\">• CTO, CIO, Директор по IT<sup style=\"font-size: 0.7em; color: #c3b95f;\">SUBSECTION</sup></span>\n",
       "\n",
       "<span style=\"padding: 0.15em; border-radius: 0.25em; border: 1px solid #fdf07c; background: #ffffc2\">Занятость: полная занятость<sup style=\"font-size: 0.7em; color: #c3b95f;\">EMPLOYMENT</sup></span>\n",
       "<span style=\"padding: 0.15em; border-radius: 0.25em; border: 1px solid #fdf07c; background: #ffffc2\">График работы: полный день<sup style=\"font-size: 0.7em; color: #c3b95f;\">SCHEDULE</sup></span>\n",
       "\n",
       "<span style=\"padding: 0.15em; border-radius: 0.25em; border: 1px solid #fdf07c; background: #ffffc2\">Желательное время в пути до работы: не имеет значения<sup style=\"font-size: 0.7em; color: #c3b95f;\">COMMUTE</sup></span>\n",
       "...\n",
       "</div>"
      ],
      "text/plain": [
       "BoxLabelMarkup('\\t  \\n\\n\\n\\t Кустов Дмитрий Владимирович\\nМужчина, 35 лет, родился 7 августа 1979\\n\\n+7 (926) 217-87-15 - желаемый способ связи\\n+7 (926) 565-91-98\\ndvkustov@gmail.com\\nSkype: dkustov\\n\\nПроживает: Москва, м. Савеловская\\nГражданство: Россия, есть разрешение на работу: Россия\\nНе готов к переезду, готов к командировкам\\n\\n\\tЖелаемая должность и зарплата\\n\\n\\tCIO, CTO, Руководитель отдела разработки программного обеспечения\\nИнформационные технологии, интернет, телеком\\n• Управление проектами\\n• Программирование, Разработка\\n• CTO, CIO, Директор по IT\\n\\nЗанятость: полная занятость\\nГрафик работы: полный день\\n\\nЖелательное время в пути до работы: не имеет значения\\n...\\n',\n",
       "               [Span(8, 35, 'NAME'),\n",
       "                Span(36, 43, 'GENDER'),\n",
       "                Span(53, 75, 'BIRTH'),\n",
       "                Span(77, 95, 'PHONE'),\n",
       "                Span(120, 138, 'PHONE'),\n",
       "                Span(139, 157, 'EMAIL'),\n",
       "                Span(174, 207, 'LIVES_AT'),\n",
       "                Span(208, 227, 'CITIZENSHIP'),\n",
       "                Span(229, 262, 'PERMISSION'),\n",
       "                Span(263, 282, 'RELOCATION'),\n",
       "                Span(284, 305, 'TRAVEL'),\n",
       "                Span(340, 405, 'POSITION'),\n",
       "                Span(406, 450, 'SECTION'),\n",
       "                Span(451, 473, 'SUBSECTION'),\n",
       "                Span(474, 504, 'SUBSECTION'),\n",
       "                Span(505, 531, 'SUBSECTION'),\n",
       "                Span(533, 560, 'EMPLOYMENT'),\n",
       "                Span(561, 587, 'SCHEDULE'),\n",
       "                Span(589, 642, 'COMMUTE')])"
      ]
     },
     "execution_count": 7,
     "metadata": {},
     "output_type": "execute_result"
    }
   ],
   "source": [
    "BoxLabelMarkup(TEXT2, SPANS2)"
   ]
  },
  {
   "cell_type": "markdown",
   "metadata": {},
   "source": [
    "Спаны могут пересекаться. Например, во фразе \"... на улице Льва Толстого в доме 5 на первом этаже ...\" есть адрес и ФИО, которые пересекаются. На практике в сложных проектах такая ситуация встречается часто. Например, есть судебный акт, система запускает набор независимых друг от друга анализаторов, извлекает судей, стороны, требования, их разметки могут легко пересекаться. Для таких случаев есть `LineMarkup`:"
   ]
  },
  {
   "cell_type": "code",
   "execution_count": 8,
   "metadata": {},
   "outputs": [
    {
     "data": {
      "text/html": [
       "<div class=\"tex2jax_ignore\" style=\"line-height: 1.6em; white-space: pre-wrap\">Р Е Ш Е Н И Е \n",
       "г. Москва      <span style=\"border-bottom: 2px solid #ffbb78; padding-bottom: 1px\">дело</span> № А40-253826/16-58-1617 \n",
       "«02» мая 2017г.     \n",
       "Резолютивная часть <span style=\"border-bottom: 2px solid #98df8a; padding-bottom: 1px\">решения</span> объявлена 13.03.2017<span style=\"border-bottom: 2px solid #98df8a; padding-bottom: 1px\">г. \n",
       "Решение</span> в полном объеме изготовлено 02.05.2017<span style=\"border-bottom: 2px solid #98df8a; padding-bottom: 1px\">г. \n",
       "</span><span style=\"border-bottom: 2px solid #98df8a; padding-bottom: 1px\"><span style=\"border-bottom: 2px solid #ff9896; padding-bottom: 4px\">Арбитражный</span></span><span style=\"border-bottom: 2px solid #ff9896; padding-bottom: 4px\"> суд </span><span style=\"border-bottom: 2px solid #98df8a; padding-bottom: 1px\"><span style=\"border-bottom: 2px solid #ff9896; padding-bottom: 4px\">г. Москвы</span></span><span style=\"border-bottom: 2px solid #ff9896; padding-bottom: 4px\"> в составе: \n",
       "судьи </span><span style=\"border-bottom: 2px solid #98df8a; padding-bottom: 1px\"><span style=\"border-bottom: 2px solid #ff9896; padding-bottom: 4px\"><span style=\"border-bottom: 2px solid #c5b0d5; padding-bottom: 7px\">О.Н. Жура</span></span></span>, \n",
       "при секретаре <span style=\"border-bottom: 2px solid #98df8a; padding-bottom: 1px\"><span style=\"border-bottom: 2px solid #c5b0d5; padding-bottom: 4px\">Поддубном Е.О.</span></span>,  \n",
       "рассмотрев в судебном заседании <span style=\"border-bottom: 2px solid #98df8a; padding-bottom: 1px\"><span style=\"border-bottom: 2px solid #ffbb78; padding-bottom: 4px\">дело</span></span> по <span style=\"border-bottom: 2px solid #98df8a; padding-bottom: 1px\"><span style=\"border-bottom: 2px solid #ffbb78; padding-bottom: 4px\">исковому заявлению</span></span> <span style=\"border-bottom: 2px solid #98df8a; padding-bottom: 1px\">ООО «Экопром»</span> (<span style=\"border-bottom: 2px solid #98df8a; padding-bottom: 1px\">ОГРН \n",
       "1055255024912</span>, 117042, <span style=\"border-bottom: 2px solid #98df8a; padding-bottom: 1px\">г. Москва</span>, б-р Адмирала Ушакова, д. 18, кв. 287) <span style=\"border-bottom: 2px solid #98df8a; padding-bottom: 1px\">к</span> <span style=\"border-bottom: 2px solid #98df8a; padding-bottom: 1px\"><span style=\"border-bottom: 2px solid #c5b0d5; padding-bottom: 4px\">ответчику</span></span> <span style=\"border-bottom: 2px solid #98df8a; padding-bottom: 1px\">ГБУ \n",
       "г. Москвы «Ритуал»</span> (<span style=\"border-bottom: 2px solid #98df8a; padding-bottom: 1px\">ОГРН 1157746320555</span>, 125057, <span style=\"border-bottom: 2px solid #98df8a; padding-bottom: 1px\">г. Москва</span>, ул. Песчаная, д.3) <span style=\"border-bottom: 2px solid #98df8a; padding-bottom: 1px\"><span style=\"border-bottom: 2px solid #ffbb78; padding-bottom: 4px\">о</span></span><span style=\"border-bottom: 2px solid #ffbb78; padding-bottom: 4px\"> \n",
       "</span><span style=\"border-bottom: 2px solid #98df8a; padding-bottom: 1px\"><span style=\"border-bottom: 2px solid #ffbb78; padding-bottom: 4px\">взыскании</span></span><span style=\"border-bottom: 2px solid #ffbb78; padding-bottom: 4px\"> </span><span style=\"border-bottom: 2px solid #98df8a; padding-bottom: 1px\"><span style=\"border-bottom: 2px solid #ffbb78; padding-bottom: 4px\">задолженности</span></span>, \n",
       "по <span style=\"border-bottom: 2px solid #98df8a; padding-bottom: 1px\"><span style=\"border-bottom: 2px solid #ffbb78; padding-bottom: 4px\">встречному исковому заявлению</span></span> <span style=\"border-bottom: 2px solid #98df8a; padding-bottom: 1px\">ГБУ г. Москвы «Ритуал»</span> <span style=\"border-bottom: 2px solid #98df8a; padding-bottom: 1px\">к</span> <span style=\"border-bottom: 2px solid #98df8a; padding-bottom: 1px\"><span style=\"border-bottom: 2px solid #c5b0d5; padding-bottom: 4px\">ответчику</span></span> - <span style=\"border-bottom: 2px solid #98df8a; padding-bottom: 1px\">ООО \n",
       "«Экопром»</span> <span style=\"border-bottom: 2px solid #98df8a; padding-bottom: 1px\"><span style=\"border-bottom: 2px solid #ffbb78; padding-bottom: 4px\">о</span></span><span style=\"border-bottom: 2px solid #ffbb78; padding-bottom: 4px\"> </span><span style=\"border-bottom: 2px solid #98df8a; padding-bottom: 1px\"><span style=\"border-bottom: 2px solid #ffbb78; padding-bottom: 4px\">взыскании</span></span><span style=\"border-bottom: 2px solid #ffbb78; padding-bottom: 4px\"> </span><span style=\"border-bottom: 2px solid #98df8a; padding-bottom: 1px\"><span style=\"border-bottom: 2px solid #ffbb78; padding-bottom: 4px\">пени</span></span><span style=\"border-bottom: 2px solid #ffbb78; padding-bottom: 4px\"> в размере </span><span style=\"border-bottom: 2px solid #98df8a; padding-bottom: 1px\"><span style=\"border-bottom: 2px solid #ffbb78; padding-bottom: 4px\">932.393, 94 руб.</span></span>, <span style=\"border-bottom: 2px solid #98df8a; padding-bottom: 1px\">штрафа</span> по <span style=\"border-bottom: 2px solid #98df8a; padding-bottom: 1px\">государственному \n",
       "контракту</span> №0373200657316000007-44/2016 <span style=\"border-bottom: 2px solid #c5b0d5; padding-bottom: 1px\">от 21.06.2016 г.</span> в размере <span style=\"border-bottom: 2px solid #98df8a; padding-bottom: 1px\">625.157, 31 руб.</span> \n",
       "<span style=\"border-bottom: 2px solid #98df8a; padding-bottom: 1px\"><span style=\"border-bottom: 2px solid #c5b0d5; padding-bottom: 4px\">с участием</span></span>: <span style=\"border-bottom: 2px solid #c5b0d5; padding-bottom: 1px\">представитель</span> <span style=\"border-bottom: 2px solid #98df8a; padding-bottom: 1px\"><span style=\"border-bottom: 2px solid #c5b0d5; padding-bottom: 4px\">истца</span></span> - <span style=\"border-bottom: 2px solid #98df8a; padding-bottom: 1px\"><span style=\"border-bottom: 2px solid #c5b0d5; padding-bottom: 4px\">Чекин Р.О.</span></span> (паспорт, <span style=\"border-bottom: 2px solid #c5b0d5; padding-bottom: 1px\">доверенность</span> <span style=\"border-bottom: 2px solid #c5b0d5; padding-bottom: 1px\">от 01.09.2016 г.</span>), \n",
       "<span style=\"border-bottom: 2px solid #c5b0d5; padding-bottom: 1px\">представитель</span> <span style=\"border-bottom: 2px solid #98df8a; padding-bottom: 1px\"><span style=\"border-bottom: 2px solid #c5b0d5; padding-bottom: 4px\">ответчика</span></span> - <span style=\"border-bottom: 2px solid #98df8a; padding-bottom: 1px\"><span style=\"border-bottom: 2px solid #c5b0d5; padding-bottom: 4px\">Рябова И.А.</span></span> (паспорт, <span style=\"border-bottom: 2px solid #c5b0d5; padding-bottom: 1px\">доверенность</span> <span style=\"border-bottom: 2px solid #c5b0d5; padding-bottom: 1px\">от 20.02.2017 г.</span>), </div>"
      ],
      "text/plain": [
       "LineMarkup('Р Е Ш Е Н И Е \\nг. Москва      дело № А40-253826/16-58-1617 \\n«02» мая 2017г.     \\nРезолютивная часть решения объявлена 13.03.2017г. \\nРешение в полном объеме изготовлено 02.05.2017г. \\nАрбитражный суд г. Москвы в составе: \\nсудьи О.Н. Жура, \\nпри секретаре Поддубном Е.О.,  \\nрассмотрев в судебном заседании дело по исковому заявлению ООО «Экопром» (ОГРН \\n1055255024912, 117042, г. Москва, б-р Адмирала Ушакова, д. 18, кв. 287) к ответчику ГБУ \\nг. Москвы «Ритуал» (ОГРН 1157746320555, 125057, г. Москва, ул. Песчаная, д.3) о \\nвзыскании задолженности, \\nпо встречному исковому заявлению ГБУ г. Москвы «Ритуал» к ответчику - ООО \\n«Экопром» о взыскании пени в размере 932.393, 94 руб., штрафа по государственному \\nконтракту №0373200657316000007-44/2016 от 21.06.2016 г. в размере 625.157, 31 руб. \\nс участием: представитель истца - Чекин Р.О. (паспорт, доверенность от 01.09.2016 г.), \\nпредставитель ответчика - Рябова И.А. (паспорт, доверенность от 20.02.2017 г.), ',\n",
       "           [Span(30, 34, 'topic'),\n",
       "            Span(100, 107, 'claim'),\n",
       "            Span(128, 139, 'claim'),\n",
       "            Span(178, 193, 'claim'),\n",
       "            Span(182, 235, 'staff'),\n",
       "            Span(198, 207, 'claim'),\n",
       "            Span(226, 235, 'claim'),\n",
       "            Span(226, 235, 'outcome'),\n",
       "            Span(252, 266, 'claim'),\n",
       "            Span(252, 266, 'outcome'),\n",
       "            Span(302, 306, 'claim'),\n",
       "            Span(302, 306, 'topic'),\n",
       "            Span(310, 328, 'claim'),\n",
       "            Span(310, 328, 'topic'),\n",
       "            Span(329, 342, 'claim'),\n",
       "            Span(344, 363, 'claim'),\n",
       "            Span(373, 382, 'claim'),\n",
       "            Span(422, 423, 'claim'),\n",
       "            Span(424, 433, 'claim'),\n",
       "            Span(424, 433, 'outcome'),\n",
       "            Span(434, 457, 'claim'),\n",
       "            Span(459, 477, 'claim'),\n",
       "            Span(487, 496, 'claim'),\n",
       "            Span(517, 518, 'claim'),\n",
       "            Span(517, 543, 'topic'),\n",
       "            Span(520, 529, 'claim'),\n",
       "            Span(530, 543, 'claim'),\n",
       "            Span(549, 578, 'claim'),\n",
       "            Span(549, 578, 'topic'),\n",
       "            Span(579, 601, 'claim'),\n",
       "            Span(602, 603, 'claim'),\n",
       "            Span(604, 613, 'claim'),\n",
       "            Span(604, 613, 'outcome'),\n",
       "            Span(616, 630, 'claim'),\n",
       "            Span(631, 632, 'claim'),\n",
       "            Span(631, 674, 'topic'),\n",
       "            Span(633, 642, 'claim'),\n",
       "            Span(643, 647, 'claim'),\n",
       "            Span(658, 674, 'claim'),\n",
       "            Span(676, 682, 'claim'),\n",
       "            Span(686, 713, 'claim'),\n",
       "            Span(743, 759, 'outcome'),\n",
       "            Span(770, 786, 'claim'),\n",
       "            Span(788, 798, 'claim'),\n",
       "            Span(788, 798, 'outcome'),\n",
       "            Span(800, 813, 'outcome'),\n",
       "            Span(814, 819, 'claim'),\n",
       "            Span(814, 819, 'outcome'),\n",
       "            Span(822, 832, 'claim'),\n",
       "            Span(822, 832, 'outcome'),\n",
       "            Span(843, 855, 'outcome'),\n",
       "            Span(856, 872, 'outcome'),\n",
       "            Span(876, 889, 'outcome'),\n",
       "            Span(890, 899, 'claim'),\n",
       "            Span(890, 899, 'outcome'),\n",
       "            Span(902, 913, 'claim'),\n",
       "            Span(902, 913, 'outcome'),\n",
       "            Span(924, 936, 'outcome'),\n",
       "            Span(937, 953, 'outcome')])"
      ]
     },
     "execution_count": 8,
     "metadata": {},
     "output_type": "execute_result"
    }
   ],
   "source": [
    "LineMarkup(TEXT3, SPANS3)"
   ]
  },
  {
   "cell_type": "markdown",
   "metadata": {},
   "source": [
    "Иногда типов становится слишком много или разметки сильно пересекаются:"
   ]
  },
  {
   "cell_type": "code",
   "execution_count": 9,
   "metadata": {},
   "outputs": [
    {
     "data": {
      "text/html": [
       "<div class=\"tex2jax_ignore\" style=\"line-height: 1.6em; white-space: pre-wrap\"><span style=\"border-bottom: 2px solid #aec7e8; padding-bottom: 1px\">Опыт работы - 28 лет 8 месяцев</span>\n",
       "<span style=\"border-bottom: 2px solid #ffbb78; padding-bottom: 1px\"><span style=\"border-bottom: 2px solid #98df8a; padding-bottom: 4px\">Январь 2010 -\n",
       "Март 2016\n",
       "6 лет 3 месяца</span></span><span style=\"border-bottom: 2px solid #98df8a; padding-bottom: 4px\">\n",
       "\n",
       "</span><span style=\"border-bottom: 2px solid #ffbb78; padding-bottom: 1px\"><span style=\"border-bottom: 2px solid #98df8a; padding-bottom: 4px\">ООО ТрансРоуд</span></span><span style=\"border-bottom: 2px solid #98df8a; padding-bottom: 4px\">\n",
       "</span><span style=\"border-bottom: 2px solid #ff9896; padding-bottom: 1px\"><span style=\"border-bottom: 2px solid #98df8a; padding-bottom: 4px\">Москва</span></span><span style=\"border-bottom: 2px solid #98df8a; padding-bottom: 4px\">\n",
       "\n",
       "</span><span style=\"border-bottom: 2px solid #c5b0d5; padding-bottom: 1px\"><span style=\"border-bottom: 2px solid #98df8a; padding-bottom: 4px\">старший мастер по ремонту автотранспорта</span></span><span style=\"border-bottom: 2px solid #98df8a; padding-bottom: 4px\">\n",
       "</span><span style=\"border-bottom: 2px solid #aec7e8; padding-bottom: 1px\"><span style=\"border-bottom: 2px solid #98df8a; padding-bottom: 4px\">контроль за выполнением качественного ремонта автотранспорта,проведением ТО,\n",
       "руководство персоналом АРМ,соблюдением норм техники безопасности и охраны труда</span></span>\n",
       "\n",
       "<span style=\"border-bottom: 2px solid #aec7e8; padding-bottom: 1px\"><span style=\"border-bottom: 2px solid #98df8a; padding-bottom: 4px\">Январь 1994 -\n",
       "Январь 2004\n",
       "10 лет 1 месяц</span></span><span style=\"border-bottom: 2px solid #98df8a; padding-bottom: 4px\">\n",
       "\n",
       "</span><span style=\"border-bottom: 2px solid #ffbb78; padding-bottom: 1px\"><span style=\"border-bottom: 2px solid #98df8a; padding-bottom: 4px\">ГУП Тереньгульское АТП</span></span><span style=\"border-bottom: 2px solid #98df8a; padding-bottom: 4px\">\n",
       "</span><span style=\"border-bottom: 2px solid #ff9896; padding-bottom: 1px\"><span style=\"border-bottom: 2px solid #98df8a; padding-bottom: 4px\">Ульяновская область</span></span><span style=\"border-bottom: 2px solid #98df8a; padding-bottom: 4px\">\n",
       "\n",
       "</span><span style=\"border-bottom: 2px solid #c5b0d5; padding-bottom: 1px\"><span style=\"border-bottom: 2px solid #98df8a; padding-bottom: 4px\">Главный инженер</span></span><span style=\"border-bottom: 2px solid #98df8a; padding-bottom: 4px\">\n",
       "</span><span style=\"border-bottom: 2px solid #aec7e8; padding-bottom: 1px\"><span style=\"border-bottom: 2px solid #98df8a; padding-bottom: 4px\">руководство производственной деятельностью АТП, руководство коллективом,</span></span>\n",
       "\n",
       "<span style=\"border-bottom: 2px solid #aec7e8; padding-bottom: 1px\"><span style=\"border-bottom: 2px solid #98df8a; padding-bottom: 4px\">Сентябрь 1981 -\n",
       "Январь 1994\n",
       "12 лет 5 месяцев</span></span><span style=\"border-bottom: 2px solid #98df8a; padding-bottom: 4px\">\n",
       "\n",
       "</span><span style=\"border-bottom: 2px solid #ffbb78; padding-bottom: 1px\"><span style=\"border-bottom: 2px solid #98df8a; padding-bottom: 4px\">Автотранспортное предприятие 10 ГлавТашкентстроя</span></span><span style=\"border-bottom: 2px solid #98df8a; padding-bottom: 4px\">\n",
       "</span><span style=\"border-bottom: 2px solid #c5b0d5; padding-bottom: 1px\"><span style=\"border-bottom: 2px solid #98df8a; padding-bottom: 4px\">начальник эксплуатации, начальник коллонны</span></span><span style=\"border-bottom: 2px solid #98df8a; padding-bottom: 4px\">\n",
       "</span><span style=\"border-bottom: 2px solid #aec7e8; padding-bottom: 1px\"><span style=\"border-bottom: 2px solid #98df8a; padding-bottom: 4px\">распределение автотранспорта, по организациям, контроль за трудовой дисциплиной\n",
       "водителей, выполнением сменных заданий водителями, руководство коллективом</span></span>\n",
       "\n",
       "</div>"
      ],
      "text/plain": [
       "LineMarkup('Опыт работы - 28 лет 8 месяцев\\nЯнварь 2010 -\\nМарт 2016\\n6 лет 3 месяца\\n\\nООО ТрансРоуд\\nМосква\\n\\nстарший мастер по ремонту автотранспорта\\nконтроль за выполнением качественного ремонта автотранспорта,проведением ТО,\\nруководство персоналом АРМ,соблюдением норм техники безопасности и охраны труда\\n\\nЯнварь 1994 -\\nЯнварь 2004\\n10 лет 1 месяц\\n\\nГУП Тереньгульское АТП\\nУльяновская область\\n\\nГлавный инженер\\nруководство производственной деятельностью АТП, руководство коллективом,\\n\\nСентябрь 1981 -\\nЯнварь 1994\\n12 лет 5 месяцев\\n\\nАвтотранспортное предприятие 10 ГлавТашкентстроя\\nначальник эксплуатации, начальник коллонны\\nраспределение автотранспорта, по организациям, контроль за трудовой дисциплиной\\nводителей, выполнением сменных заданий водителями, руководство коллективом\\n\\n',\n",
       "           [Span(0, 30, 'PERIOD'),\n",
       "            Span(31, 69, 'COMPANY'),\n",
       "            Span(31, 290, 'JOB'),\n",
       "            Span(71, 84, 'COMPANY'),\n",
       "            Span(85, 91, 'LOCATION'),\n",
       "            Span(93, 133, 'POSITION'),\n",
       "            Span(134, 290, 'DESCRIPTION'),\n",
       "            Span(292, 332, 'PERIOD'),\n",
       "            Span(292, 466, 'JOB'),\n",
       "            Span(334, 356, 'COMPANY'),\n",
       "            Span(357, 376, 'LOCATION'),\n",
       "            Span(378, 393, 'POSITION'),\n",
       "            Span(394, 466, 'DESCRIPTION'),\n",
       "            Span(468, 512, 'PERIOD'),\n",
       "            Span(468, 760, 'JOB'),\n",
       "            Span(514, 562, 'COMPANY'),\n",
       "            Span(563, 605, 'POSITION'),\n",
       "            Span(606, 760, 'DESCRIPTION')])"
      ]
     },
     "execution_count": 9,
     "metadata": {},
     "output_type": "execute_result"
    }
   ],
   "source": [
    "LineMarkup(TEXT4, SPANS4)"
   ]
  },
  {
   "cell_type": "markdown",
   "metadata": {},
   "source": [
    "Тогда удобно использовать `LineLabelMarkup`:"
   ]
  },
  {
   "cell_type": "code",
   "execution_count": 10,
   "metadata": {},
   "outputs": [
    {
     "data": {
      "text/html": [
       "<div style=\"line-height: 1.6em; white-space: pre-wrap\"><span style=\"border-bottom: 2px solid #aec7e8; padding-bottom: 1px\">Опыт работы - 28 лет 8 месяцев</span><span style=\"display: inline-block; margin-left: 1px; font-size: 7px;\">PERIOD</span>\n",
       "<span style=\"border-bottom: 2px solid #aec7e8; padding-bottom: 1px\">Январь 2010 -\n",
       "Март 2016\n",
       "6 лет 3 месяца</span><span style=\"display: inline-block; margin-left: 1px; font-size: 7px;\"><span style=\"display: block; height: 7px;\">COMPANY</span><span style=\"display: block; height: 7px;\">JOB</span></span>\n",
       "\n",
       "<span style=\"border-bottom: 2px solid #aec7e8; padding-bottom: 1px\">ООО ТрансРоуд</span><span style=\"display: inline-block; margin-left: 1px; font-size: 7px;\"><span style=\"display: block; height: 7px;\">COMPANY</span><span style=\"display: block; height: 7px;\">JOB</span></span>\n",
       "<span style=\"border-bottom: 2px solid #aec7e8; padding-bottom: 1px\">Москва</span><span style=\"display: inline-block; margin-left: 1px; font-size: 7px;\"><span style=\"display: block; height: 7px;\">LOCATION</span><span style=\"display: block; height: 7px;\">JOB</span></span>\n",
       "\n",
       "<span style=\"border-bottom: 2px solid #aec7e8; padding-bottom: 1px\">старший мастер по ремонту автотранспорта</span><span style=\"display: inline-block; margin-left: 1px; font-size: 7px;\"><span style=\"display: block; height: 7px;\">POSITION</span><span style=\"display: block; height: 7px;\">JOB</span></span>\n",
       "<span style=\"border-bottom: 2px solid #aec7e8; padding-bottom: 1px\">контроль за выполнением качественного ремонта автотранспорта,проведением ТО,\n",
       "руководство персоналом АРМ,соблюдением норм техники безопасности и охраны труда</span><span style=\"display: inline-block; margin-left: 1px; font-size: 7px;\"><span style=\"display: block; height: 7px;\">DESCRIPTION</span><span style=\"display: block; height: 7px;\">JOB</span></span>\n",
       "\n",
       "<span style=\"border-bottom: 2px solid #aec7e8; padding-bottom: 1px\">Январь 1994 -\n",
       "Январь 2004\n",
       "10 лет 1 месяц</span><span style=\"display: inline-block; margin-left: 1px; font-size: 7px;\"><span style=\"display: block; height: 7px;\">PERIOD</span><span style=\"display: block; height: 7px;\">JOB</span></span>\n",
       "\n",
       "<span style=\"border-bottom: 2px solid #aec7e8; padding-bottom: 1px\">ГУП Тереньгульское АТП</span><span style=\"display: inline-block; margin-left: 1px; font-size: 7px;\"><span style=\"display: block; height: 7px;\">COMPANY</span><span style=\"display: block; height: 7px;\">JOB</span></span>\n",
       "<span style=\"border-bottom: 2px solid #aec7e8; padding-bottom: 1px\">Ульяновская область</span><span style=\"display: inline-block; margin-left: 1px; font-size: 7px;\"><span style=\"display: block; height: 7px;\">LOCATION</span><span style=\"display: block; height: 7px;\">JOB</span></span>\n",
       "\n",
       "<span style=\"border-bottom: 2px solid #aec7e8; padding-bottom: 1px\">Главный инженер</span><span style=\"display: inline-block; margin-left: 1px; font-size: 7px;\"><span style=\"display: block; height: 7px;\">POSITION</span><span style=\"display: block; height: 7px;\">JOB</span></span>\n",
       "<span style=\"border-bottom: 2px solid #aec7e8; padding-bottom: 1px\">руководство производственной деятельностью АТП, руководство коллективом,</span><span style=\"display: inline-block; margin-left: 1px; font-size: 7px;\"><span style=\"display: block; height: 7px;\">DESCRIPTION</span><span style=\"display: block; height: 7px;\">JOB</span></span>\n",
       "\n",
       "<span style=\"border-bottom: 2px solid #aec7e8; padding-bottom: 1px\">Сентябрь 1981 -\n",
       "Январь 1994\n",
       "12 лет 5 месяцев</span><span style=\"display: inline-block; margin-left: 1px; font-size: 7px;\"><span style=\"display: block; height: 7px;\">PERIOD</span><span style=\"display: block; height: 7px;\">JOB</span></span>\n",
       "\n",
       "<span style=\"border-bottom: 2px solid #aec7e8; padding-bottom: 1px\">Автотранспортное предприятие 10 ГлавТашкентстроя</span><span style=\"display: inline-block; margin-left: 1px; font-size: 7px;\"><span style=\"display: block; height: 7px;\">COMPANY</span><span style=\"display: block; height: 7px;\">JOB</span></span>\n",
       "<span style=\"border-bottom: 2px solid #aec7e8; padding-bottom: 1px\">начальник эксплуатации, начальник коллонны</span><span style=\"display: inline-block; margin-left: 1px; font-size: 7px;\"><span style=\"display: block; height: 7px;\">POSITION</span><span style=\"display: block; height: 7px;\">JOB</span></span>\n",
       "<span style=\"border-bottom: 2px solid #aec7e8; padding-bottom: 1px\">распределение автотранспорта, по организациям, контроль за трудовой дисциплиной\n",
       "водителей, выполнением сменных заданий водителями, руководство коллективом</span><span style=\"display: inline-block; margin-left: 1px; font-size: 7px;\"><span style=\"display: block; height: 7px;\">DESCRIPTION</span><span style=\"display: block; height: 7px;\">JOB</span></span>\n",
       "\n",
       "</div>"
      ],
      "text/plain": [
       "LineLabelMarkup('Опыт работы - 28 лет 8 месяцев\\nЯнварь 2010 -\\nМарт 2016\\n6 лет 3 месяца\\n\\nООО ТрансРоуд\\nМосква\\n\\nстарший мастер по ремонту автотранспорта\\nконтроль за выполнением качественного ремонта автотранспорта,проведением ТО,\\nруководство персоналом АРМ,соблюдением норм техники безопасности и охраны труда\\n\\nЯнварь 1994 -\\nЯнварь 2004\\n10 лет 1 месяц\\n\\nГУП Тереньгульское АТП\\nУльяновская область\\n\\nГлавный инженер\\nруководство производственной деятельностью АТП, руководство коллективом,\\n\\nСентябрь 1981 -\\nЯнварь 1994\\n12 лет 5 месяцев\\n\\nАвтотранспортное предприятие 10 ГлавТашкентстроя\\nначальник эксплуатации, начальник коллонны\\nраспределение автотранспорта, по организациям, контроль за трудовой дисциплиной\\nводителей, выполнением сменных заданий водителями, руководство коллективом\\n\\n',\n",
       "                [Span(0, 30, 'PERIOD'),\n",
       "                 Span(31, 69, 'COMPANY'),\n",
       "                 Span(31, 290, 'JOB'),\n",
       "                 Span(71, 84, 'COMPANY'),\n",
       "                 Span(85, 91, 'LOCATION'),\n",
       "                 Span(93, 133, 'POSITION'),\n",
       "                 Span(134, 290, 'DESCRIPTION'),\n",
       "                 Span(292, 332, 'PERIOD'),\n",
       "                 Span(292, 466, 'JOB'),\n",
       "                 Span(334, 356, 'COMPANY'),\n",
       "                 Span(357, 376, 'LOCATION'),\n",
       "                 Span(378, 393, 'POSITION'),\n",
       "                 Span(394, 466, 'DESCRIPTION'),\n",
       "                 Span(468, 512, 'PERIOD'),\n",
       "                 Span(468, 760, 'JOB'),\n",
       "                 Span(514, 562, 'COMPANY'),\n",
       "                 Span(563, 605, 'POSITION'),\n",
       "                 Span(606, 760, 'DESCRIPTION')])"
      ]
     },
     "execution_count": 10,
     "metadata": {},
     "output_type": "execute_result"
    }
   ],
   "source": [
    "LineLabelMarkup(TEXT4, SPANS4)"
   ]
  },
  {
   "cell_type": "markdown",
   "metadata": {},
   "source": [
    "И, наконец, бывают ситуации, когда мы не можем использовать HTML. Например, Github вырезает вёрстку из ноутбуков у себя в интерфейсе. На этот случай есть `AsciiMarkup`:"
   ]
  },
  {
   "cell_type": "code",
   "execution_count": 11,
   "metadata": {},
   "outputs": [
    {
     "data": {
      "text/plain": [
       "Секретарь Совета национальной безопасности и обороны (СНБО) Андрей \n",
       "                                                            NAME-- \n",
       "Парубий не исключил скорого введения военного положения в Донбассе. \n",
       "NAME---                                                             \n",
       "Как сообщает «Интерфакс», он уточнил, что речь идет непосредственно о \n",
       "Донецкой и Луганской областях. По словам Парубия, документ о введении \n",
       "военного положения уже подготовлен ведомством. Он предусматривает не \n",
       "только указ президента Украины Петра Порошенко, но и «координацию и \n",
       "                               NAME-----------                      \n",
       "систему управления всех наших подразделений в новой системе \n",
       "координат». Комментируя информацию о возможном введении российских \n",
       "миротворцев на восток страны, Парубий заявил, что эти действия \n",
       "представляют собой прямую агрессию в отношении Украины, сообщает \n",
       "«Сегодня.ua». Он подчеркнул, что решение о введении миротворцев должно\n",
       " приниматься под эгидой ООН. Секретарь СНБО также заявил, что, по его \n",
       "информации, у границы с Украиной дислоцировано около 40 тысяч \n",
       "российских военных. «Опасность штурма есть с первого дня Майдана и не \n",
       "снижалась никогда»,  — резюмировал он. 1 июля парламентская коалиция \n",
       "Верховной Рады потребовала от Порошенко ввести военное положение на \n",
       "NAME----------                NAME-----                             \n",
       "востоке Украины, однако спикер парламента Александр Турчинов заявил, \n",
       "                                          NAME--------------         \n",
       "что немедленное рассмотрение вопроса невозможно. «Военное положение \n",
       "вводится исключительно указом Президента, и в течение двух дней Рада \n",
       "должна одобрить этот указ», — заявил он. В начале июня Турчинов, \n",
       "исполнявший тогда обязанности главы государства, допускал возможность \n",
       "введения военного положения. Принятие решения, однако, было отложено \n",
       "до инаугурации Порошенко. Он со своей стороны поддержал продолжение \n",
       "               NAME-----                                            \n",
       "силовой операции на востоке, одновременно заявив о необходимости \n",
       "прекращения огня в течение недели.\n"
      ]
     },
     "execution_count": 11,
     "metadata": {},
     "output_type": "execute_result"
    }
   ],
   "source": [
    "AsciiMarkup(TEXT5, SPANS5)"
   ]
  },
  {
   "cell_type": "markdown",
   "metadata": {},
   "source": [
    "## Cookbook"
   ]
  },
  {
   "cell_type": "markdown",
   "metadata": {},
   "source": [
    "### Порядок цветов"
   ]
  },
  {
   "cell_type": "markdown",
   "metadata": {},
   "source": [
    "Может так получиться, что при разных запусках программы один и тот же тип спана будет иметь разные цвета. Например, пользователь уже привык, что `Name` синего цвета. Неудобно, когда при следующем запуске `Name` зелёный. Палитра цветов глобальная. Цвета выдаются циклически в порядке обращения. Если в ходе разработки, `Name` встретилось в разметке первым, а при следующем запуске программы вторым, цвета будут разные. Чтобы побороть эту проблему, нужно при инициализации зарегистрировать все возможные типы спанов:"
   ]
  },
  {
   "cell_type": "code",
   "execution_count": 12,
   "metadata": {},
   "outputs": [],
   "source": [
    "from ipymarkup.color import register\n",
    "register('Name')\n",
    "register('Date')"
   ]
  },
  {
   "cell_type": "markdown",
   "metadata": {},
   "source": [
    "### Использование вне Jupyter Notebook"
   ]
  },
  {
   "cell_type": "markdown",
   "metadata": {},
   "source": [
    "Иногда нужно, например, сгенерировать отчёт с разметкой. Вывести всё то же самое, что в Jupyter Notebook, но на отдельной html-странице. Для этого у объектов с разметкой есть атрибут `as_html`:"
   ]
  },
  {
   "cell_type": "code",
   "execution_count": 13,
   "metadata": {},
   "outputs": [
    {
     "data": {
      "text/plain": [
       "['<div class=\"tex2jax_ignore\" style=\"white-space: pre-wrap\">',\n",
       " '',\n",
       " '<span style=\"padding: 0.15em; border-radius: 0.25em; border: 1px solid #c6e1f9; background: #ecf6ff\">',\n",
       " 'a d a b a a a',\n",
       " '</span>',\n",
       " '',\n",
       " '<span style=\"padding: 0.15em; border-radius: 0.25em; border: 1px solid #ffd6d5; background: #fff1f1\">',\n",
       " 'd a b a a a b c c c f d',\n",
       " '</span>',\n",
       " '',\n",
       " '<span style=\"padding: 0.15em; border-radius: 0.25em; border: 1px solid #ffd9b4; background: #fff1e4\">',\n",
       " 'b a a a b',\n",
       " '</span>',\n",
       " ' ',\n",
       " '<span style=\"padding: 0.15em; border-radius: 0.25em; border: 1px solid #afeca3; background: #efffec\">',\n",
       " 'c c c',\n",
       " '</span>',\n",
       " ' ',\n",
       " '<span style=\"padding: 0.15em; border-radius: 0.25em; border: 1px solid #c6e1f9; background: #ecf6ff\">',\n",
       " 'f',\n",
       " '</span>',\n",
       " ' d',\n",
       " '</div>']"
      ]
     },
     "execution_count": 13,
     "metadata": {},
     "output_type": "execute_result"
    }
   ],
   "source": [
    "markup = BoxMarkup(TEXT6, SPANS6)\n",
    "list(markup.as_html)"
   ]
  },
  {
   "cell_type": "markdown",
   "metadata": {},
   "source": [
    "У `AsciiMarkup` есть аналогичный атрибут `as_ascii`:"
   ]
  },
  {
   "cell_type": "code",
   "execution_count": 14,
   "metadata": {},
   "outputs": [
    {
     "data": {
      "text/plain": [
       "['a d a b a a a b c c c f d',\n",
       " 'a------------   c---- f  ',\n",
       " '  d----------------------',\n",
       " '      b--------          ']"
      ]
     },
     "execution_count": 14,
     "metadata": {},
     "output_type": "execute_result"
    }
   ],
   "source": [
    "markup = AsciiMarkup(TEXT6, SPANS6)\n",
    "list(markup.as_ascii)"
   ]
  },
  {
   "cell_type": "markdown",
   "metadata": {},
   "source": [
    "### display"
   ]
  },
  {
   "cell_type": "markdown",
   "metadata": {},
   "source": [
    "Если просто вывести разметку через `print`, она будет выглдятель неправильно:"
   ]
  },
  {
   "cell_type": "code",
   "execution_count": 15,
   "metadata": {},
   "outputs": [
    {
     "name": "stdout",
     "output_type": "stream",
     "text": [
      "AsciiMarkup('a d a b a a a b c c c f d', [Span(0, 13, 'a'), Span(2, 25, 'd'), Span(6, 15, 'b'), Span(16, 21, 'c'), Span(22, 23, 'f')])\n"
     ]
    }
   ],
   "source": [
    "print(markup)"
   ]
  },
  {
   "cell_type": "markdown",
   "metadata": {},
   "source": [
    "Нужно использовать `display`:"
   ]
  },
  {
   "cell_type": "code",
   "execution_count": 16,
   "metadata": {},
   "outputs": [
    {
     "data": {
      "text/plain": [
       "a d a b a a a b c c c f d\n",
       "a------------   c---- f  \n",
       "  d----------------------\n",
       "      b--------          \n"
      ]
     },
     "metadata": {},
     "output_type": "display_data"
    },
    {
     "data": {
      "text/plain": [
       "a d a b a a a b c c c f d\n",
       "a------------   c---- f  \n",
       "  d----------------------\n",
       "      b--------          \n"
      ]
     },
     "metadata": {},
     "output_type": "display_data"
    },
    {
     "data": {
      "text/plain": [
       "a d a b a a a b c c c f d\n",
       "a------------   c---- f  \n",
       "  d----------------------\n",
       "      b--------          \n"
      ]
     },
     "metadata": {},
     "output_type": "display_data"
    }
   ],
   "source": [
    "from IPython.display import display\n",
    "\n",
    "for _ in range(3):\n",
    "    display(markup)"
   ]
  }
 ],
 "metadata": {
  "": {
   "display_name": "Python 3",
   "language": "python",
   "name": "python3"
  },
  "kernelspec": {
   "display_name": "Python 3",
   "language": "python",
   "name": "python3"
  },
  "language_info": {
   "codemirror_mode": {
    "name": "ipython",
    "version": 3
   },
   "file_extension": ".py",
   "mimetype": "text/x-python",
   "name": "python",
   "nbconvert_exporter": "python",
   "pygments_lexer": "ipython3",
   "version": "3.5.1"
  }
 },
 "nbformat": 4,
 "nbformat_minor": 2
}
