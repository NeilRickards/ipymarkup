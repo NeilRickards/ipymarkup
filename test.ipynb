{
 "cells": [
  {
   "cell_type": "code",
   "execution_count": 1,
   "metadata": {},
   "outputs": [],
   "source": [
    "from ipymarkup import (\n",
    "    Span,\n",
    "    BoxMarkup,\n",
    "    LineMarkup,\n",
    "    LineLabelMarkup,\n",
    "    AsciiMarkup,\n",
    ")"
   ]
  },
  {
   "cell_type": "code",
   "execution_count": 2,
   "metadata": {},
   "outputs": [],
   "source": [
    "text = 'a d a b a a a b c c c f d'\n",
    "spans = [\n",
    "    Span(0, 13, 'a'),\n",
    "    Span(2, 25, 'd'),\n",
    "    Span(6, 15, 'b'),\n",
    "    Span(16, 21, 'c'),\n",
    "    Span(22, 23, 'f'),\n",
    "]"
   ]
  },
  {
   "cell_type": "markdown",
   "metadata": {},
   "source": [
    "# Html"
   ]
  },
  {
   "cell_type": "code",
   "execution_count": 3,
   "metadata": {},
   "outputs": [
    {
     "data": {
      "text/html": [
       "<div style=\"white-space: pre-wrap\"><span style=\"padding: 0.15em; border-radius: 0.25em; border: 1px solid #fdf07c; background: #ffffc2\">a d a b a a a</span><span style=\"padding: 0.15em; border-radius: 0.25em; border: 1px solid #c6e1f9; background: #ecf6ff\">d a b a a a b c c c f d</span><span style=\"padding: 0.15em; border-radius: 0.25em; border: 1px solid #ffd9b4; background: #fff1e4\">b a a a b</span> <span style=\"padding: 0.15em; border-radius: 0.25em; border: 1px solid #afeca3; background: #efffec\">c c c</span> <span style=\"padding: 0.15em; border-radius: 0.25em; border: 1px solid #ffd6d5; background: #fff1f1\">f</span> d<div>"
      ],
      "text/plain": [
       "BoxMarkup('a d a b a a a b c c c f d',\n",
       "          [Span(0, 13, 'a'),\n",
       "           Span(2, 25, 'd'),\n",
       "           Span(6, 15, 'b'),\n",
       "           Span(16, 21, 'c'),\n",
       "           Span(22, 23, 'f')])"
      ]
     },
     "execution_count": 3,
     "metadata": {},
     "output_type": "execute_result"
    }
   ],
   "source": [
    "BoxMarkup(text, spans)"
   ]
  },
  {
   "cell_type": "code",
   "execution_count": 4,
   "metadata": {},
   "outputs": [
    {
     "data": {
      "text/html": [
       "<div style=\"line-height: 1.6em; white-space: pre-wrap\"><span style=\"border-bottom: 2px solid #aec7e8; padding-bottom: 1px\">a </span><span style=\"border-bottom: 2px solid #aec7e8; padding-bottom: 1px\"><span style=\"border-bottom: 2px solid #ffbb78; padding-bottom: 4px\">d a </span></span><span style=\"border-bottom: 2px solid #aec7e8; padding-bottom: 1px\"><span style=\"border-bottom: 2px solid #ffbb78; padding-bottom: 4px\"><span style=\"border-bottom: 2px solid #98df8a; padding-bottom: 7px\">b a a a</span></span></span><span style=\"border-bottom: 2px solid #ffbb78; padding-bottom: 4px\"><span style=\"border-bottom: 2px solid #98df8a; padding-bottom: 7px\"> b</span></span><span style=\"border-bottom: 2px solid #ffbb78; padding-bottom: 4px\"> </span><span style=\"border-bottom: 2px solid #ff9896; padding-bottom: 1px\"><span style=\"border-bottom: 2px solid #ffbb78; padding-bottom: 4px\">c c c</span></span><span style=\"border-bottom: 2px solid #ffbb78; padding-bottom: 4px\"> </span><span style=\"border-bottom: 2px solid #c5b0d5; padding-bottom: 1px\"><span style=\"border-bottom: 2px solid #ffbb78; padding-bottom: 4px\">f</span></span><span style=\"border-bottom: 2px solid #ffbb78; padding-bottom: 4px\"> d</span><div>"
      ],
      "text/plain": [
       "LineMarkup('a d a b a a a b c c c f d',\n",
       "           [Span(0, 13, 'a'),\n",
       "            Span(2, 25, 'd'),\n",
       "            Span(6, 15, 'b'),\n",
       "            Span(16, 21, 'c'),\n",
       "            Span(22, 23, 'f')])"
      ]
     },
     "execution_count": 4,
     "metadata": {},
     "output_type": "execute_result"
    }
   ],
   "source": [
    "LineMarkup(text, spans)"
   ]
  },
  {
   "cell_type": "code",
   "execution_count": 5,
   "metadata": {},
   "outputs": [
    {
     "data": {
      "text/html": [
       "<div style=\"line-height: 1.6em; white-space: pre-wrap\"><span style=\"border-bottom: 2px solid #aec7e8; padding-bottom: 1px\">a </span><span style=\"display: inline-block; margin-left: 1px; font-size: 7px;\">a</span><span style=\"border-bottom: 2px solid #aec7e8; padding-bottom: 1px\">d a </span><span style=\"display: inline-block; margin-left: 1px; font-size: 7px;\"><span style=\"display: block; height: 7px;\">a</span><span style=\"display: block; height: 7px;\">d</span></span><span style=\"border-bottom: 2px solid #aec7e8; padding-bottom: 1px\">b a a a</span><span style=\"display: inline-block; margin-left: 1px; font-size: 7px;\"><span style=\"display: block; height: 7px;\">a</span><span style=\"display: block; height: 7px;\">d</span><span style=\"display: block; height: 7px;\">b</span></span><span style=\"border-bottom: 2px solid #aec7e8; padding-bottom: 1px\"> b</span><span style=\"display: inline-block; margin-left: 1px; font-size: 7px;\"><span style=\"display: block; height: 7px;\">d</span><span style=\"display: block; height: 7px;\">b</span></span> <span style=\"border-bottom: 2px solid #aec7e8; padding-bottom: 1px\">c c c</span><span style=\"display: inline-block; margin-left: 1px; font-size: 7px;\"><span style=\"display: block; height: 7px;\">c</span><span style=\"display: block; height: 7px;\">d</span></span> <span style=\"border-bottom: 2px solid #aec7e8; padding-bottom: 1px\">f</span><span style=\"display: inline-block; margin-left: 1px; font-size: 7px;\"><span style=\"display: block; height: 7px;\">f</span><span style=\"display: block; height: 7px;\">d</span></span><span style=\"border-bottom: 2px solid #aec7e8; padding-bottom: 1px\"> d</span><span style=\"display: inline-block; margin-left: 1px; font-size: 7px;\">d</span><div>"
      ],
      "text/plain": [
       "LineLabelMarkup('a d a b a a a b c c c f d',\n",
       "                [Span(0, 13, 'a'),\n",
       "                 Span(2, 25, 'd'),\n",
       "                 Span(6, 15, 'b'),\n",
       "                 Span(16, 21, 'c'),\n",
       "                 Span(22, 23, 'f')])"
      ]
     },
     "execution_count": 5,
     "metadata": {},
     "output_type": "execute_result"
    }
   ],
   "source": [
    "LineLabelMarkup(text, spans)"
   ]
  },
  {
   "cell_type": "markdown",
   "metadata": {},
   "source": [
    "# Ascii"
   ]
  },
  {
   "cell_type": "code",
   "execution_count": 6,
   "metadata": {},
   "outputs": [
    {
     "data": {
      "text/plain": [
       "a d a b a a a b c c c f d\n",
       "a------------   c---- f  \n",
       "  d----------------------\n",
       "      b--------          \n"
      ]
     },
     "execution_count": 6,
     "metadata": {},
     "output_type": "execute_result"
    }
   ],
   "source": [
    "AsciiMarkup(text, spans)"
   ]
  },
  {
   "cell_type": "code",
   "execution_count": 7,
   "metadata": {},
   "outputs": [
    {
     "data": {
      "text/plain": [
       "a d a b \n",
       "a-------\n",
       "  d-----\n",
       "      b-\n",
       "a a a b \n",
       "-----   \n",
       "--------\n",
       "------- \n",
       "c c c f \n",
       "c---- f \n",
       "--------\n",
       "d\n",
       " \n",
       "-\n"
      ]
     },
     "execution_count": 7,
     "metadata": {},
     "output_type": "execute_result"
    }
   ],
   "source": [
    "AsciiMarkup(text, spans, width=8)"
   ]
  },
  {
   "cell_type": "code",
   "execution_count": 8,
   "metadata": {},
   "outputs": [
    {
     "data": {
      "text/plain": [
       "0123456789\n",
       "abc   abcd\n",
       " abcdef-- \n",
       "0123456789\n",
       "-----     \n"
      ]
     },
     "execution_count": 8,
     "metadata": {},
     "output_type": "execute_result"
    }
   ],
   "source": [
    "text = '01234567890123456789'\n",
    "spans = [\n",
    "    Span(6, 15, 'abcdef'),\n",
    "    Span(0, 3, 'abcdef'),\n",
    "    Span(1, 9, 'abcdef')\n",
    "]\n",
    "AsciiMarkup(text, spans, width=10)"
   ]
  },
  {
   "cell_type": "code",
   "execution_count": 9,
   "metadata": {},
   "outputs": [
    {
     "data": {
      "text/plain": [
       "123\n"
      ]
     },
     "execution_count": 9,
     "metadata": {},
     "output_type": "execute_result"
    }
   ],
   "source": [
    "text = '123'\n",
    "spans = []\n",
    "AsciiMarkup(text, spans)"
   ]
  },
  {
   "cell_type": "code",
   "execution_count": 10,
   "metadata": {},
   "outputs": [
    {
     "data": {
      "text/plain": [
       " 1 \n",
       " --\n",
       "34\n",
       "--\n"
      ]
     },
     "execution_count": 10,
     "metadata": {},
     "output_type": "execute_result"
    }
   ],
   "source": [
    "text = '''\\t1\n",
    "34'''\n",
    "spans = [Span(1, 5)]\n",
    "AsciiMarkup(text, spans)"
   ]
  },
  {
   "cell_type": "code",
   "execution_count": 11,
   "metadata": {},
   "outputs": [
    {
     "data": {
      "text/plain": [
       "0123456\n",
       "---    \n",
       "a--    \n",
       "c--    \n",
       "-----  \n"
      ]
     },
     "execution_count": 11,
     "metadata": {},
     "output_type": "execute_result"
    }
   ],
   "source": [
    "text = '''0123456'''\n",
    "spans = [\n",
    "    Span(0, 5),\n",
    "    Span(0, 3),\n",
    "    Span(0, 3, 'a'),\n",
    "    Span(0, 3, 'c')\n",
    "]\n",
    "AsciiMarkup(text, spans)"
   ]
  }
 ],
 "metadata": {
  "kernelspec": {
   "display_name": "mypy3",
   "language": "python",
   "name": "mypy3"
  },
  "language_info": {
   "codemirror_mode": {
    "name": "ipython",
    "version": 3
   },
   "file_extension": ".py",
   "mimetype": "text/x-python",
   "name": "python",
   "nbconvert_exporter": "python",
   "pygments_lexer": "ipython3",
   "version": "3.5.1"
  }
 },
 "nbformat": 4,
 "nbformat_minor": 2
}
