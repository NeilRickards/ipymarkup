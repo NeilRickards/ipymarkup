{
 "cells": [
  {
   "cell_type": "code",
   "execution_count": 1,
   "metadata": {},
   "outputs": [],
   "source": [
    "from ipymarkup import *"
   ]
  },
  {
   "cell_type": "markdown",
   "metadata": {},
   "source": [
    "# Html"
   ]
  },
  {
   "cell_type": "code",
   "execution_count": 2,
   "metadata": {
    "scrolled": true
   },
   "outputs": [
    {
     "data": {
      "text/html": [
       "<table>\n",
       "<tr style=\"background: none\">\n",
       "<td style=\"width: 20%\">\n",
       "BoxMarkup\n",
       "</td>\n",
       "<td style=\"width: 20%\">\n",
       "LineMarkup\n",
       "</td>\n",
       "<td style=\"width: 20%\">\n",
       "AsciiMarkup\n",
       "</td>\n",
       "</tr>\n",
       "<tr style=\"background: none\">\n",
       "<td style=\"width: 20%\">\n",
       "<div class=\"tex2jax_ignore\" style=\"white-space: pre-wrap\"><span style=\"padding: 2px; border-radius: 4px; border: 1px solid #fdf07c; background: #ffffc2\">a a a<span style=\"vertical-align: middle; margin-left: 2px; font-size: 0.7em; color: #c3b95f;\">a</span></span> <span style=\"padding: 2px; border-radius: 4px; border: 1px solid #c6e1f9; background: #ecf6ff\">b b<span style=\"vertical-align: middle; margin-left: 2px; font-size: 0.7em; color: #98bbda;\">b</span></span> <span style=\"padding: 2px; border-radius: 4px; border: 1px solid #ffd9b4; background: #fff1e4\">c c c<span style=\"vertical-align: middle; margin-left: 2px; font-size: 0.7em; color: #ffbb78;\">c</span></span></div>\n",
       "</td>\n",
       "<td style=\"width: 20%\">\n",
       "<div class=\"tex2jax_ignore\" style=\"white-space: pre-wrap\"><div><span style=\"display: inline-block; vertical-align: top\"></span><span style=\"display: inline-block; vertical-align: top; position: relative; margin-bottom: 11px\"><span style=\"border-bottom: 3px solid #aec7e8; padding-bottom: 8px\">a a a</span><span style=\"font-size: 11px; line-height: 1; text-shadow: 1px 1px 0px white; position: absolute; left: 0; bottom: -8px\">a</span></span><span style=\"display: inline-block; vertical-align: top\"> </span><span style=\"display: inline-block; vertical-align: top; position: relative; margin-bottom: 11px\"><span style=\"border-bottom: 3px solid #ffbb78; padding-bottom: 8px\">b b</span><span style=\"font-size: 11px; line-height: 1; text-shadow: 1px 1px 0px white; position: absolute; left: 0; bottom: -8px\">b</span></span><span style=\"display: inline-block; vertical-align: top\"> </span><span style=\"display: inline-block; vertical-align: top; position: relative; margin-bottom: 11px\"><span style=\"border-bottom: 3px solid #98df8a; padding-bottom: 8px\">c c c</span><span style=\"font-size: 11px; line-height: 1; text-shadow: 1px 1px 0px white; position: absolute; left: 0; bottom: -8px\">c</span></span><span style=\"display: inline-block; vertical-align: top\"></span></div></div>\n",
       "</td>\n",
       "<td style=\"width: 20%\">\n",
       "<pre>a a a b b c c c\n",
       "a---- b-- c----</pre>\n",
       "</td>\n",
       "</tr>\n",
       "<tr style=\"background: none\">\n",
       "<td style=\"width: 20%\">\n",
       "<div class=\"tex2jax_ignore\" style=\"white-space: pre-wrap\"><span style=\"padding: 2px; border-radius: 4px; border: 1px solid #fdf07c; background: #ffffc2\">a a a<span style=\"vertical-align: middle; margin-left: 2px; font-size: 0.7em; color: #c3b95f;\">a</span></span> <span style=\"padding: 2px; border-radius: 4px; border: 1px solid #c6e1f9; background: #ecf6ff\">b b<span style=\"vertical-align: middle; margin-left: 2px; font-size: 0.7em; color: #98bbda;\">b</span></span> <span style=\"padding: 2px; border-radius: 4px; border: 1px solid #ffd9b4; background: #fff1e4\">c<span style=\"vertical-align: middle; margin-left: 2px; font-size: 0.7em; color: #ffbb78;\">c</span></span> <span style=\"padding: 2px; border-radius: 4px; border: 1px solid #ffd6d5; background: #fff1f1\">e<span style=\"vertical-align: middle; margin-left: 2px; font-size: 0.7em; color: #ff9896;\">e</span></span> <span style=\"padding: 2px; border-radius: 4px; border: 1px solid #afeca3; background: #efffec\">d d d<span style=\"vertical-align: middle; margin-left: 2px; font-size: 0.7em; color: #98df8a;\">d</span></span> <span style=\"padding: 2px; border-radius: 4px; border: 1px solid #fdf07c; background: #ffffc2\">f f<span style=\"vertical-align: middle; margin-left: 2px; font-size: 0.7em; color: #c3b95f;\">f</span></span> <span style=\"padding: 2px; border-radius: 4px; border: 1px solid #c6e1f9; background: #ecf6ff\">g g<span style=\"vertical-align: middle; margin-left: 2px; font-size: 0.7em; color: #98bbda;\">g</span></span> <span style=\"padding: 2px; border-radius: 4px; border: 1px solid #ffd9b4; background: #fff1e4\">h<span style=\"vertical-align: middle; margin-left: 2px; font-size: 0.7em; color: #ffbb78;\">h</span></span></div>\n",
       "</td>\n",
       "<td style=\"width: 20%\">\n",
       "<div class=\"tex2jax_ignore\" style=\"white-space: pre-wrap\"><div><span style=\"display: inline-block; vertical-align: top\"></span><span style=\"display: inline-block; vertical-align: top; position: relative; margin-bottom: 11px\"><span style=\"border-bottom: 3px solid #aec7e8; padding-bottom: 8px\">a a a</span><span style=\"font-size: 11px; line-height: 1; text-shadow: 1px 1px 0px white; position: absolute; left: 0; bottom: -8px\">a</span></span><span style=\"display: inline-block; vertical-align: top\"> </span><span style=\"display: inline-block; vertical-align: top; position: relative; margin-bottom: 11px\"><span style=\"border-bottom: 3px solid #ffbb78; padding-bottom: 8px\">b b</span><span style=\"font-size: 11px; line-height: 1; text-shadow: 1px 1px 0px white; position: absolute; left: 0; bottom: -8px\">b</span></span><span style=\"display: inline-block; vertical-align: top\"> </span><span style=\"display: inline-block; vertical-align: top; position: relative; margin-bottom: 11px\"><span style=\"border-bottom: 3px solid #98df8a; padding-bottom: 8px\">c</span><span style=\"font-size: 11px; line-height: 1; text-shadow: 1px 1px 0px white; position: absolute; left: 0; bottom: -8px\">c</span></span><span style=\"display: inline-block; vertical-align: top\"> </span><span style=\"display: inline-block; vertical-align: top; position: relative; margin-bottom: 11px\"><span style=\"border-bottom: 3px solid #c5b0d5; padding-bottom: 8px\">e</span><span style=\"font-size: 11px; line-height: 1; text-shadow: 1px 1px 0px white; position: absolute; left: 0; bottom: -8px\">e</span></span><span style=\"display: inline-block; vertical-align: top\"> </span><span style=\"display: inline-block; vertical-align: top; position: relative; margin-bottom: 11px\"><span style=\"border-bottom: 3px solid #ff9896; padding-bottom: 8px\">d d d</span><span style=\"font-size: 11px; line-height: 1; text-shadow: 1px 1px 0px white; position: absolute; left: 0; bottom: -8px\">d</span></span><span style=\"display: inline-block; vertical-align: top\"> </span><span style=\"display: inline-block; vertical-align: top; position: relative; margin-bottom: 11px\"><span style=\"border-bottom: 3px solid #aec7e8; padding-bottom: 8px\">f f</span><span style=\"font-size: 11px; line-height: 1; text-shadow: 1px 1px 0px white; position: absolute; left: 0; bottom: -8px\">f</span></span><span style=\"display: inline-block; vertical-align: top\"> </span><span style=\"display: inline-block; vertical-align: top; position: relative; margin-bottom: 11px\"><span style=\"border-bottom: 3px solid #ffbb78; padding-bottom: 8px\">g g</span><span style=\"font-size: 11px; line-height: 1; text-shadow: 1px 1px 0px white; position: absolute; left: 0; bottom: -8px\">g</span></span><span style=\"display: inline-block; vertical-align: top\"> </span><span style=\"display: inline-block; vertical-align: top; position: relative; margin-bottom: 11px\"><span style=\"border-bottom: 3px solid #98df8a; padding-bottom: 8px\">h</span><span style=\"font-size: 11px; line-height: 1; text-shadow: 1px 1px 0px white; position: absolute; left: 0; bottom: -8px\">h</span></span><span style=\"display: inline-block; vertical-align: top\"></span></div></div>\n",
       "</td>\n",
       "<td style=\"width: 20%\">\n",
       "<pre>a a a b b c e d d d f f g g h\n",
       "a---- b-- c e d---- f-- g-- h</pre>\n",
       "</td>\n",
       "</tr>\n",
       "<tr style=\"background: none\">\n",
       "<td style=\"width: 20%\">\n",
       "<div class=\"tex2jax_ignore\" style=\"white-space: pre-wrap\"><span style=\"padding: 2px; border-radius: 4px; border: 1px solid #fdf07c; background: #ffffc2\">a d a b a a a<span style=\"vertical-align: middle; margin-left: 2px; font-size: 0.7em; color: #c3b95f;\">a</span></span><span style=\"padding: 2px; border-radius: 4px; border: 1px solid #afeca3; background: #efffec\">d a b a a a b c c c f d<span style=\"vertical-align: middle; margin-left: 2px; font-size: 0.7em; color: #98df8a;\">d</span></span><span style=\"padding: 2px; border-radius: 4px; border: 1px solid #c6e1f9; background: #ecf6ff\">b a a a b<span style=\"vertical-align: middle; margin-left: 2px; font-size: 0.7em; color: #98bbda;\">b</span></span> <span style=\"padding: 2px; border-radius: 4px; border: 1px solid #ffd9b4; background: #fff1e4\">c c c<span style=\"vertical-align: middle; margin-left: 2px; font-size: 0.7em; color: #ffbb78;\">c</span></span> <span style=\"padding: 2px; border-radius: 4px; border: 1px solid #fdf07c; background: #ffffc2\">f<span style=\"vertical-align: middle; margin-left: 2px; font-size: 0.7em; color: #c3b95f;\">f</span></span> d</div>\n",
       "</td>\n",
       "<td style=\"width: 20%\">\n",
       "<div class=\"tex2jax_ignore\" style=\"white-space: pre-wrap\"><div><span style=\"display: inline-block; vertical-align: top\"></span><span style=\"display: inline-block; vertical-align: top; position: relative; margin-bottom: 11px\"><span style=\"border-bottom: 3px solid #aec7e8; padding-bottom: 8px\">a </span><span style=\"font-size: 11px; line-height: 1; text-shadow: 1px 1px 0px white; position: absolute; left: 0; bottom: -8px\">a</span></span><span style=\"display: inline-block; vertical-align: top\"></span><span style=\"display: inline-block; vertical-align: top; position: relative; margin-bottom: 22px\"><span style=\"border-bottom: 3px solid #aec7e8; padding-bottom: 8px\"><span style=\"border-bottom: 3px solid #ff9896; padding-bottom: 19px\">d a </span></span><span style=\"font-size: 11px; line-height: 1; text-shadow: 1px 1px 0px white; position: absolute; left: 0; bottom: -19px\">d</span></span><span style=\"display: inline-block; vertical-align: top\"></span><span style=\"display: inline-block; vertical-align: top; position: relative; margin-bottom: 33px\"><span style=\"border-bottom: 3px solid #aec7e8; padding-bottom: 8px\"><span style=\"border-bottom: 3px solid #ff9896; padding-bottom: 19px\"><span style=\"border-bottom: 3px solid #ffbb78; padding-bottom: 30px\">b a a a</span></span></span><span style=\"font-size: 11px; line-height: 1; text-shadow: 1px 1px 0px white; position: absolute; left: 0; bottom: -30px\">b</span></span><span style=\"display: inline-block; vertical-align: top\"></span><span style=\"display: inline-block; vertical-align: top; position: relative; margin-bottom: 33px\"><span style=\"border-bottom: 3px solid #ff9896; padding-bottom: 19px\"><span style=\"border-bottom: 3px solid #ffbb78; padding-bottom: 30px\"> b</span></span></span><span style=\"display: inline-block; vertical-align: top\"></span><span style=\"display: inline-block; vertical-align: top; position: relative; margin-bottom: 22px\"><span style=\"border-bottom: 3px solid #ff9896; padding-bottom: 19px\"> </span></span><span style=\"display: inline-block; vertical-align: top\"></span><span style=\"display: inline-block; vertical-align: top; position: relative; margin-bottom: 22px\"><span style=\"border-bottom: 3px solid #98df8a; padding-bottom: 8px\"><span style=\"border-bottom: 3px solid #ff9896; padding-bottom: 19px\">c c c</span></span><span style=\"font-size: 11px; line-height: 1; text-shadow: 1px 1px 0px white; position: absolute; left: 0; bottom: -8px\">c</span></span><span style=\"display: inline-block; vertical-align: top\"></span><span style=\"display: inline-block; vertical-align: top; position: relative; margin-bottom: 22px\"><span style=\"border-bottom: 3px solid #ff9896; padding-bottom: 19px\"> </span></span><span style=\"display: inline-block; vertical-align: top\"></span><span style=\"display: inline-block; vertical-align: top; position: relative; margin-bottom: 22px\"><span style=\"border-bottom: 3px solid #aec7e8; padding-bottom: 8px\"><span style=\"border-bottom: 3px solid #ff9896; padding-bottom: 19px\">f</span></span><span style=\"font-size: 11px; line-height: 1; text-shadow: 1px 1px 0px white; position: absolute; left: 0; bottom: -8px\">f</span></span><span style=\"display: inline-block; vertical-align: top\"></span><span style=\"display: inline-block; vertical-align: top; position: relative; margin-bottom: 22px\"><span style=\"border-bottom: 3px solid #ff9896; padding-bottom: 19px\"> d</span></span><span style=\"display: inline-block; vertical-align: top\"></span></div></div>\n",
       "</td>\n",
       "<td style=\"width: 20%\">\n",
       "<pre>a d a b a a a b c c c f d\n",
       "a------------   c---- f  \n",
       "  d----------------------\n",
       "      b--------          </pre>\n",
       "</td>\n",
       "</tr>\n",
       "<tr style=\"background: none\">\n",
       "<td style=\"width: 20%\">\n",
       "<div class=\"tex2jax_ignore\" style=\"white-space: pre-wrap\"><span style=\"padding: 2px; border-radius: 4px; border: 1px solid #fdf07c; background: #ffffc2\">a b b c c d e f g h h i i a<span style=\"vertical-align: middle; margin-left: 2px; font-size: 0.7em; color: #c3b95f;\">a</span></span><span style=\"padding: 2px; border-radius: 4px; border: 1px solid #c6e1f9; background: #ecf6ff\">b b<span style=\"vertical-align: middle; margin-left: 2px; font-size: 0.7em; color: #98bbda;\">b</span></span> <span style=\"padding: 2px; border-radius: 4px; border: 1px solid #ffd9b4; background: #fff1e4\">c c<span style=\"vertical-align: middle; margin-left: 2px; font-size: 0.7em; color: #ffbb78;\">c</span></span> <span style=\"padding: 2px; border-radius: 4px; border: 1px solid #afeca3; background: #efffec\">d<span style=\"vertical-align: middle; margin-left: 2px; font-size: 0.7em; color: #98df8a;\">d</span></span> <span style=\"padding: 2px; border-radius: 4px; border: 1px solid #ffd6d5; background: #fff1f1\">e<span style=\"vertical-align: middle; margin-left: 2px; font-size: 0.7em; color: #ff9896;\">e</span></span> <span style=\"padding: 2px; border-radius: 4px; border: 1px solid #fdf07c; background: #ffffc2\">f<span style=\"vertical-align: middle; margin-left: 2px; font-size: 0.7em; color: #c3b95f;\">f</span></span> <span style=\"padding: 2px; border-radius: 4px; border: 1px solid #c6e1f9; background: #ecf6ff\">g<span style=\"vertical-align: middle; margin-left: 2px; font-size: 0.7em; color: #98bbda;\">g</span></span> <span style=\"padding: 2px; border-radius: 4px; border: 1px solid #ffd9b4; background: #fff1e4\">h h<span style=\"vertical-align: middle; margin-left: 2px; font-size: 0.7em; color: #ffbb78;\">h</span></span> <span style=\"padding: 2px; border-radius: 4px; border: 1px solid #afeca3; background: #efffec\">i i<span style=\"vertical-align: middle; margin-left: 2px; font-size: 0.7em; color: #98df8a;\">i</span></span> a</div>\n",
       "</td>\n",
       "<td style=\"width: 20%\">\n",
       "<div class=\"tex2jax_ignore\" style=\"white-space: pre-wrap\"><div><span style=\"display: inline-block; vertical-align: top\"></span><span style=\"display: inline-block; vertical-align: top; position: relative; margin-bottom: 11px\"><span style=\"border-bottom: 3px solid #aec7e8; padding-bottom: 8px\">a </span><span style=\"font-size: 11px; line-height: 1; text-shadow: 1px 1px 0px white; position: absolute; left: 0; bottom: -8px\">a</span></span><span style=\"display: inline-block; vertical-align: top\"></span><span style=\"display: inline-block; vertical-align: top; position: relative; margin-bottom: 22px\"><span style=\"border-bottom: 3px solid #aec7e8; padding-bottom: 8px\"><span style=\"border-bottom: 3px solid #ffbb78; padding-bottom: 19px\">b b</span></span><span style=\"font-size: 11px; line-height: 1; text-shadow: 1px 1px 0px white; position: absolute; left: 0; bottom: -19px\">b</span></span><span style=\"display: inline-block; vertical-align: top\"></span><span style=\"display: inline-block; vertical-align: top; position: relative; margin-bottom: 11px\"><span style=\"border-bottom: 3px solid #aec7e8; padding-bottom: 8px\"> </span></span><span style=\"display: inline-block; vertical-align: top\"></span><span style=\"display: inline-block; vertical-align: top; position: relative; margin-bottom: 22px\"><span style=\"border-bottom: 3px solid #aec7e8; padding-bottom: 8px\"><span style=\"border-bottom: 3px solid #98df8a; padding-bottom: 19px\">c c</span></span><span style=\"font-size: 11px; line-height: 1; text-shadow: 1px 1px 0px white; position: absolute; left: 0; bottom: -19px\">c</span></span><span style=\"display: inline-block; vertical-align: top\"></span><span style=\"display: inline-block; vertical-align: top; position: relative; margin-bottom: 11px\"><span style=\"border-bottom: 3px solid #aec7e8; padding-bottom: 8px\"> </span></span><span style=\"display: inline-block; vertical-align: top\"></span><span style=\"display: inline-block; vertical-align: top; position: relative; margin-bottom: 22px\"><span style=\"border-bottom: 3px solid #aec7e8; padding-bottom: 8px\"><span style=\"border-bottom: 3px solid #ff9896; padding-bottom: 19px\">d</span></span><span style=\"font-size: 11px; line-height: 1; text-shadow: 1px 1px 0px white; position: absolute; left: 0; bottom: -19px\">d</span></span><span style=\"display: inline-block; vertical-align: top\"></span><span style=\"display: inline-block; vertical-align: top; position: relative; margin-bottom: 11px\"><span style=\"border-bottom: 3px solid #aec7e8; padding-bottom: 8px\"> </span></span><span style=\"display: inline-block; vertical-align: top\"></span><span style=\"display: inline-block; vertical-align: top; position: relative; margin-bottom: 22px\"><span style=\"border-bottom: 3px solid #aec7e8; padding-bottom: 8px\"><span style=\"border-bottom: 3px solid #c5b0d5; padding-bottom: 19px\">e</span></span><span style=\"font-size: 11px; line-height: 1; text-shadow: 1px 1px 0px white; position: absolute; left: 0; bottom: -19px\">e</span></span><span style=\"display: inline-block; vertical-align: top\"></span><span style=\"display: inline-block; vertical-align: top; position: relative; margin-bottom: 11px\"><span style=\"border-bottom: 3px solid #aec7e8; padding-bottom: 8px\"> </span></span><span style=\"display: inline-block; vertical-align: top\"></span><span style=\"display: inline-block; vertical-align: top; position: relative; margin-bottom: 22px\"><span style=\"border-bottom: 3px solid #aec7e8; padding-bottom: 8px\"><span style=\"border-bottom: 3px solid #aec7e8; padding-bottom: 19px\">f</span></span><span style=\"font-size: 11px; line-height: 1; text-shadow: 1px 1px 0px white; position: absolute; left: 0; bottom: -19px\">f</span></span><span style=\"display: inline-block; vertical-align: top\"></span><span style=\"display: inline-block; vertical-align: top; position: relative; margin-bottom: 11px\"><span style=\"border-bottom: 3px solid #aec7e8; padding-bottom: 8px\"> </span></span><span style=\"display: inline-block; vertical-align: top\"></span><span style=\"display: inline-block; vertical-align: top; position: relative; margin-bottom: 22px\"><span style=\"border-bottom: 3px solid #aec7e8; padding-bottom: 8px\"><span style=\"border-bottom: 3px solid #ffbb78; padding-bottom: 19px\">g</span></span><span style=\"font-size: 11px; line-height: 1; text-shadow: 1px 1px 0px white; position: absolute; left: 0; bottom: -19px\">g</span></span><span style=\"display: inline-block; vertical-align: top\"></span><span style=\"display: inline-block; vertical-align: top; position: relative; margin-bottom: 11px\"><span style=\"border-bottom: 3px solid #aec7e8; padding-bottom: 8px\"> </span></span><span style=\"display: inline-block; vertical-align: top\"></span><span style=\"display: inline-block; vertical-align: top; position: relative; margin-bottom: 22px\"><span style=\"border-bottom: 3px solid #aec7e8; padding-bottom: 8px\"><span style=\"border-bottom: 3px solid #98df8a; padding-bottom: 19px\">h h</span></span><span style=\"font-size: 11px; line-height: 1; text-shadow: 1px 1px 0px white; position: absolute; left: 0; bottom: -19px\">h</span></span><span style=\"display: inline-block; vertical-align: top\"></span><span style=\"display: inline-block; vertical-align: top; position: relative; margin-bottom: 11px\"><span style=\"border-bottom: 3px solid #aec7e8; padding-bottom: 8px\"> </span></span><span style=\"display: inline-block; vertical-align: top\"></span><span style=\"display: inline-block; vertical-align: top; position: relative; margin-bottom: 22px\"><span style=\"border-bottom: 3px solid #aec7e8; padding-bottom: 8px\"><span style=\"border-bottom: 3px solid #ff9896; padding-bottom: 19px\">i i</span></span><span style=\"font-size: 11px; line-height: 1; text-shadow: 1px 1px 0px white; position: absolute; left: 0; bottom: -19px\">i</span></span><span style=\"display: inline-block; vertical-align: top\"></span><span style=\"display: inline-block; vertical-align: top; position: relative; margin-bottom: 11px\"><span style=\"border-bottom: 3px solid #aec7e8; padding-bottom: 8px\"> a</span></span><span style=\"display: inline-block; vertical-align: top\"></span></div></div>\n",
       "</td>\n",
       "<td style=\"width: 20%\">\n",
       "<pre>a b b c c d e f g h h i i a\n",
       "a--------------------------\n",
       "  b-- c-- d e f g h-- i--  </pre>\n",
       "</td>\n",
       "</tr>\n",
       "</table>"
      ],
      "text/plain": [
       "<IPython.core.display.HTML object>"
      ]
     },
     "metadata": {},
     "output_type": "display_data"
    }
   ],
   "source": [
    "from ipymarkup.example import show_table\n",
    "show_table()"
   ]
  },
  {
   "cell_type": "code",
   "execution_count": 3,
   "metadata": {},
   "outputs": [],
   "source": [
    "from ipymarkup.example import show_html"
   ]
  },
  {
   "cell_type": "code",
   "execution_count": 4,
   "metadata": {},
   "outputs": [
    {
     "data": {
      "text/html": [
       "<div class=\"tex2jax_ignore\" style=\"white-space: pre-wrap\">\n",
       "\n",
       "<span style=\"padding: 2px; border-radius: 4px; border: 1px solid #fdf07c; background: #ffffc2\">\n",
       "&lt;i&gt;\n",
       "</span>\n",
       "abc&lt;/i&gt;\n",
       "</div>"
      ],
      "text/plain": [
       "<IPython.core.display.HTML object>"
      ]
     },
     "metadata": {},
     "output_type": "display_data"
    }
   ],
   "source": [
    "# to hide u' in python2\n",
    "text = '<i>abc</i>'\n",
    "spans = [Span(0, 3)]\n",
    "show_html(BoxMarkup(text, spans).as_html)"
   ]
  },
  {
   "cell_type": "code",
   "execution_count": 5,
   "metadata": {},
   "outputs": [
    {
     "data": {
      "text/html": [
       "<div class=\"tex2jax_ignore\" style=\"white-space: pre-wrap\">\n",
       "\\begin{aligned}\n",
       "  \\nabla \\cdot \\vec{\\mathbf{B}} = 0\n",
       "\\end{aligned}\n",
       "</div>"
      ],
      "text/plain": [
       "<IPython.core.display.HTML object>"
      ]
     },
     "metadata": {},
     "output_type": "display_data"
    }
   ],
   "source": [
    "text = r'''\\begin{aligned}\n",
    "  \\nabla \\cdot \\vec{\\mathbf{B}} = 0\n",
    "\\end{aligned}'''\n",
    "spans = []\n",
    "show_html(BoxMarkup(text, spans).as_html)"
   ]
  },
  {
   "cell_type": "markdown",
   "metadata": {},
   "source": [
    "# Ascii"
   ]
  },
  {
   "cell_type": "code",
   "execution_count": 6,
   "metadata": {},
   "outputs": [
    {
     "data": {
      "text/plain": [
       "a d a b a a a b c c c f d\n",
       "a------------   c---- f  \n",
       "  d----------------------\n",
       "      b--------          \n"
      ]
     },
     "execution_count": 6,
     "metadata": {},
     "output_type": "execute_result"
    }
   ],
   "source": [
    "text = 'a d a b a a a b c c c f d'\n",
    "spans = [\n",
    "    Span(0, 13, 'a'),\n",
    "    Span(2, 25, 'd'),\n",
    "    Span(6, 15, 'b'),\n",
    "    Span(16, 21, 'c'),\n",
    "    Span(22, 23, 'f'),\n",
    "]\n",
    "\n",
    "AsciiMarkup(text, spans)"
   ]
  },
  {
   "cell_type": "code",
   "execution_count": 7,
   "metadata": {},
   "outputs": [
    {
     "data": {
      "text/plain": [
       "a d a b \n",
       "a-------\n",
       "  d-----\n",
       "      b-\n",
       "a a a b \n",
       "-----   \n",
       "--------\n",
       "------- \n",
       "c c c f \n",
       "c---- f \n",
       "--------\n",
       "d\n",
       " \n",
       "-\n"
      ]
     },
     "execution_count": 7,
     "metadata": {},
     "output_type": "execute_result"
    }
   ],
   "source": [
    "AsciiMarkup(text, spans, width=8)"
   ]
  },
  {
   "cell_type": "code",
   "execution_count": 8,
   "metadata": {},
   "outputs": [
    {
     "data": {
      "text/plain": [
       "0123456789\n",
       "abc   abcd\n",
       " abcdef-- \n",
       "0123456789\n",
       "-----     \n"
      ]
     },
     "execution_count": 8,
     "metadata": {},
     "output_type": "execute_result"
    }
   ],
   "source": [
    "text = '01234567890123456789'\n",
    "spans = [\n",
    "    Span(6, 15, 'abcdef'),\n",
    "    Span(0, 3, 'abcdef'),\n",
    "    Span(1, 9, 'abcdef')\n",
    "]\n",
    "AsciiMarkup(text, spans, width=10)"
   ]
  },
  {
   "cell_type": "code",
   "execution_count": 9,
   "metadata": {},
   "outputs": [
    {
     "data": {
      "text/plain": [
       "123\n"
      ]
     },
     "execution_count": 9,
     "metadata": {},
     "output_type": "execute_result"
    }
   ],
   "source": [
    "text = '123'\n",
    "spans = []\n",
    "AsciiMarkup(text, spans)"
   ]
  },
  {
   "cell_type": "code",
   "execution_count": 10,
   "metadata": {},
   "outputs": [
    {
     "data": {
      "text/plain": [
       " 1\n",
       " -\n",
       "34\n",
       "--\n"
      ]
     },
     "execution_count": 10,
     "metadata": {},
     "output_type": "execute_result"
    }
   ],
   "source": [
    "text = '''\\t1\n",
    "34'''\n",
    "spans = [Span(1, 5)]\n",
    "AsciiMarkup(text, spans)"
   ]
  },
  {
   "cell_type": "code",
   "execution_count": 11,
   "metadata": {},
   "outputs": [
    {
     "data": {
      "text/plain": [
       "0123456\n",
       "-----  \n",
       "---    \n",
       "a--    \n",
       "c--    \n"
      ]
     },
     "execution_count": 11,
     "metadata": {},
     "output_type": "execute_result"
    }
   ],
   "source": [
    "text = '''0123456'''\n",
    "spans = [\n",
    "    Span(0, 5),\n",
    "    Span(0, 3),\n",
    "    Span(0, 3, 'a'),\n",
    "    Span(0, 3, 'c')\n",
    "]\n",
    "AsciiMarkup(text, spans)"
   ]
  },
  {
   "cell_type": "code",
   "execution_count": 12,
   "metadata": {},
   "outputs": [
    {
     "data": {
      "text/plain": [
       "0123456\n",
       "-----  \n",
       "---    \n",
       "a--    \n",
       "c--    \n"
      ]
     },
     "execution_count": 12,
     "metadata": {},
     "output_type": "execute_result"
    }
   ],
   "source": [
    "class C(object):\n",
    "    def __init__(self, start, stop, type):\n",
    "        self.start = start\n",
    "        self.stop = stop\n",
    "        self.type = type\n",
    "\n",
    "        \n",
    "spans = [\n",
    "    (0, 5),\n",
    "    [0, 3],\n",
    "    (0, 3, 'a'),\n",
    "    C(0, 3, 'c'),\n",
    "]\n",
    "markup(text, spans, AsciiMarkup)"
   ]
  },
  {
   "cell_type": "code",
   "execution_count": null,
   "metadata": {},
   "outputs": [],
   "source": []
  }
 ],
 "metadata": {
  "": {
   "display_name": "Python 3",
   "language": "python",
   "name": "python3"
  },
  "kernelspec": {
   "display_name": "Python 3",
   "language": "python",
   "name": "python3"
  },
  "language_info": {
   "codemirror_mode": {
    "name": "ipython",
    "version": 3
   },
   "file_extension": ".py",
   "mimetype": "text/x-python",
   "name": "python",
   "nbconvert_exporter": "python",
   "pygments_lexer": "ipython3",
   "version": "3.5.1"
  }
 },
 "nbformat": 4,
 "nbformat_minor": 2
}
